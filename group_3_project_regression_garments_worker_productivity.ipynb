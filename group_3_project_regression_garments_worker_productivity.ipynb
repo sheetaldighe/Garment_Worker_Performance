{
  "nbformat": 4,
  "nbformat_minor": 0,
  "metadata": {
    "colab": {
      "provenance": [],
      "gpuType": "T4",
      "include_colab_link": true
    },
    "kernelspec": {
      "name": "python3",
      "display_name": "Python 3"
    },
    "language_info": {
      "name": "python"
    }
  },
  "cells": [
    {
      "cell_type": "markdown",
      "metadata": {
        "id": "view-in-github",
        "colab_type": "text"
      },
      "source": [
        "<a href=\"https://colab.research.google.com/github/sheetaldighe/Garment_Worker_Performance/blob/main/group_3_project_regression_garments_worker_productivity.ipynb\" target=\"_parent\"><img src=\"https://colab.research.google.com/assets/colab-badge.svg\" alt=\"Open In Colab\"/></a>"
      ]
    },
    {
      "cell_type": "code",
      "execution_count": null,
      "metadata": {
        "id": "Z5IF-DbEqz-7",
        "colab": {
          "base_uri": "https://localhost:8080/"
        },
        "outputId": "1825bdf0-4b69-45eb-886e-c270872a3170"
      },
      "outputs": [
        {
          "output_type": "stream",
          "name": "stdout",
          "text": [
            "Mounted at /content/drive\n"
          ]
        }
      ],
      "source": [
        "from google.colab import drive\n",
        "drive.mount('/content/drive')"
      ]
    },
    {
      "cell_type": "markdown",
      "source": [
        "Import Libraries\n"
      ],
      "metadata": {
        "id": "27WPdRyqwZ94"
      }
    },
    {
      "cell_type": "code",
      "source": [
        "# importting the necessary python libraries\n",
        "import numpy as np\n",
        "import pandas as pd\n",
        "import matplotlib.pyplot as plt\n",
        "import seaborn as sb\n",
        "import zipfile\n",
        "import plotly.express as px\n",
        "from sklearn.linear_model import LinearRegression\n",
        "from sklearn.tree import DecisionTreeRegressor\n",
        "from sklearn.ensemble import RandomForestRegressor\n",
        "from sklearn.svm import SVC\n",
        "from sklearn.model_selection import train_test_split\n",
        "from  sklearn.preprocessing import StandardScaler\n",
        "from sklearn.pipeline import Pipeline\n",
        "import numpy\n",
        "from sklearn.metrics import r2_score , mean_absolute_error,mean_absolute_percentage_error,mean_squared_error\n",
        "from sklearn.neighbors import KNeighborsRegressor\n",
        "from sklearn.model_selection import GridSearchCV\n",
        "%matplotlib inline"
      ],
      "metadata": {
        "id": "8jbL3-2xsW-A"
      },
      "execution_count": null,
      "outputs": []
    },
    {
      "cell_type": "code",
      "source": [
        "Path = \"/content/drive/MyDrive/garments_worker_productivity 2 (2).csv\"\n"
      ],
      "metadata": {
        "id": "XBp_cpkpsw0d"
      },
      "execution_count": null,
      "outputs": []
    },
    {
      "cell_type": "code",
      "source": [
        "df = pd.read_csv(Path, index_col= False)"
      ],
      "metadata": {
        "id": "Eq5eBMn7s_a_"
      },
      "execution_count": null,
      "outputs": []
    },
    {
      "cell_type": "code",
      "source": [
        "df.head(5)"
      ],
      "metadata": {
        "colab": {
          "base_uri": "https://localhost:8080/",
          "height": 226
        },
        "id": "BfCB0YlRtdc4",
        "outputId": "308d7abf-7734-4b95-f454-be1f1ddf0445"
      },
      "execution_count": null,
      "outputs": [
        {
          "output_type": "execute_result",
          "data": {
            "text/plain": [
              "       date   quarter  department       day  team  targeted_productivity  \\\n",
              "0  1/1/2015  Quarter1      sweing  Thursday     8                   0.80   \n",
              "1  1/1/2015  Quarter1  finishing   Thursday     1                   0.75   \n",
              "2  1/1/2015  Quarter1      sweing  Thursday    11                   0.80   \n",
              "3  1/1/2015  Quarter1      sweing  Thursday    12                   0.80   \n",
              "4  1/1/2015  Quarter1      sweing  Thursday     6                   0.80   \n",
              "\n",
              "     smv     wip  over_time  incentive  idle_time  idle_men  \\\n",
              "0  26.16  1108.0       7080         98        0.0         0   \n",
              "1   3.94     NaN        960          0        0.0         0   \n",
              "2  11.41   968.0       3660         50        0.0         0   \n",
              "3  11.41   968.0       3660         50        0.0         0   \n",
              "4  25.90  1170.0       1920         50        0.0         0   \n",
              "\n",
              "   no_of_style_change  no_of_workers  actual_productivity  \n",
              "0                   0           59.0             0.940725  \n",
              "1                   0            8.0             0.886500  \n",
              "2                   0           30.5             0.800570  \n",
              "3                   0           30.5             0.800570  \n",
              "4                   0           56.0             0.800382  "
            ],
            "text/html": [
              "\n",
              "  <div id=\"df-c43eefe9-2d6e-4077-8413-bd008255927c\" class=\"colab-df-container\">\n",
              "    <div>\n",
              "<style scoped>\n",
              "    .dataframe tbody tr th:only-of-type {\n",
              "        vertical-align: middle;\n",
              "    }\n",
              "\n",
              "    .dataframe tbody tr th {\n",
              "        vertical-align: top;\n",
              "    }\n",
              "\n",
              "    .dataframe thead th {\n",
              "        text-align: right;\n",
              "    }\n",
              "</style>\n",
              "<table border=\"1\" class=\"dataframe\">\n",
              "  <thead>\n",
              "    <tr style=\"text-align: right;\">\n",
              "      <th></th>\n",
              "      <th>date</th>\n",
              "      <th>quarter</th>\n",
              "      <th>department</th>\n",
              "      <th>day</th>\n",
              "      <th>team</th>\n",
              "      <th>targeted_productivity</th>\n",
              "      <th>smv</th>\n",
              "      <th>wip</th>\n",
              "      <th>over_time</th>\n",
              "      <th>incentive</th>\n",
              "      <th>idle_time</th>\n",
              "      <th>idle_men</th>\n",
              "      <th>no_of_style_change</th>\n",
              "      <th>no_of_workers</th>\n",
              "      <th>actual_productivity</th>\n",
              "    </tr>\n",
              "  </thead>\n",
              "  <tbody>\n",
              "    <tr>\n",
              "      <th>0</th>\n",
              "      <td>1/1/2015</td>\n",
              "      <td>Quarter1</td>\n",
              "      <td>sweing</td>\n",
              "      <td>Thursday</td>\n",
              "      <td>8</td>\n",
              "      <td>0.80</td>\n",
              "      <td>26.16</td>\n",
              "      <td>1108.0</td>\n",
              "      <td>7080</td>\n",
              "      <td>98</td>\n",
              "      <td>0.0</td>\n",
              "      <td>0</td>\n",
              "      <td>0</td>\n",
              "      <td>59.0</td>\n",
              "      <td>0.940725</td>\n",
              "    </tr>\n",
              "    <tr>\n",
              "      <th>1</th>\n",
              "      <td>1/1/2015</td>\n",
              "      <td>Quarter1</td>\n",
              "      <td>finishing</td>\n",
              "      <td>Thursday</td>\n",
              "      <td>1</td>\n",
              "      <td>0.75</td>\n",
              "      <td>3.94</td>\n",
              "      <td>NaN</td>\n",
              "      <td>960</td>\n",
              "      <td>0</td>\n",
              "      <td>0.0</td>\n",
              "      <td>0</td>\n",
              "      <td>0</td>\n",
              "      <td>8.0</td>\n",
              "      <td>0.886500</td>\n",
              "    </tr>\n",
              "    <tr>\n",
              "      <th>2</th>\n",
              "      <td>1/1/2015</td>\n",
              "      <td>Quarter1</td>\n",
              "      <td>sweing</td>\n",
              "      <td>Thursday</td>\n",
              "      <td>11</td>\n",
              "      <td>0.80</td>\n",
              "      <td>11.41</td>\n",
              "      <td>968.0</td>\n",
              "      <td>3660</td>\n",
              "      <td>50</td>\n",
              "      <td>0.0</td>\n",
              "      <td>0</td>\n",
              "      <td>0</td>\n",
              "      <td>30.5</td>\n",
              "      <td>0.800570</td>\n",
              "    </tr>\n",
              "    <tr>\n",
              "      <th>3</th>\n",
              "      <td>1/1/2015</td>\n",
              "      <td>Quarter1</td>\n",
              "      <td>sweing</td>\n",
              "      <td>Thursday</td>\n",
              "      <td>12</td>\n",
              "      <td>0.80</td>\n",
              "      <td>11.41</td>\n",
              "      <td>968.0</td>\n",
              "      <td>3660</td>\n",
              "      <td>50</td>\n",
              "      <td>0.0</td>\n",
              "      <td>0</td>\n",
              "      <td>0</td>\n",
              "      <td>30.5</td>\n",
              "      <td>0.800570</td>\n",
              "    </tr>\n",
              "    <tr>\n",
              "      <th>4</th>\n",
              "      <td>1/1/2015</td>\n",
              "      <td>Quarter1</td>\n",
              "      <td>sweing</td>\n",
              "      <td>Thursday</td>\n",
              "      <td>6</td>\n",
              "      <td>0.80</td>\n",
              "      <td>25.90</td>\n",
              "      <td>1170.0</td>\n",
              "      <td>1920</td>\n",
              "      <td>50</td>\n",
              "      <td>0.0</td>\n",
              "      <td>0</td>\n",
              "      <td>0</td>\n",
              "      <td>56.0</td>\n",
              "      <td>0.800382</td>\n",
              "    </tr>\n",
              "  </tbody>\n",
              "</table>\n",
              "</div>\n",
              "    <div class=\"colab-df-buttons\">\n",
              "\n",
              "  <div class=\"colab-df-container\">\n",
              "    <button class=\"colab-df-convert\" onclick=\"convertToInteractive('df-c43eefe9-2d6e-4077-8413-bd008255927c')\"\n",
              "            title=\"Convert this dataframe to an interactive table.\"\n",
              "            style=\"display:none;\">\n",
              "\n",
              "  <svg xmlns=\"http://www.w3.org/2000/svg\" height=\"24px\" viewBox=\"0 -960 960 960\">\n",
              "    <path d=\"M120-120v-720h720v720H120Zm60-500h600v-160H180v160Zm220 220h160v-160H400v160Zm0 220h160v-160H400v160ZM180-400h160v-160H180v160Zm440 0h160v-160H620v160ZM180-180h160v-160H180v160Zm440 0h160v-160H620v160Z\"/>\n",
              "  </svg>\n",
              "    </button>\n",
              "\n",
              "  <style>\n",
              "    .colab-df-container {\n",
              "      display:flex;\n",
              "      gap: 12px;\n",
              "    }\n",
              "\n",
              "    .colab-df-convert {\n",
              "      background-color: #E8F0FE;\n",
              "      border: none;\n",
              "      border-radius: 50%;\n",
              "      cursor: pointer;\n",
              "      display: none;\n",
              "      fill: #1967D2;\n",
              "      height: 32px;\n",
              "      padding: 0 0 0 0;\n",
              "      width: 32px;\n",
              "    }\n",
              "\n",
              "    .colab-df-convert:hover {\n",
              "      background-color: #E2EBFA;\n",
              "      box-shadow: 0px 1px 2px rgba(60, 64, 67, 0.3), 0px 1px 3px 1px rgba(60, 64, 67, 0.15);\n",
              "      fill: #174EA6;\n",
              "    }\n",
              "\n",
              "    .colab-df-buttons div {\n",
              "      margin-bottom: 4px;\n",
              "    }\n",
              "\n",
              "    [theme=dark] .colab-df-convert {\n",
              "      background-color: #3B4455;\n",
              "      fill: #D2E3FC;\n",
              "    }\n",
              "\n",
              "    [theme=dark] .colab-df-convert:hover {\n",
              "      background-color: #434B5C;\n",
              "      box-shadow: 0px 1px 3px 1px rgba(0, 0, 0, 0.15);\n",
              "      filter: drop-shadow(0px 1px 2px rgba(0, 0, 0, 0.3));\n",
              "      fill: #FFFFFF;\n",
              "    }\n",
              "  </style>\n",
              "\n",
              "    <script>\n",
              "      const buttonEl =\n",
              "        document.querySelector('#df-c43eefe9-2d6e-4077-8413-bd008255927c button.colab-df-convert');\n",
              "      buttonEl.style.display =\n",
              "        google.colab.kernel.accessAllowed ? 'block' : 'none';\n",
              "\n",
              "      async function convertToInteractive(key) {\n",
              "        const element = document.querySelector('#df-c43eefe9-2d6e-4077-8413-bd008255927c');\n",
              "        const dataTable =\n",
              "          await google.colab.kernel.invokeFunction('convertToInteractive',\n",
              "                                                    [key], {});\n",
              "        if (!dataTable) return;\n",
              "\n",
              "        const docLinkHtml = 'Like what you see? Visit the ' +\n",
              "          '<a target=\"_blank\" href=https://colab.research.google.com/notebooks/data_table.ipynb>data table notebook</a>'\n",
              "          + ' to learn more about interactive tables.';\n",
              "        element.innerHTML = '';\n",
              "        dataTable['output_type'] = 'display_data';\n",
              "        await google.colab.output.renderOutput(dataTable, element);\n",
              "        const docLink = document.createElement('div');\n",
              "        docLink.innerHTML = docLinkHtml;\n",
              "        element.appendChild(docLink);\n",
              "      }\n",
              "    </script>\n",
              "  </div>\n",
              "\n",
              "\n",
              "<div id=\"df-bdc13cd0-a38c-44d0-9470-0e8f96808def\">\n",
              "  <button class=\"colab-df-quickchart\" onclick=\"quickchart('df-bdc13cd0-a38c-44d0-9470-0e8f96808def')\"\n",
              "            title=\"Suggest charts.\"\n",
              "            style=\"display:none;\">\n",
              "\n",
              "<svg xmlns=\"http://www.w3.org/2000/svg\" height=\"24px\"viewBox=\"0 0 24 24\"\n",
              "     width=\"24px\">\n",
              "    <g>\n",
              "        <path d=\"M19 3H5c-1.1 0-2 .9-2 2v14c0 1.1.9 2 2 2h14c1.1 0 2-.9 2-2V5c0-1.1-.9-2-2-2zM9 17H7v-7h2v7zm4 0h-2V7h2v10zm4 0h-2v-4h2v4z\"/>\n",
              "    </g>\n",
              "</svg>\n",
              "  </button>\n",
              "\n",
              "<style>\n",
              "  .colab-df-quickchart {\n",
              "      --bg-color: #E8F0FE;\n",
              "      --fill-color: #1967D2;\n",
              "      --hover-bg-color: #E2EBFA;\n",
              "      --hover-fill-color: #174EA6;\n",
              "      --disabled-fill-color: #AAA;\n",
              "      --disabled-bg-color: #DDD;\n",
              "  }\n",
              "\n",
              "  [theme=dark] .colab-df-quickchart {\n",
              "      --bg-color: #3B4455;\n",
              "      --fill-color: #D2E3FC;\n",
              "      --hover-bg-color: #434B5C;\n",
              "      --hover-fill-color: #FFFFFF;\n",
              "      --disabled-bg-color: #3B4455;\n",
              "      --disabled-fill-color: #666;\n",
              "  }\n",
              "\n",
              "  .colab-df-quickchart {\n",
              "    background-color: var(--bg-color);\n",
              "    border: none;\n",
              "    border-radius: 50%;\n",
              "    cursor: pointer;\n",
              "    display: none;\n",
              "    fill: var(--fill-color);\n",
              "    height: 32px;\n",
              "    padding: 0;\n",
              "    width: 32px;\n",
              "  }\n",
              "\n",
              "  .colab-df-quickchart:hover {\n",
              "    background-color: var(--hover-bg-color);\n",
              "    box-shadow: 0 1px 2px rgba(60, 64, 67, 0.3), 0 1px 3px 1px rgba(60, 64, 67, 0.15);\n",
              "    fill: var(--button-hover-fill-color);\n",
              "  }\n",
              "\n",
              "  .colab-df-quickchart-complete:disabled,\n",
              "  .colab-df-quickchart-complete:disabled:hover {\n",
              "    background-color: var(--disabled-bg-color);\n",
              "    fill: var(--disabled-fill-color);\n",
              "    box-shadow: none;\n",
              "  }\n",
              "\n",
              "  .colab-df-spinner {\n",
              "    border: 2px solid var(--fill-color);\n",
              "    border-color: transparent;\n",
              "    border-bottom-color: var(--fill-color);\n",
              "    animation:\n",
              "      spin 1s steps(1) infinite;\n",
              "  }\n",
              "\n",
              "  @keyframes spin {\n",
              "    0% {\n",
              "      border-color: transparent;\n",
              "      border-bottom-color: var(--fill-color);\n",
              "      border-left-color: var(--fill-color);\n",
              "    }\n",
              "    20% {\n",
              "      border-color: transparent;\n",
              "      border-left-color: var(--fill-color);\n",
              "      border-top-color: var(--fill-color);\n",
              "    }\n",
              "    30% {\n",
              "      border-color: transparent;\n",
              "      border-left-color: var(--fill-color);\n",
              "      border-top-color: var(--fill-color);\n",
              "      border-right-color: var(--fill-color);\n",
              "    }\n",
              "    40% {\n",
              "      border-color: transparent;\n",
              "      border-right-color: var(--fill-color);\n",
              "      border-top-color: var(--fill-color);\n",
              "    }\n",
              "    60% {\n",
              "      border-color: transparent;\n",
              "      border-right-color: var(--fill-color);\n",
              "    }\n",
              "    80% {\n",
              "      border-color: transparent;\n",
              "      border-right-color: var(--fill-color);\n",
              "      border-bottom-color: var(--fill-color);\n",
              "    }\n",
              "    90% {\n",
              "      border-color: transparent;\n",
              "      border-bottom-color: var(--fill-color);\n",
              "    }\n",
              "  }\n",
              "</style>\n",
              "\n",
              "  <script>\n",
              "    async function quickchart(key) {\n",
              "      const quickchartButtonEl =\n",
              "        document.querySelector('#' + key + ' button');\n",
              "      quickchartButtonEl.disabled = true;  // To prevent multiple clicks.\n",
              "      quickchartButtonEl.classList.add('colab-df-spinner');\n",
              "      try {\n",
              "        const charts = await google.colab.kernel.invokeFunction(\n",
              "            'suggestCharts', [key], {});\n",
              "      } catch (error) {\n",
              "        console.error('Error during call to suggestCharts:', error);\n",
              "      }\n",
              "      quickchartButtonEl.classList.remove('colab-df-spinner');\n",
              "      quickchartButtonEl.classList.add('colab-df-quickchart-complete');\n",
              "    }\n",
              "    (() => {\n",
              "      let quickchartButtonEl =\n",
              "        document.querySelector('#df-bdc13cd0-a38c-44d0-9470-0e8f96808def button');\n",
              "      quickchartButtonEl.style.display =\n",
              "        google.colab.kernel.accessAllowed ? 'block' : 'none';\n",
              "    })();\n",
              "  </script>\n",
              "</div>\n",
              "    </div>\n",
              "  </div>\n"
            ]
          },
          "metadata": {},
          "execution_count": 5
        }
      ]
    },
    {
      "cell_type": "code",
      "source": [
        "# checking the rows and columns of thte dataset\n",
        "df.shape"
      ],
      "metadata": {
        "colab": {
          "base_uri": "https://localhost:8080/"
        },
        "id": "i2KRLdY-tlUr",
        "outputId": "af957906-0227-403c-dae0-dfd19703511b"
      },
      "execution_count": null,
      "outputs": [
        {
          "output_type": "execute_result",
          "data": {
            "text/plain": [
              "(1197, 15)"
            ]
          },
          "metadata": {},
          "execution_count": 6
        }
      ]
    },
    {
      "cell_type": "code",
      "source": [
        "corrplot = sb.heatmap(df.corr(), cmap=\"YlGnBu\", annot=True)\n",
        "plt.show()"
      ],
      "metadata": {
        "colab": {
          "base_uri": "https://localhost:8080/",
          "height": 628
        },
        "id": "IcEsD55rQ_8x",
        "outputId": "ee1601d1-b366-46f6-b61f-40c49d95c78d"
      },
      "execution_count": null,
      "outputs": [
        {
          "output_type": "stream",
          "name": "stderr",
          "text": [
            "<ipython-input-7-3e5099b80ef3>:1: FutureWarning: The default value of numeric_only in DataFrame.corr is deprecated. In a future version, it will default to False. Select only valid columns or specify the value of numeric_only to silence this warning.\n",
            "  corrplot = sb.heatmap(df.corr(), cmap=\"YlGnBu\", annot=True)\n"
          ]
        },
        {
          "output_type": "display_data",
          "data": {
            "text/plain": [
              "<Figure size 640x480 with 2 Axes>"
            ],
            "image/png": "[encoded data removed]"
          },
          "metadata": {}
        }
      ]
    },
    {
      "cell_type": "markdown",
      "source": [
        "DATA PREPROCESSING"
      ],
      "metadata": {
        "id": "gyDOJ_yauN3v"
      }
    },
    {
      "cell_type": "code",
      "source": [
        "# info about the data, this can also show us whether there are nan values and how many they are\n",
        "# df.info()"
      ],
      "metadata": {
        "id": "FO-MBL31uKvt"
      },
      "execution_count": null,
      "outputs": []
    },
    {
      "cell_type": "code",
      "source": [
        "df.isnull().sum()"
      ],
      "metadata": {
        "colab": {
          "base_uri": "https://localhost:8080/"
        },
        "id": "EJp2yfMWB2CW",
        "outputId": "9565d154-782d-4483-f035-1dd5c172ce8e"
      },
      "execution_count": null,
      "outputs": [
        {
          "output_type": "execute_result",
          "data": {
            "text/plain": [
              "date                       0\n",
              "quarter                    0\n",
              "department                 0\n",
              "day                        0\n",
              "team                       0\n",
              "targeted_productivity      0\n",
              "smv                        0\n",
              "wip                      506\n",
              "over_time                  0\n",
              "incentive                  0\n",
              "idle_time                  0\n",
              "idle_men                   0\n",
              "no_of_style_change         0\n",
              "no_of_workers              0\n",
              "actual_productivity        0\n",
              "dtype: int64"
            ]
          },
          "metadata": {},
          "execution_count": 9
        }
      ]
    },
    {
      "cell_type": "code",
      "source": [
        "# This code gives us the column in the datset\n",
        "df.columns"
      ],
      "metadata": {
        "colab": {
          "base_uri": "https://localhost:8080/"
        },
        "id": "fmW8y8TcuY4Q",
        "outputId": "4987c06f-d616-45d4-c345-58ba43f0426a"
      },
      "execution_count": null,
      "outputs": [
        {
          "output_type": "execute_result",
          "data": {
            "text/plain": [
              "Index(['date', 'quarter', 'department', 'day', 'team', 'targeted_productivity',\n",
              "       'smv', 'wip', 'over_time', 'incentive', 'idle_time', 'idle_men',\n",
              "       'no_of_style_change', 'no_of_workers', 'actual_productivity'],\n",
              "      dtype='object')"
            ]
          },
          "metadata": {},
          "execution_count": 10
        }
      ]
    },
    {
      "cell_type": "code",
      "source": [
        "\n",
        "#Changing the date to real date_time object\n",
        "df.date = pd.to_datetime(df.date)"
      ],
      "metadata": {
        "id": "wSV830xWucY5"
      },
      "execution_count": null,
      "outputs": []
    },
    {
      "cell_type": "code",
      "source": [
        "# Renaming some columns to a readable column\n",
        "df = df.rename(columns = { \"wip\" :\"work_in_progress\",\n",
        "        \"smv\":  \"standard_minute_value\" })"
      ],
      "metadata": {
        "id": "abzVmzwiuewX"
      },
      "execution_count": null,
      "outputs": []
    },
    {
      "cell_type": "code",
      "source": [
        "# handled the missing data by filling the missing  values with median\n",
        "df.work_in_progress = df.work_in_progress.fillna(df.work_in_progress.median())"
      ],
      "metadata": {
        "id": "vbsMbZuqus_8"
      },
      "execution_count": null,
      "outputs": []
    },
    {
      "cell_type": "code",
      "source": [],
      "metadata": {
        "id": "9NjdqOqcu0Og"
      },
      "execution_count": null,
      "outputs": []
    },
    {
      "cell_type": "markdown",
      "source": [
        "We are still in Data Precessing , so we will be checking some columns to see if there are issues and we will rectify them"
      ],
      "metadata": {
        "id": "KCsM40FAu661"
      }
    },
    {
      "cell_type": "code",
      "source": [
        "df.department.unique()    # we see an issue with this and we are rectifying below"
      ],
      "metadata": {
        "colab": {
          "base_uri": "https://localhost:8080/"
        },
        "id": "yQ_2fbBju4oF",
        "outputId": "85c05fbb-cd6e-4ecd-e586-ed2c56e962c5"
      },
      "execution_count": null,
      "outputs": [
        {
          "output_type": "execute_result",
          "data": {
            "text/plain": [
              "array(['sweing', 'finishing ', 'finishing'], dtype=object)"
            ]
          },
          "metadata": {},
          "execution_count": 14
        }
      ]
    },
    {
      "cell_type": "code",
      "source": [
        "df.department = df.department.replace(to_replace = \"finishing \" , value = \"finishing\")\n",
        "df.department = df.department.replace(to_replace = \"sweing\" , value = \"sewing\")  # There was a aspelling error so we fixed it"
      ],
      "metadata": {
        "id": "AbT0TeVFvHUQ"
      },
      "execution_count": null,
      "outputs": []
    },
    {
      "cell_type": "code",
      "source": [
        "# df.isnull().sum()"
      ],
      "metadata": {
        "id": "i06IK8iKViw0"
      },
      "execution_count": null,
      "outputs": []
    },
    {
      "cell_type": "code",
      "source": [
        "df.department.unique()   # confirmed if the code fixed the problem ----- This is optional"
      ],
      "metadata": {
        "colab": {
          "base_uri": "https://localhost:8080/"
        },
        "id": "J7k0sNMUvKP1",
        "outputId": "0e99760a-7793-4402-9762-74d3facadb1e"
      },
      "execution_count": null,
      "outputs": [
        {
          "output_type": "execute_result",
          "data": {
            "text/plain": [
              "array(['sewing', 'finishing'], dtype=object)"
            ]
          },
          "metadata": {},
          "execution_count": 17
        }
      ]
    },
    {
      "cell_type": "code",
      "source": [
        "# This gives us te statistical summary of our dataset\n",
        "# df.describe().transpose()"
      ],
      "metadata": {
        "id": "uHklS6gxvO_q"
      },
      "execution_count": null,
      "outputs": []
    },
    {
      "cell_type": "code",
      "source": [
        "# Changing the weekdays as 1 and weekends as 0\n",
        "\n",
        "df.day = df.day.replace({\"Wednesday\" : 1,\"Tuesday\": 1,\"Thursday\": 1,\"Monday\": 1\n",
        "                         , \"Sunday\" : 0, \"Saturday\" : 0})"
      ],
      "metadata": {
        "id": "68BA62iuvSOk"
      },
      "execution_count": null,
      "outputs": []
    },
    {
      "cell_type": "code",
      "source": [
        "df.day.unique()    # This  is optional"
      ],
      "metadata": {
        "colab": {
          "base_uri": "https://localhost:8080/"
        },
        "id": "aG3ifMegvfOf",
        "outputId": "24ee0bb9-e894-49b4-9a6a-d668a250bfc3"
      },
      "execution_count": null,
      "outputs": [
        {
          "output_type": "execute_result",
          "data": {
            "text/plain": [
              "array([1, 0])"
            ]
          },
          "metadata": {},
          "execution_count": 20
        }
      ]
    },
    {
      "cell_type": "code",
      "source": [
        "df.dtypes   # Here we see the type of each columns and we see that the columns are the right way\n",
        "#            # but we still fo further to change some"
      ],
      "metadata": {
        "colab": {
          "base_uri": "https://localhost:8080/"
        },
        "id": "crVAr3RLvlJs",
        "outputId": "34034f3d-f922-4a82-f51d-ded840fe023d"
      },
      "execution_count": null,
      "outputs": [
        {
          "output_type": "execute_result",
          "data": {
            "text/plain": [
              "date                     datetime64[ns]\n",
              "quarter                          object\n",
              "department                       object\n",
              "day                               int64\n",
              "team                              int64\n",
              "targeted_productivity           float64\n",
              "standard_minute_value           float64\n",
              "work_in_progress                float64\n",
              "over_time                         int64\n",
              "incentive                         int64\n",
              "idle_time                       float64\n",
              "idle_men                          int64\n",
              "no_of_style_change                int64\n",
              "no_of_workers                   float64\n",
              "actual_productivity             float64\n",
              "dtype: object"
            ]
          },
          "metadata": {},
          "execution_count": 21
        }
      ]
    },
    {
      "cell_type": "markdown",
      "source": [
        "**EDA**"
      ],
      "metadata": {
        "id": "DOSAyZOXwSiE"
      }
    },
    {
      "cell_type": "code",
      "source": [
        "sb.displot(data = df, x= \"targeted_productivity\" , bins = 15 , kde = True);   # semi colon is to not show the necessary information"
      ],
      "metadata": {
        "colab": {
          "base_uri": "https://localhost:8080/",
          "height": 506
        },
        "id": "Tnm-gOvJwUi2",
        "outputId": "aa0e947c-9753-4794-d7e6-f34cebc52dc6"
      },
      "execution_count": null,
      "outputs": [
        {
          "output_type": "display_data",
          "data": {
            "text/plain": [
              "<Figure size 500x500 with 1 Axes>"
            ],
            "image/png": "[encoded data removed]"
          },
          "metadata": {}
        }
      ]
    },
    {
      "cell_type": "code",
      "source": [
        "sb.displot(data = df , x = \"actual_productivity\", bins = 5, kde = True);"
      ],
      "metadata": {
        "colab": {
          "base_uri": "https://localhost:8080/",
          "height": 506
        },
        "id": "1uGvcEdqwXsL",
        "outputId": "2555016d-ce1b-4b8c-fb41-16555d9fe043"
      },
      "execution_count": null,
      "outputs": [
        {
          "output_type": "display_data",
          "data": {
            "text/plain": [
              "<Figure size 500x500 with 1 Axes>"
            ],
            "image/png": "[encoded data removed]"
          },
          "metadata": {}
        }
      ]
    },
    {
      "cell_type": "code",
      "source": [
        "fig = px.box(df, y = \"actual_productivity\" , x = \"department\")\n",
        "fig.show()\n",
        "# So we see the the precise value of the outlier in the actual_productivity column"
      ],
      "metadata": {
        "colab": {
          "base_uri": "https://localhost:8080/",
          "height": 542
        },
        "id": "vT9_tdSMwoF0",
        "outputId": "abf952f6-ec14-43d7-9ea0-0297c1779169"
      },
      "execution_count": null,
      "outputs": [
        {
          "output_type": "display_data",
          "data": {
            "text/html": [
              "<html>\n",
              "<head><meta charset=\"utf-8\" /></head>\n",
              "<body>\n",
              "    <div>            <script src=\"https://cdnjs.cloudflare.com/ajax/libs/mathjax/2.7.5/MathJax.js?config=TeX-AMS-MML_SVG\"></script><script type=\"text/javascript\">if (window.MathJax && window.MathJax.Hub && window.MathJax.Hub.Config) {window.MathJax.Hub.Config({SVG: {font: \"STIX-Web\"}});}</script>                <script type=\"text/javascript\">window.PlotlyConfig = {MathJaxConfig: 'local'};</script>\n",
              "        <script charset=\"utf-8\" src=\"https://cdn.plot.ly/plotly-2.24.1.min.js\"></script>                <div id=\"02bb64ab-b00a-47ca-a0a7-3c1219beda6e\" class=\"plotly-graph-div\" style=\"height:525px; width:100%;\"></div>            <script type=\"text/javascript\">                                    window.PLOTLYENV=window.PLOTLYENV || {};                                    if (document.getElementById(\"02bb64ab-b00a-47ca-a0a7-3c1219beda6e\")) {                    Plotly.newPlot(                        \"02bb64ab-b00a-47ca-a0a7-3c1219beda6e\",                        [{\"alignmentgroup\":\"True\",\"hovertemplate\":\"department=%{x}\\u003cbr\\u003eactual_productivity=%{y}\\u003cextra\\u003e\\u003c\\u002fextra\\u003e\",\"legendgroup\":\"\",\"marker\":{\"color\":\"#636efa\"},\"name\":\"\",\"notched\":false,\"offsetgroup\":\"\",\"orientation\":\"v\",\"showlegend\":false,\"x\":[\"sewing\",\"finishing\",\"sewing\",\"sewing\",\"sewing\",\"sewing\",\"finishing\",\"sewing\",\"sewing\",\"sewing\",\"sewing\",\"sewing\",\"sewing\",\"finishing\",\"finishing\",\"finishing\",\"finishing\",\"sewing\",\"finishing\",\"finishing\",\"finishing\",\"finishing\",\"finishing\",\"finishing\",\"sewing\",\"sewing\",\"sewing\",\"sewing\",\"sewing\",\"sewing\",\"sewing\",\"sewing\",\"sewing\",\"finishing\",\"sewing\",\"finishing\",\"sewing\",\"sewing\",\"finishing\",\"finishing\",\"finishing\",\"finishing\",\"finishing\",\"sewing\",\"finishing\",\"sewing\",\"sewing\",\"sewing\",\"sewing\",\"sewing\",\"sewing\",\"sewing\",\"finishing\",\"finishing\",\"sewing\",\"sewing\",\"sewing\",\"finishing\",\"finishing\",\"sewing\",\"finishing\",\"finishing\",\"finishing\",\"finishing\",\"finishing\",\"sewing\",\"finishing\",\"finishing\",\"sewing\",\"sewing\",\"sewing\",\"sewing\",\"sewing\",\"sewing\",\"sewing\",\"sewing\",\"finishing\",\"finishing\",\"sewing\",\"sewing\",\"finishing\",\"finishing\",\"sewing\",\"finishing\",\"finishing\",\"finishing\",\"finishing\",\"finishing\",\"sewing\",\"sewing\",\"finishing\",\"finishing\",\"sewing\",\"sewing\",\"sewing\",\"sewing\",\"sewing\",\"sewing\",\"sewing\",\"sewing\",\"sewing\",\"finishing\",\"sewing\",\"finishing\",\"finishing\",\"finishing\",\"sewing\",\"sewing\",\"sewing\",\"finishing\",\"finishing\",\"finishing\",\"finishing\",\"finishing\",\"sewing\",\"sewing\",\"sewing\",\"sewing\",\"sewing\",\"sewing\",\"sewing\",\"sewing\",\"finishing\",\"finishing\",\"sewing\",\"finishing\",\"finishing\",\"finishing\",\"sewing\",\"finishing\",\"sewing\",\"sewing\",\"sewing\",\"sewing\",\"finishing\",\"finishing\",\"sewing\",\"sewing\",\"sewing\",\"sewing\",\"sewing\",\"finishing\",\"finishing\",\"finishing\",\"finishing\",\"finishing\",\"sewing\",\"sewing\",\"finishing\",\"finishing\",\"finishing\",\"finishing\",\"sewing\",\"sewing\",\"sewing\",\"finishing\",\"finishing\",\"finishing\",\"sewing\",\"sewing\",\"sewing\",\"sewing\",\"sewing\",\"sewing\",\"sewing\",\"sewing\",\"finishing\",\"finishing\",\"sewing\",\"finishing\",\"finishing\",\"finishing\",\"sewing\",\"finishing\",\"finishing\",\"sewing\",\"sewing\",\"sewing\",\"finishing\",\"finishing\",\"sewing\",\"sewing\",\"sewing\",\"sewing\",\"sewing\",\"finishing\",\"finishing\",\"finishing\",\"sewing\",\"finishing\",\"finishing\",\"sewing\",\"sewing\",\"finishing\",\"finishing\",\"finishing\",\"finishing\",\"finishing\",\"sewing\",\"sewing\",\"sewing\",\"sewing\",\"finishing\",\"finishing\",\"sewing\",\"sewing\",\"sewing\",\"sewing\",\"finishing\",\"sewing\",\"sewing\",\"sewing\",\"finishing\",\"finishing\",\"sewing\",\"finishing\",\"finishing\",\"finishing\",\"finishing\",\"finishing\",\"finishing\",\"sewing\",\"sewing\",\"sewing\",\"sewing\",\"finishing\",\"finishing\",\"sewing\",\"sewing\",\"sewing\",\"sewing\",\"finishing\",\"finishing\",\"finishing\",\"sewing\",\"sewing\",\"sewing\",\"sewing\",\"finishing\",\"finishing\",\"sewing\",\"finishing\",\"finishing\",\"finishing\",\"sewing\",\"sewing\",\"finishing\",\"finishing\",\"sewing\",\"sewing\",\"sewing\",\"sewing\",\"finishing\",\"sewing\",\"sewing\",\"sewing\",\"finishing\",\"sewing\",\"finishing\",\"finishing\",\"finishing\",\"finishing\",\"finishing\",\"finishing\",\"sewing\",\"sewing\",\"sewing\",\"sewing\",\"sewing\",\"sewing\",\"sewing\",\"finishing\",\"sewing\",\"sewing\",\"finishing\",\"sewing\",\"sewing\",\"sewing\",\"finishing\",\"finishing\",\"finishing\",\"finishing\",\"finishing\",\"sewing\",\"sewing\",\"sewing\",\"sewing\",\"sewing\",\"sewing\",\"sewing\",\"sewing\",\"finishing\",\"finishing\",\"sewing\",\"sewing\",\"sewing\",\"finishing\",\"sewing\",\"finishing\",\"finishing\",\"finishing\",\"finishing\",\"sewing\",\"sewing\",\"sewing\",\"sewing\",\"sewing\",\"sewing\",\"finishing\",\"sewing\",\"sewing\",\"sewing\",\"sewing\",\"finishing\",\"sewing\",\"finishing\",\"sewing\",\"finishing\",\"finishing\",\"finishing\",\"finishing\",\"sewing\",\"sewing\",\"sewing\",\"finishing\",\"sewing\",\"sewing\",\"sewing\",\"sewing\",\"sewing\",\"finishing\",\"sewing\",\"sewing\",\"sewing\",\"finishing\",\"finishing\",\"sewing\",\"finishing\",\"sewing\",\"sewing\",\"sewing\",\"sewing\",\"sewing\",\"sewing\",\"sewing\",\"finishing\",\"sewing\",\"sewing\",\"finishing\",\"sewing\",\"sewing\",\"finishing\",\"finishing\",\"finishing\",\"sewing\",\"sewing\",\"finishing\",\"sewing\",\"sewing\",\"sewing\",\"finishing\",\"sewing\",\"sewing\",\"sewing\",\"sewing\",\"sewing\",\"finishing\",\"sewing\",\"finishing\",\"sewing\",\"finishing\",\"finishing\",\"finishing\",\"sewing\",\"sewing\",\"sewing\",\"sewing\",\"sewing\",\"sewing\",\"finishing\",\"sewing\",\"sewing\",\"finishing\",\"finishing\",\"finishing\",\"finishing\",\"sewing\",\"sewing\",\"sewing\",\"sewing\",\"finishing\",\"finishing\",\"finishing\",\"finishing\",\"finishing\",\"finishing\",\"sewing\",\"sewing\",\"finishing\",\"finishing\",\"finishing\",\"finishing\",\"sewing\",\"sewing\",\"sewing\",\"sewing\",\"sewing\",\"sewing\",\"sewing\",\"finishing\",\"sewing\",\"sewing\",\"finishing\",\"finishing\",\"sewing\",\"finishing\",\"finishing\",\"finishing\",\"finishing\",\"finishing\",\"finishing\",\"finishing\",\"sewing\",\"sewing\",\"sewing\",\"sewing\",\"sewing\",\"sewing\",\"finishing\",\"sewing\",\"sewing\",\"sewing\",\"sewing\",\"finishing\",\"sewing\",\"sewing\",\"finishing\",\"finishing\",\"finishing\",\"finishing\",\"finishing\",\"finishing\",\"finishing\",\"sewing\",\"sewing\",\"sewing\",\"sewing\",\"sewing\",\"sewing\",\"finishing\",\"sewing\",\"sewing\",\"sewing\",\"finishing\",\"sewing\",\"sewing\",\"sewing\",\"sewing\",\"finishing\",\"finishing\",\"finishing\",\"sewing\",\"finishing\",\"sewing\",\"finishing\",\"finishing\",\"finishing\",\"sewing\",\"finishing\",\"finishing\",\"sewing\",\"sewing\",\"sewing\",\"sewing\",\"finishing\",\"sewing\",\"sewing\",\"sewing\",\"sewing\",\"finishing\",\"finishing\",\"finishing\",\"sewing\",\"sewing\",\"finishing\",\"sewing\",\"sewing\",\"finishing\",\"sewing\",\"sewing\",\"finishing\",\"finishing\",\"sewing\",\"sewing\",\"sewing\",\"finishing\",\"sewing\",\"finishing\",\"sewing\",\"finishing\",\"sewing\",\"sewing\",\"sewing\",\"finishing\",\"finishing\",\"finishing\",\"finishing\",\"finishing\",\"sewing\",\"sewing\",\"sewing\",\"finishing\",\"sewing\",\"finishing\",\"sewing\",\"sewing\",\"finishing\",\"sewing\",\"sewing\",\"sewing\",\"finishing\",\"finishing\",\"finishing\",\"finishing\",\"finishing\",\"finishing\",\"finishing\",\"finishing\",\"finishing\",\"finishing\",\"finishing\",\"finishing\",\"sewing\",\"sewing\",\"sewing\",\"sewing\",\"sewing\",\"sewing\",\"sewing\",\"sewing\",\"sewing\",\"sewing\",\"finishing\",\"sewing\",\"sewing\",\"finishing\",\"sewing\",\"finishing\",\"finishing\",\"finishing\",\"sewing\",\"sewing\",\"finishing\",\"sewing\",\"sewing\",\"finishing\",\"sewing\",\"sewing\",\"sewing\",\"sewing\",\"finishing\",\"sewing\",\"finishing\",\"sewing\",\"sewing\",\"sewing\",\"finishing\",\"finishing\",\"sewing\",\"sewing\",\"sewing\",\"finishing\",\"sewing\",\"sewing\",\"finishing\",\"finishing\",\"sewing\",\"sewing\",\"finishing\",\"sewing\",\"finishing\",\"sewing\",\"sewing\",\"finishing\",\"finishing\",\"sewing\",\"sewing\",\"finishing\",\"sewing\",\"sewing\",\"finishing\",\"sewing\",\"sewing\",\"sewing\",\"sewing\",\"sewing\",\"finishing\",\"finishing\",\"sewing\",\"sewing\",\"sewing\",\"sewing\",\"finishing\",\"finishing\",\"finishing\",\"sewing\",\"sewing\",\"sewing\",\"finishing\",\"finishing\",\"sewing\",\"sewing\",\"sewing\",\"sewing\",\"finishing\",\"sewing\",\"finishing\",\"sewing\",\"sewing\",\"sewing\",\"sewing\",\"finishing\",\"sewing\",\"finishing\",\"finishing\",\"finishing\",\"finishing\",\"sewing\",\"sewing\",\"finishing\",\"sewing\",\"sewing\",\"sewing\",\"sewing\",\"sewing\",\"sewing\",\"finishing\",\"sewing\",\"sewing\",\"sewing\",\"sewing\",\"finishing\",\"finishing\",\"finishing\",\"sewing\",\"sewing\",\"finishing\",\"sewing\",\"sewing\",\"finishing\",\"sewing\",\"sewing\",\"sewing\",\"finishing\",\"sewing\",\"sewing\",\"finishing\",\"sewing\",\"sewing\",\"sewing\",\"finishing\",\"finishing\",\"finishing\",\"finishing\",\"sewing\",\"sewing\",\"sewing\",\"sewing\",\"sewing\",\"finishing\",\"finishing\",\"sewing\",\"sewing\",\"sewing\",\"finishing\",\"finishing\",\"sewing\",\"sewing\",\"sewing\",\"finishing\",\"sewing\",\"sewing\",\"sewing\",\"sewing\",\"sewing\",\"finishing\",\"sewing\",\"finishing\",\"sewing\",\"sewing\",\"sewing\",\"finishing\",\"finishing\",\"finishing\",\"sewing\",\"sewing\",\"sewing\",\"sewing\",\"finishing\",\"sewing\",\"sewing\",\"finishing\",\"sewing\",\"sewing\",\"sewing\",\"finishing\",\"sewing\",\"finishing\",\"finishing\",\"sewing\",\"sewing\",\"finishing\",\"finishing\",\"sewing\",\"sewing\",\"finishing\",\"finishing\",\"finishing\",\"sewing\",\"sewing\",\"sewing\",\"sewing\",\"sewing\",\"sewing\",\"sewing\",\"finishing\",\"sewing\",\"finishing\",\"sewing\",\"sewing\",\"sewing\",\"finishing\",\"sewing\",\"finishing\",\"sewing\",\"finishing\",\"sewing\",\"sewing\",\"finishing\",\"finishing\",\"sewing\",\"finishing\",\"finishing\",\"sewing\",\"sewing\",\"sewing\",\"sewing\",\"sewing\",\"sewing\",\"sewing\",\"finishing\",\"finishing\",\"finishing\",\"sewing\",\"sewing\",\"finishing\",\"sewing\",\"sewing\",\"finishing\",\"sewing\",\"sewing\",\"sewing\",\"sewing\",\"sewing\",\"finishing\",\"finishing\",\"finishing\",\"finishing\",\"sewing\",\"finishing\",\"sewing\",\"finishing\",\"sewing\",\"finishing\",\"sewing\",\"sewing\",\"sewing\",\"sewing\",\"finishing\",\"finishing\",\"sewing\",\"sewing\",\"sewing\",\"finishing\",\"sewing\",\"sewing\",\"finishing\",\"finishing\",\"finishing\",\"sewing\",\"sewing\",\"sewing\",\"finishing\",\"sewing\",\"sewing\",\"finishing\",\"sewing\",\"finishing\",\"sewing\",\"sewing\",\"sewing\",\"sewing\",\"finishing\",\"sewing\",\"finishing\",\"finishing\",\"finishing\",\"sewing\",\"finishing\",\"sewing\",\"sewing\",\"finishing\",\"sewing\",\"sewing\",\"sewing\",\"finishing\",\"sewing\",\"sewing\",\"sewing\",\"finishing\",\"finishing\",\"sewing\",\"sewing\",\"finishing\",\"finishing\",\"finishing\",\"sewing\",\"sewing\",\"sewing\",\"sewing\",\"sewing\",\"sewing\",\"sewing\",\"finishing\",\"sewing\",\"sewing\",\"finishing\",\"finishing\",\"finishing\",\"finishing\",\"sewing\",\"sewing\",\"finishing\",\"sewing\",\"finishing\",\"sewing\",\"sewing\",\"sewing\",\"sewing\",\"finishing\",\"sewing\",\"finishing\",\"finishing\",\"sewing\",\"sewing\",\"sewing\",\"finishing\",\"finishing\",\"sewing\",\"finishing\",\"sewing\",\"finishing\",\"sewing\",\"sewing\",\"finishing\",\"finishing\",\"finishing\",\"finishing\",\"sewing\",\"sewing\",\"finishing\",\"finishing\",\"sewing\",\"finishing\",\"sewing\",\"sewing\",\"sewing\",\"sewing\",\"sewing\",\"sewing\",\"sewing\",\"finishing\",\"sewing\",\"finishing\",\"finishing\",\"finishing\",\"finishing\",\"finishing\",\"sewing\",\"sewing\",\"sewing\",\"sewing\",\"sewing\",\"sewing\",\"sewing\",\"sewing\",\"sewing\",\"sewing\",\"sewing\",\"finishing\",\"finishing\",\"finishing\",\"finishing\",\"finishing\",\"finishing\",\"sewing\",\"sewing\",\"sewing\",\"finishing\",\"sewing\",\"sewing\",\"sewing\",\"sewing\",\"finishing\",\"finishing\",\"sewing\",\"sewing\",\"sewing\",\"finishing\",\"sewing\",\"finishing\",\"sewing\",\"sewing\",\"finishing\",\"finishing\",\"finishing\",\"finishing\",\"sewing\",\"sewing\",\"sewing\",\"sewing\",\"sewing\",\"sewing\",\"sewing\",\"sewing\",\"sewing\",\"finishing\",\"finishing\",\"sewing\",\"sewing\",\"finishing\",\"finishing\",\"finishing\",\"finishing\",\"finishing\",\"sewing\",\"sewing\",\"sewing\",\"finishing\",\"sewing\",\"sewing\",\"sewing\",\"sewing\",\"sewing\",\"sewing\",\"finishing\",\"finishing\",\"sewing\",\"sewing\",\"finishing\",\"finishing\",\"sewing\",\"finishing\",\"finishing\",\"finishing\",\"finishing\",\"sewing\",\"sewing\",\"sewing\",\"finishing\",\"sewing\",\"sewing\",\"sewing\",\"sewing\",\"sewing\",\"sewing\",\"finishing\",\"finishing\",\"sewing\",\"sewing\",\"sewing\",\"finishing\",\"finishing\",\"finishing\",\"finishing\",\"finishing\",\"finishing\",\"sewing\",\"sewing\",\"sewing\",\"sewing\",\"sewing\",\"sewing\",\"sewing\",\"sewing\",\"sewing\",\"sewing\",\"finishing\",\"finishing\",\"sewing\",\"finishing\",\"sewing\",\"finishing\",\"finishing\",\"finishing\",\"finishing\",\"finishing\",\"finishing\",\"sewing\",\"sewing\",\"finishing\",\"sewing\",\"sewing\",\"sewing\",\"finishing\",\"sewing\",\"sewing\",\"sewing\",\"sewing\",\"sewing\",\"sewing\",\"finishing\",\"finishing\",\"finishing\",\"finishing\",\"finishing\",\"finishing\",\"sewing\",\"sewing\",\"sewing\",\"sewing\",\"sewing\",\"sewing\",\"sewing\",\"sewing\",\"sewing\",\"finishing\",\"sewing\",\"sewing\",\"finishing\",\"finishing\",\"finishing\",\"finishing\",\"finishing\",\"finishing\",\"finishing\",\"sewing\",\"finishing\",\"finishing\",\"finishing\",\"finishing\",\"finishing\",\"finishing\",\"sewing\",\"sewing\",\"sewing\",\"sewing\",\"sewing\",\"sewing\",\"sewing\",\"sewing\",\"sewing\",\"finishing\",\"finishing\",\"finishing\",\"sewing\",\"sewing\",\"sewing\",\"finishing\",\"finishing\",\"finishing\",\"finishing\",\"finishing\",\"finishing\",\"finishing\",\"sewing\",\"sewing\",\"sewing\",\"sewing\",\"sewing\",\"sewing\",\"sewing\",\"sewing\",\"sewing\",\"finishing\",\"sewing\",\"sewing\",\"finishing\",\"sewing\",\"sewing\",\"finishing\",\"finishing\",\"sewing\",\"sewing\",\"sewing\",\"finishing\",\"sewing\",\"sewing\",\"finishing\",\"finishing\",\"finishing\",\"sewing\",\"finishing\",\"finishing\",\"sewing\",\"sewing\",\"finishing\",\"finishing\",\"finishing\",\"finishing\",\"finishing\",\"finishing\",\"finishing\",\"sewing\",\"sewing\",\"sewing\",\"sewing\",\"sewing\",\"finishing\",\"sewing\",\"sewing\",\"sewing\",\"sewing\",\"sewing\",\"sewing\",\"finishing\",\"finishing\",\"finishing\",\"finishing\",\"finishing\",\"finishing\",\"sewing\",\"sewing\",\"finishing\",\"sewing\",\"sewing\",\"sewing\",\"finishing\",\"finishing\",\"finishing\",\"sewing\",\"sewing\",\"sewing\",\"finishing\",\"sewing\",\"sewing\",\"sewing\",\"sewing\",\"finishing\",\"finishing\",\"finishing\",\"finishing\",\"sewing\",\"finishing\",\"finishing\",\"finishing\",\"sewing\",\"finishing\",\"sewing\",\"sewing\",\"sewing\",\"finishing\",\"sewing\",\"sewing\",\"finishing\",\"sewing\",\"sewing\",\"sewing\",\"sewing\",\"sewing\",\"finishing\",\"finishing\",\"finishing\",\"finishing\",\"finishing\",\"finishing\",\"finishing\",\"finishing\",\"sewing\",\"sewing\",\"sewing\",\"finishing\",\"finishing\",\"sewing\",\"sewing\",\"sewing\",\"sewing\",\"sewing\",\"sewing\",\"sewing\",\"sewing\",\"sewing\",\"finishing\",\"finishing\",\"finishing\",\"finishing\",\"finishing\"],\"x0\":\" \",\"xaxis\":\"x\",\"y\":[0.940725424,0.8865,0.800570492,0.800570492,0.800381944,0.800125,0.755166667,0.753683478,0.753097531,0.750427826,0.721126957,0.712205247,0.707045902,0.705916667,0.676666667,0.593055556,0.540729167,0.52118,0.436326389,0.988024691,0.987880435,0.956270833,0.945277778,0.902916667,0.800725314,0.800322936,0.800318644,0.800318644,0.800237288,0.800148649,0.800125,0.800125,0.787299691,0.782447917,0.75024303,0.7018125,0.700134038,0.699965217,0.628333333,0.6253125,0.991388889,0.931645833,0.915229167,0.879714482,0.861679012,0.850569492,0.850436438,0.850345133,0.800598058,0.800318644,0.800237838,0.800030199,0.792104167,0.759228395,0.750348457,0.75024303,0.699965217,0.682708333,0.667604167,0.603432184,0.345833333,0.961059028,0.939513889,0.893663194,0.875390625,0.850569492,0.820833333,0.804416667,0.800684366,0.800684366,0.800318644,0.800250962,0.800246011,0.800246011,0.800076522,0.800076522,0.763375,0.759270833,0.7504,0.75024303,0.676666667,0.664583333,0.600028736,0.966781346,0.936496212,0.899166667,0.888686869,0.858143939,0.850502311,0.850502311,0.809640152,0.805909091,0.800594466,0.800594466,0.800273829,0.800140969,0.800128721,0.800128721,0.80007657,0.750545455,0.750057851,0.681060606,0.649983281,0.61625,0.951420455,0.880530303,0.850502311,0.850502311,0.850136766,0.83,0.827186544,0.813371212,0.805909091,0.804640152,0.800594466,0.800594466,0.800343766,0.800273829,0.800246753,0.800128721,0.8,0.700480831,0.681060606,0.666515152,0.412119835,0.330113636,0.947689394,0.919905405,0.900215716,0.891723485,0.850502311,0.850181818,0.850136766,0.850136766,0.835757576,0.821354167,0.800497246,0.800273829,0.800107143,0.800024932,0.8,0.779791667,0.735984848,0.712626263,0.681060606,0.515606061,0.349951389,0.233705476,0.985,0.930340376,0.911589744,0.858143939,0.851174114,0.850136766,0.850136766,0.846950758,0.817424242,0.817102273,0.801028213,0.800594466,0.800346445,0.800343766,0.800117103,0.8,0.750098351,0.673245283,0.670075758,0.628882576,0.388007813,0.337973485,0.93532197,0.925643939,0.900215716,0.873068182,0.858143939,0.850502311,0.850136766,0.850136766,0.828295455,0.820833333,0.800343766,0.800246753,0.8,0.8,0.690182815,0.668087121,0.653598485,0.609138258,0.600229846,0.597348485,0.590435606,0.473134796,0.452979626,0.955151515,0.942213805,0.905454545,0.880530303,0.858143939,0.850522167,0.850502311,0.850136766,0.850136766,0.817424242,0.809564394,0.800273829,0.800181818,0.80007657,0.8,0.725,0.688557555,0.650040783,0.64998056,0.648106061,0.640577652,0.35063299,0.24625,0.952020202,0.951420455,0.912766667,0.901262626,0.858143939,0.850502311,0.850502311,0.850252525,0.850136766,0.821354167,0.805909091,0.800246753,0.800246753,0.8,0.705576584,0.681060606,0.670075758,0.601278409,0.582301029,0.526810345,0.500380799,0.35020649,0.934607438,0.908080808,0.900144811,0.891723485,0.864583333,0.858143939,0.850502311,0.850136766,0.837594697,0.820833333,0.800313433,0.800246753,0.800117103,0.700095563,0.667329545,0.600369686,0.499980334,0.35003125,0.332359307,0.311207464,0.247316017,0.988636364,0.953110048,0.884261364,0.860653409,0.858143939,0.850502311,0.850415628,0.850136766,0.800117103,0.80003139,0.80003139,0.700060345,0.689299242,0.660683293,0.650130952,0.606912879,0.600291767,0.500025069,0.499998888,0.98719697,0.980909091,0.974621212,0.884261364,0.82680303,0.800343766,0.800246753,0.800128721,0.800128721,0.800117103,0.800117103,0.77011398,0.7005417,0.675568182,0.661837121,0.650198653,0.600291767,0.600273268,0.465757576,0.452012539,0.313852814,0.852793561,0.838383838,0.804848485,0.800343766,0.800128721,0.800128721,0.800015009,0.7005417,0.700094156,0.692045455,0.662255892,0.650416734,0.650299575,0.650243497,0.639867424,0.600062696,0.582045455,0.403242161,0.235795455,0.977272727,0.964106061,0.958901515,0.800358775,0.800162602,0.800117103,0.793844697,0.750517565,0.750068049,0.750062751,0.750057359,0.700170388,0.683806818,0.650066445,0.576460393,0.549969429,0.538399621,0.409545455,0.35021836,1.033570076,0.800261486,0.800128721,0.800117103,0.750068049,0.750057359,0.750037968,0.750031898,0.72830303,0.700170388,0.700063796,0.639867424,0.500290419,0.400332792,0.362666667,0.978525641,0.912202112,0.900556277,0.850410511,0.827147436,0.800436542,0.800415742,0.800020563,0.758173077,0.750344828,0.750068049,0.700170388,0.700029771,0.60017284,0.594871795,0.520237649,0.505128205,0.500241342,0.470769231,0.957638889,0.940701058,0.849983766,0.800302791,0.800191989,0.800020563,0.750162367,0.750068049,0.742901235,0.700250784,0.700170388,0.670216049,0.649662222,0.649662222,0.626822917,0.600436426,0.60041361,0.555500132,0.500547544,0.460578704,0.397743056,0.327407407,0.966666667,0.937242424,0.910521886,0.90064806,0.900321106,0.896022727,0.895454545,0.870580808,0.858585859,0.800643806,0.80062987,0.800537143,0.80035194,0.750079323,0.750041201,0.700250784,0.651515152,0.650416734,0.600125217,0.578314394,0.578314394,0.34998951,0.261174242,0.973796791,0.970075758,0.970075758,0.961784512,0.955151515,0.952020202,0.900321106,0.850223776,0.800909609,0.800513307,0.800386364,0.800020563,0.749188312,0.7005417,0.70043672,0.700250784,0.650407524,0.618181818,0.59114168,0.500061916,0.329545455,1.059621212,0.997792208,0.963699495,0.959191919,0.910378788,0.910378788,0.850312684,0.800386364,0.80035194,0.800034024,0.800023511,0.800020563,0.769292929,0.750031447,0.70061442,0.70043672,0.646306818,0.600143365,0.350066986,1.000230409,1.000230409,0.979527778,0.940625,0.926388889,0.900129762,0.861875,0.850312684,0.845458333,0.823555556,0.803541667,0.800263218,0.788,0.77815,0.700386207,0.700164706,0.650307143,0.622828125,0.6225,0.500035345,0.37046657,1.000230409,1.000230409,0.977555556,0.9456,0.902222222,0.850532143,0.850362069,0.840533333,0.800534483,0.800489676,0.755555556,0.750593103,0.750283333,0.722638889,0.553333333,0.500567308,0.467693269,0.437995338,0.406354167,0.285333333,0.259375,1.000230409,0.989,0.950185965,0.9008,0.900129762,0.899,0.877552083,0.864583333,0.85695,0.853666667,0.850362069,0.850170115,0.800473729,0.773333333,0.750646667,0.634666667,0.60059761,0.500117677,0.4925,0.48792,1.000457471,1.000230409,0.971866667,0.971866667,0.971866667,0.971866667,0.971866667,0.971866667,0.971866667,0.971866667,0.971866667,0.971866667,0.971866667,0.971866667,0.920236905,0.900537069,0.850610526,0.850362069,0.750646667,0.656763743,0.650148148,0.600710606,0.388830357,0.286984568,1.0115625,1.000671304,1.000402055,0.950438596,0.950185965,0.912766667,0.892194444,0.8865,0.850532143,0.85011396,0.845069444,0.750593103,0.750450658,0.702666667,0.700508929,0.651007071,0.466821212,0.411553571,0.314166667,1.000602279,0.994270833,0.900158405,0.90014152,0.900129762,0.85695,0.809236111,0.800401961,0.800393224,0.799963218,0.740444444,0.700398148,0.700354545,0.561979167,0.504596491,0.500801724,0.295307738,0.280333333,0.260978788,1.001416667,1.000018551,0.999995238,0.99485,0.976979167,0.950185965,0.949981609,0.919954545,0.800434622,0.800259023,0.778222222,0.750593103,0.700513566,0.700184577,0.586465465,0.541517857,0.5375,0.495416667,0.415172414,1.05028058,1.000230409,0.999995238,0.966759259,0.929183333,0.915766667,0.900147246,0.800401961,0.799963218,0.779791667,0.755166667,0.700710417,0.700612069,0.700278846,0.700135088,0.687555556,0.650834808,0.531666667,0.350706422,1.000446018,1.000018551,0.999995238,0.999924242,0.950185965,0.9425,0.906666667,0.8471,0.845458333,0.800612676,0.799963218,0.771583333,0.7504,0.700079032,0.562212644,0.522844828,0.500720126,0.496549708,1.050666667,1.000018551,0.950185965,0.900135693,0.900129762,0.899111111,0.870083333,0.845833333,0.800401961,0.799963218,0.771583333,0.750520115,0.750027778,0.715766667,0.662270115,0.600224189,0.545657673,0.447916667,0.365318713,1.000018551,0.928680556,0.9008,0.900135693,0.900129762,0.893066667,0.891555556,0.875555556,0.840888889,0.800355208,0.799963218,0.75065101,0.750027778,0.700618234,0.610208333,0.607416667,0.568259587,0.355534483,0.353259649,1.057962963,0.962016667,0.9008,0.900509044,0.900477825,0.888125,0.800401961,0.800161172,0.799963218,0.790003236,0.750648148,0.707111111,0.700618234,0.697708333,0.612517157,0.350301724,0.350301724,0.272,1.004888889,0.966759259,0.90063244,0.90047076,0.90047076,0.899984058,0.853666667,0.8008,0.800401961,0.796755556,0.750797009,0.750648148,0.750356125,0.703770833,0.700618234,0.6895,0.628333333,0.500801724,0.393548851,1.033155556,1.02,1.000344928,1.000065789,0.994375,0.912037037,0.87,0.850364583,0.800947475,0.800401961,0.800144144,0.750406233,0.714410494,0.700588406,0.618361111,0.600070513,0.54175,0.536901754,0.507903226,1.100483918,1.096633333,1.000344928,0.838666667,0.800401961,0.755486111,0.750799435,0.688017677,0.664875,0.656666667,0.637711864,0.601944444,0.58,0.535677966,0.50012336,0.497885057,0.463403955,0.441392,0.350301724,1.000230409,0.929277778,0.902916667,0.800888889,0.800401961,0.80037492,0.796208333,0.750392157,0.750392157,0.725625,0.700206125,0.602,0.600447507,0.557252451,0.500801724,0.483333333,0.238041667,1.1204375,1.108125,1.000230409,0.876444444,0.800806306,0.760833333,0.722568627,0.715333333,0.700632768,0.700573099,0.681598039,0.650223718,0.605208333,0.604166667,0.598627451,0.475718391,0.432122899,0.287041667,0.283054487,1.000230409,0.960433333,0.891555556,0.864583333,0.802243319,0.800980392,0.800312375,0.773333333,0.75065101,0.750356125,0.722333333,0.700459889,0.629416667,0.621971751,0.565972222,0.35542803,0.329964879,0.258,1.000230409,0.927541667,0.91375,0.9025,0.800401961,0.7866,0.750621354,0.750356125,0.749166667,0.700888203,0.700614035,0.700603448,0.656666667,0.653431373,0.650134,0.600982906,0.586041667,0.5814,0.361071429,0.302117347,0.9918,0.936861111,0.919125,0.8211125,0.800980392,0.800980392,0.800401961,0.800279693,0.75065101,0.75053268,0.734645833,0.700603448,0.70009573,0.671875,0.64025,0.58,0.549791667,0.328131579,0.303574468,0.2565,0.251399254,0.81640625,0.800711494,0.800470513,0.800094017,0.799982853,0.785864198,0.75065101,0.733277778,0.710125,0.700603448,0.700540441,0.7,0.684027778,0.672135417,0.638614379,0.631354167,0.611140537,0.609583333,0.585315789,0.249416667,0.8721,0.8319375,0.8300625,0.805555556,0.800401961,0.80000295,0.78375,0.753525,0.75065101,0.727349537,0.700614035,0.700605263,0.672140805,0.627011183,0.626577778,0.456875,0.393548851,0.385791667,0.307501459,0.283958333,0.955791667,0.930416667,0.9025,0.87115,0.800401961,0.800137255,0.800137255,0.750770115,0.75065101,0.750293939,0.700623,0.700614035,0.700362069,0.60128,0.417916667,0.3715625,0.3715625,0.36871875,0.356458333,0.902222222,0.811388889,0.800401961,0.800137255,0.800071839,0.791458333,0.750727326,0.75065101,0.750437269,0.750176991,0.726933333,0.726933333,0.700623,0.700518519,0.700256795,0.5046875,0.471108491,0.325,0.268214286,0.970816667,0.902962963,0.900833333,0.899555556,0.845833333,0.800808642,0.800401961,0.800115819,0.75065101,0.750503571,0.750206897,0.700362069,0.700069811,0.700058333,0.676666667,0.658541667,0.598792339,0.581130952,0.440375,0.410833333,0.410833333,0.921703704,0.921604938,0.800808642,0.800516667,0.800401961,0.768847222,0.75065101,0.750473684,0.750371895,0.750206897,0.700251773,0.66237931,0.590617284,0.5565625,0.495617514,0.449964912,0.410833333,0.4078125,0.378895152,0.376597222,0.271875,0.921703704,0.921604938,0.800779018,0.800260821,0.799982853,0.768847222,0.750716981,0.75065101,0.750425926,0.750395513,0.700236601,0.700211111,0.590617284,0.5565625,0.550403509,0.550349708,0.500258046,0.410833333,0.4078125,0.376597222,0.271875,0.936355556,0.813611111,0.800401961,0.75075,0.75065101,0.750473684,0.750395513,0.707446429,0.700236601,0.700019883,0.683550607,0.682433036,0.673083333,0.664583333,0.600239766,0.585,0.579511494,0.448722222,0.447083333,0.350416667,0.92885,0.86037037,0.806879167,0.800579532,0.800401961,0.8004,0.800309211,0.800149813,0.800115819,0.773333333,0.750797009,0.750473684,0.750395513,0.750254867,0.700903571,0.70013604,0.632361111,0.607654321,0.537919444,0.342361111,0.999533333,0.902962963,0.800701754,0.800566092,0.800401961,0.800333333,0.800115819,0.750770115,0.750473684,0.750395513,0.750212553,0.702777778,0.700659649,0.699984417,0.636049383,0.567377778,0.555430556,0.555430556,0.463194444,0.354444444,0.309333333,0.30277037,0.939166667,0.930416667,0.885925926,0.83375,0.806879167,0.806058333,0.800701754,0.800401961,0.800333333,0.800055762,0.799975862,0.750651724,0.750395513,0.700424138,0.700058333,0.684888889,0.592083333,0.5403125,0.433263158,0.404144928,0.332146465,0.980984848,0.950625,0.927291667,0.868888889,0.812625,0.812625,0.810111111,0.800701754,0.800534979,0.800401961,0.750651724,0.750395513,0.750050847,0.700424138,0.700422,0.600099145,0.453125,0.366053523,0.26369382,0.868888889,0.850520588,0.850045,0.825444444,0.80575,0.800746552,0.800578947,0.800034503,0.7975,0.749987124,0.700422,0.664875,0.664875,0.657083333,0.65024031,0.590740741,0.528125,0.500528095,0.408960345,0.951944444,0.945555556,0.929074074,0.890604167,0.890604167,0.884,0.857916667,0.850084211,0.85007069,0.800511068,0.800401961,0.800034503,0.755208333,0.750371895,0.700422,0.700106061,0.601037091,0.600528571,0.500033898,0.4509375,0.441041667,0.271875,0.960625,0.902962963,0.864342593,0.850446154,0.850426891,0.841,0.800842424,0.800401961,0.800034503,0.795416667,0.7953875,0.794566667,0.750395513,0.700516224,0.700422,0.6825,0.650962281,0.650421429,0.600040678,0.500610909,0.477291667,0.2640625,0.92,0.909391667,0.900061017,0.894444444,0.881575,0.880754167,0.850084211,0.821666667,0.800401961,0.800071839,0.800034503,0.758229167,0.750608,0.750395513,0.741,0.700505263,0.700246491,0.700051852,0.650044068,0.630402924,0.560625,0.560625,0.39875,0.922839506,0.874027778,0.819270833,0.813309028,0.812625,0.800401961,0.800071839,0.800034503,0.786631944,0.75885,0.750608,0.750347333,0.750140741,0.750050847,0.750050847,0.700556897,0.700505263,0.700246491,0.650596491,0.628333333,0.625625,0.625625,0.505888889,0.394722222],\"y0\":\" \",\"yaxis\":\"y\",\"type\":\"box\"}],                        {\"template\":{\"data\":{\"histogram2dcontour\":[{\"type\":\"histogram2dcontour\",\"colorbar\":{\"outlinewidth\":0,\"ticks\":\"\"},\"colorscale\":[[0.0,\"#0d0887\"],[0.1111111111111111,\"#46039f\"],[0.2222222222222222,\"#7201a8\"],[0.3333333333333333,\"#9c179e\"],[0.4444444444444444,\"#bd3786\"],[0.5555555555555556,\"#d8576b\"],[0.6666666666666666,\"#ed7953\"],[0.7777777777777778,\"#fb9f3a\"],[0.8888888888888888,\"#fdca26\"],[1.0,\"#f0f921\"]]}],\"choropleth\":[{\"type\":\"choropleth\",\"colorbar\":{\"outlinewidth\":0,\"ticks\":\"\"}}],\"histogram2d\":[{\"type\":\"histogram2d\",\"colorbar\":{\"outlinewidth\":0,\"ticks\":\"\"},\"colorscale\":[[0.0,\"#0d0887\"],[0.1111111111111111,\"#46039f\"],[0.2222222222222222,\"#7201a8\"],[0.3333333333333333,\"#9c179e\"],[0.4444444444444444,\"#bd3786\"],[0.5555555555555556,\"#d8576b\"],[0.6666666666666666,\"#ed7953\"],[0.7777777777777778,\"#fb9f3a\"],[0.8888888888888888,\"#fdca26\"],[1.0,\"#f0f921\"]]}],\"heatmap\":[{\"type\":\"heatmap\",\"colorbar\":{\"outlinewidth\":0,\"ticks\":\"\"},\"colorscale\":[[0.0,\"#0d0887\"],[0.1111111111111111,\"#46039f\"],[0.2222222222222222,\"#7201a8\"],[0.3333333333333333,\"#9c179e\"],[0.4444444444444444,\"#bd3786\"],[0.5555555555555556,\"#d8576b\"],[0.6666666666666666,\"#ed7953\"],[0.7777777777777778,\"#fb9f3a\"],[0.8888888888888888,\"#fdca26\"],[1.0,\"#f0f921\"]]}],\"heatmapgl\":[{\"type\":\"heatmapgl\",\"colorbar\":{\"outlinewidth\":0,\"ticks\":\"\"},\"colorscale\":[[0.0,\"#0d0887\"],[0.1111111111111111,\"#46039f\"],[0.2222222222222222,\"#7201a8\"],[0.3333333333333333,\"#9c179e\"],[0.4444444444444444,\"#bd3786\"],[0.5555555555555556,\"#d8576b\"],[0.6666666666666666,\"#ed7953\"],[0.7777777777777778,\"#fb9f3a\"],[0.8888888888888888,\"#fdca26\"],[1.0,\"#f0f921\"]]}],\"contourcarpet\":[{\"type\":\"contourcarpet\",\"colorbar\":{\"outlinewidth\":0,\"ticks\":\"\"}}],\"contour\":[{\"type\":\"contour\",\"colorbar\":{\"outlinewidth\":0,\"ticks\":\"\"},\"colorscale\":[[0.0,\"#0d0887\"],[0.1111111111111111,\"#46039f\"],[0.2222222222222222,\"#7201a8\"],[0.3333333333333333,\"#9c179e\"],[0.4444444444444444,\"#bd3786\"],[0.5555555555555556,\"#d8576b\"],[0.6666666666666666,\"#ed7953\"],[0.7777777777777778,\"#fb9f3a\"],[0.8888888888888888,\"#fdca26\"],[1.0,\"#f0f921\"]]}],\"surface\":[{\"type\":\"surface\",\"colorbar\":{\"outlinewidth\":0,\"ticks\":\"\"},\"colorscale\":[[0.0,\"#0d0887\"],[0.1111111111111111,\"#46039f\"],[0.2222222222222222,\"#7201a8\"],[0.3333333333333333,\"#9c179e\"],[0.4444444444444444,\"#bd3786\"],[0.5555555555555556,\"#d8576b\"],[0.6666666666666666,\"#ed7953\"],[0.7777777777777778,\"#fb9f3a\"],[0.8888888888888888,\"#fdca26\"],[1.0,\"#f0f921\"]]}],\"mesh3d\":[{\"type\":\"mesh3d\",\"colorbar\":{\"outlinewidth\":0,\"ticks\":\"\"}}],\"scatter\":[{\"fillpattern\":{\"fillmode\":\"overlay\",\"size\":10,\"solidity\":0.2},\"type\":\"scatter\"}],\"parcoords\":[{\"type\":\"parcoords\",\"line\":{\"colorbar\":{\"outlinewidth\":0,\"ticks\":\"\"}}}],\"scatterpolargl\":[{\"type\":\"scatterpolargl\",\"marker\":{\"colorbar\":{\"outlinewidth\":0,\"ticks\":\"\"}}}],\"bar\":[{\"error_x\":{\"color\":\"#2a3f5f\"},\"error_y\":{\"color\":\"#2a3f5f\"},\"marker\":{\"line\":{\"color\":\"#E5ECF6\",\"width\":0.5},\"pattern\":{\"fillmode\":\"overlay\",\"size\":10,\"solidity\":0.2}},\"type\":\"bar\"}],\"scattergeo\":[{\"type\":\"scattergeo\",\"marker\":{\"colorbar\":{\"outlinewidth\":0,\"ticks\":\"\"}}}],\"scatterpolar\":[{\"type\":\"scatterpolar\",\"marker\":{\"colorbar\":{\"outlinewidth\":0,\"ticks\":\"\"}}}],\"histogram\":[{\"marker\":{\"pattern\":{\"fillmode\":\"overlay\",\"size\":10,\"solidity\":0.2}},\"type\":\"histogram\"}],\"scattergl\":[{\"type\":\"scattergl\",\"marker\":{\"colorbar\":{\"outlinewidth\":0,\"ticks\":\"\"}}}],\"scatter3d\":[{\"type\":\"scatter3d\",\"line\":{\"colorbar\":{\"outlinewidth\":0,\"ticks\":\"\"}},\"marker\":{\"colorbar\":{\"outlinewidth\":0,\"ticks\":\"\"}}}],\"scattermapbox\":[{\"type\":\"scattermapbox\",\"marker\":{\"colorbar\":{\"outlinewidth\":0,\"ticks\":\"\"}}}],\"scatterternary\":[{\"type\":\"scatterternary\",\"marker\":{\"colorbar\":{\"outlinewidth\":0,\"ticks\":\"\"}}}],\"scattercarpet\":[{\"type\":\"scattercarpet\",\"marker\":{\"colorbar\":{\"outlinewidth\":0,\"ticks\":\"\"}}}],\"carpet\":[{\"aaxis\":{\"endlinecolor\":\"#2a3f5f\",\"gridcolor\":\"white\",\"linecolor\":\"white\",\"minorgridcolor\":\"white\",\"startlinecolor\":\"#2a3f5f\"},\"baxis\":{\"endlinecolor\":\"#2a3f5f\",\"gridcolor\":\"white\",\"linecolor\":\"white\",\"minorgridcolor\":\"white\",\"startlinecolor\":\"#2a3f5f\"},\"type\":\"carpet\"}],\"table\":[{\"cells\":{\"fill\":{\"color\":\"#EBF0F8\"},\"line\":{\"color\":\"white\"}},\"header\":{\"fill\":{\"color\":\"#C8D4E3\"},\"line\":{\"color\":\"white\"}},\"type\":\"table\"}],\"barpolar\":[{\"marker\":{\"line\":{\"color\":\"#E5ECF6\",\"width\":0.5},\"pattern\":{\"fillmode\":\"overlay\",\"size\":10,\"solidity\":0.2}},\"type\":\"barpolar\"}],\"pie\":[{\"automargin\":true,\"type\":\"pie\"}]},\"layout\":{\"autotypenumbers\":\"strict\",\"colorway\":[\"#636efa\",\"#EF553B\",\"#00cc96\",\"#ab63fa\",\"#FFA15A\",\"#19d3f3\",\"#FF6692\",\"#B6E880\",\"#FF97FF\",\"#FECB52\"],\"font\":{\"color\":\"#2a3f5f\"},\"hovermode\":\"closest\",\"hoverlabel\":{\"align\":\"left\"},\"paper_bgcolor\":\"white\",\"plot_bgcolor\":\"#E5ECF6\",\"polar\":{\"bgcolor\":\"#E5ECF6\",\"angularaxis\":{\"gridcolor\":\"white\",\"linecolor\":\"white\",\"ticks\":\"\"},\"radialaxis\":{\"gridcolor\":\"white\",\"linecolor\":\"white\",\"ticks\":\"\"}},\"ternary\":{\"bgcolor\":\"#E5ECF6\",\"aaxis\":{\"gridcolor\":\"white\",\"linecolor\":\"white\",\"ticks\":\"\"},\"baxis\":{\"gridcolor\":\"white\",\"linecolor\":\"white\",\"ticks\":\"\"},\"caxis\":{\"gridcolor\":\"white\",\"linecolor\":\"white\",\"ticks\":\"\"}},\"coloraxis\":{\"colorbar\":{\"outlinewidth\":0,\"ticks\":\"\"}},\"colorscale\":{\"sequential\":[[0.0,\"#0d0887\"],[0.1111111111111111,\"#46039f\"],[0.2222222222222222,\"#7201a8\"],[0.3333333333333333,\"#9c179e\"],[0.4444444444444444,\"#bd3786\"],[0.5555555555555556,\"#d8576b\"],[0.6666666666666666,\"#ed7953\"],[0.7777777777777778,\"#fb9f3a\"],[0.8888888888888888,\"#fdca26\"],[1.0,\"#f0f921\"]],\"sequentialminus\":[[0.0,\"#0d0887\"],[0.1111111111111111,\"#46039f\"],[0.2222222222222222,\"#7201a8\"],[0.3333333333333333,\"#9c179e\"],[0.4444444444444444,\"#bd3786\"],[0.5555555555555556,\"#d8576b\"],[0.6666666666666666,\"#ed7953\"],[0.7777777777777778,\"#fb9f3a\"],[0.8888888888888888,\"#fdca26\"],[1.0,\"#f0f921\"]],\"diverging\":[[0,\"#8e0152\"],[0.1,\"#c51b7d\"],[0.2,\"#de77ae\"],[0.3,\"#f1b6da\"],[0.4,\"#fde0ef\"],[0.5,\"#f7f7f7\"],[0.6,\"#e6f5d0\"],[0.7,\"#b8e186\"],[0.8,\"#7fbc41\"],[0.9,\"#4d9221\"],[1,\"#276419\"]]},\"xaxis\":{\"gridcolor\":\"white\",\"linecolor\":\"white\",\"ticks\":\"\",\"title\":{\"standoff\":15},\"zerolinecolor\":\"white\",\"automargin\":true,\"zerolinewidth\":2},\"yaxis\":{\"gridcolor\":\"white\",\"linecolor\":\"white\",\"ticks\":\"\",\"title\":{\"standoff\":15},\"zerolinecolor\":\"white\",\"automargin\":true,\"zerolinewidth\":2},\"scene\":{\"xaxis\":{\"backgroundcolor\":\"#E5ECF6\",\"gridcolor\":\"white\",\"linecolor\":\"white\",\"showbackground\":true,\"ticks\":\"\",\"zerolinecolor\":\"white\",\"gridwidth\":2},\"yaxis\":{\"backgroundcolor\":\"#E5ECF6\",\"gridcolor\":\"white\",\"linecolor\":\"white\",\"showbackground\":true,\"ticks\":\"\",\"zerolinecolor\":\"white\",\"gridwidth\":2},\"zaxis\":{\"backgroundcolor\":\"#E5ECF6\",\"gridcolor\":\"white\",\"linecolor\":\"white\",\"showbackground\":true,\"ticks\":\"\",\"zerolinecolor\":\"white\",\"gridwidth\":2}},\"shapedefaults\":{\"line\":{\"color\":\"#2a3f5f\"}},\"annotationdefaults\":{\"arrowcolor\":\"#2a3f5f\",\"arrowhead\":0,\"arrowwidth\":1},\"geo\":{\"bgcolor\":\"white\",\"landcolor\":\"#E5ECF6\",\"subunitcolor\":\"white\",\"showland\":true,\"showlakes\":true,\"lakecolor\":\"white\"},\"title\":{\"x\":0.05},\"mapbox\":{\"style\":\"light\"}}},\"xaxis\":{\"anchor\":\"y\",\"domain\":[0.0,1.0],\"title\":{\"text\":\"department\"}},\"yaxis\":{\"anchor\":\"x\",\"domain\":[0.0,1.0],\"title\":{\"text\":\"actual_productivity\"}},\"legend\":{\"tracegroupgap\":0},\"margin\":{\"t\":60},\"boxmode\":\"group\"},                        {\"responsive\": true}                    ).then(function(){\n",
              "                            \n",
              "var gd = document.getElementById('02bb64ab-b00a-47ca-a0a7-3c1219beda6e');\n",
              "var x = new MutationObserver(function (mutations, observer) {{\n",
              "        var display = window.getComputedStyle(gd).display;\n",
              "        if (!display || display === 'none') {{\n",
              "            console.log([gd, 'removed!']);\n",
              "            Plotly.purge(gd);\n",
              "            observer.disconnect();\n",
              "        }}\n",
              "}});\n",
              "\n",
              "// Listen for the removal of the full notebook cells\n",
              "var notebookContainer = gd.closest('#notebook-container');\n",
              "if (notebookContainer) {{\n",
              "    x.observe(notebookContainer, {childList: true});\n",
              "}}\n",
              "\n",
              "// Listen for the clearing of the current output cell\n",
              "var outputEl = gd.closest('.output');\n",
              "if (outputEl) {{\n",
              "    x.observe(outputEl, {childList: true});\n",
              "}}\n",
              "\n",
              "                        })                };                            </script>        </div>\n",
              "</body>\n",
              "</html>"
            ]
          },
          "metadata": {}
        }
      ]
    },
    {
      "cell_type": "code",
      "source": [
        "# # Removing the outlier\n",
        "# df = df[df[\"actual_productivity\"] > 0.49]"
      ],
      "metadata": {
        "id": "ESl-aPDbw2JW"
      },
      "execution_count": null,
      "outputs": []
    },
    {
      "cell_type": "markdown",
      "source": [
        "\n",
        "We did not remove the whole outlier due to the less number of our dataset -- we had originally 1197 total dataset and if we remove the total outlier , it will affect our machine learning model when training"
      ],
      "metadata": {
        "id": "TBzk3MukxHYZ"
      }
    },
    {
      "cell_type": "code",
      "source": [
        "fig = px.box(df, y = \"actual_productivity\" , x = \"department\")\n",
        "fig.show()"
      ],
      "metadata": {
        "colab": {
          "base_uri": "https://localhost:8080/",
          "height": 542
        },
        "id": "2dL9S4KRw_FD",
        "outputId": "35bf7882-8253-4a6b-d655-c87f6c682384"
      },
      "execution_count": null,
      "outputs": [
        {
          "output_type": "display_data",
          "data": {
            "text/html": [
              "<html>\n",
              "<head><meta charset=\"utf-8\" /></head>\n",
              "<body>\n",
              "    <div>            <script src=\"https://cdnjs.cloudflare.com/ajax/libs/mathjax/2.7.5/MathJax.js?config=TeX-AMS-MML_SVG\"></script><script type=\"text/javascript\">if (window.MathJax && window.MathJax.Hub && window.MathJax.Hub.Config) {window.MathJax.Hub.Config({SVG: {font: \"STIX-Web\"}});}</script>                <script type=\"text/javascript\">window.PlotlyConfig = {MathJaxConfig: 'local'};</script>\n",
              "        <script charset=\"utf-8\" src=\"https://cdn.plot.ly/plotly-2.24.1.min.js\"></script>                <div id=\"6435bc20-97e9-4962-abbf-fdccdf959486\" class=\"plotly-graph-div\" style=\"height:525px; width:100%;\"></div>            <script type=\"text/javascript\">                                    window.PLOTLYENV=window.PLOTLYENV || {};                                    if (document.getElementById(\"6435bc20-97e9-4962-abbf-fdccdf959486\")) {                    Plotly.newPlot(                        \"6435bc20-97e9-4962-abbf-fdccdf959486\",                        [{\"alignmentgroup\":\"True\",\"hovertemplate\":\"department=%{x}\\u003cbr\\u003eactual_productivity=%{y}\\u003cextra\\u003e\\u003c\\u002fextra\\u003e\",\"legendgroup\":\"\",\"marker\":{\"color\":\"#636efa\"},\"name\":\"\",\"notched\":false,\"offsetgroup\":\"\",\"orientation\":\"v\",\"showlegend\":false,\"x\":[\"sewing\",\"finishing\",\"sewing\",\"sewing\",\"sewing\",\"sewing\",\"finishing\",\"sewing\",\"sewing\",\"sewing\",\"sewing\",\"sewing\",\"sewing\",\"finishing\",\"finishing\",\"finishing\",\"finishing\",\"sewing\",\"finishing\",\"finishing\",\"finishing\",\"finishing\",\"finishing\",\"finishing\",\"sewing\",\"sewing\",\"sewing\",\"sewing\",\"sewing\",\"sewing\",\"sewing\",\"sewing\",\"sewing\",\"finishing\",\"sewing\",\"finishing\",\"sewing\",\"sewing\",\"finishing\",\"finishing\",\"finishing\",\"finishing\",\"finishing\",\"sewing\",\"finishing\",\"sewing\",\"sewing\",\"sewing\",\"sewing\",\"sewing\",\"sewing\",\"sewing\",\"finishing\",\"finishing\",\"sewing\",\"sewing\",\"sewing\",\"finishing\",\"finishing\",\"sewing\",\"finishing\",\"finishing\",\"finishing\",\"finishing\",\"finishing\",\"sewing\",\"finishing\",\"finishing\",\"sewing\",\"sewing\",\"sewing\",\"sewing\",\"sewing\",\"sewing\",\"sewing\",\"sewing\",\"finishing\",\"finishing\",\"sewing\",\"sewing\",\"finishing\",\"finishing\",\"sewing\",\"finishing\",\"finishing\",\"finishing\",\"finishing\",\"finishing\",\"sewing\",\"sewing\",\"finishing\",\"finishing\",\"sewing\",\"sewing\",\"sewing\",\"sewing\",\"sewing\",\"sewing\",\"sewing\",\"sewing\",\"sewing\",\"finishing\",\"sewing\",\"finishing\",\"finishing\",\"finishing\",\"sewing\",\"sewing\",\"sewing\",\"finishing\",\"finishing\",\"finishing\",\"finishing\",\"finishing\",\"sewing\",\"sewing\",\"sewing\",\"sewing\",\"sewing\",\"sewing\",\"sewing\",\"sewing\",\"finishing\",\"finishing\",\"sewing\",\"finishing\",\"finishing\",\"finishing\",\"sewing\",\"finishing\",\"sewing\",\"sewing\",\"sewing\",\"sewing\",\"finishing\",\"finishing\",\"sewing\",\"sewing\",\"sewing\",\"sewing\",\"sewing\",\"finishing\",\"finishing\",\"finishing\",\"finishing\",\"finishing\",\"sewing\",\"sewing\",\"finishing\",\"finishing\",\"finishing\",\"finishing\",\"sewing\",\"sewing\",\"sewing\",\"finishing\",\"finishing\",\"finishing\",\"sewing\",\"sewing\",\"sewing\",\"sewing\",\"sewing\",\"sewing\",\"sewing\",\"sewing\",\"finishing\",\"finishing\",\"sewing\",\"finishing\",\"finishing\",\"finishing\",\"sewing\",\"finishing\",\"finishing\",\"sewing\",\"sewing\",\"sewing\",\"finishing\",\"finishing\",\"sewing\",\"sewing\",\"sewing\",\"sewing\",\"sewing\",\"finishing\",\"finishing\",\"finishing\",\"sewing\",\"finishing\",\"finishing\",\"sewing\",\"sewing\",\"finishing\",\"finishing\",\"finishing\",\"finishing\",\"finishing\",\"sewing\",\"sewing\",\"sewing\",\"sewing\",\"finishing\",\"finishing\",\"sewing\",\"sewing\",\"sewing\",\"sewing\",\"finishing\",\"sewing\",\"sewing\",\"sewing\",\"finishing\",\"finishing\",\"sewing\",\"finishing\",\"finishing\",\"finishing\",\"finishing\",\"finishing\",\"finishing\",\"sewing\",\"sewing\",\"sewing\",\"sewing\",\"finishing\",\"finishing\",\"sewing\",\"sewing\",\"sewing\",\"sewing\",\"finishing\",\"finishing\",\"finishing\",\"sewing\",\"sewing\",\"sewing\",\"sewing\",\"finishing\",\"finishing\",\"sewing\",\"finishing\",\"finishing\",\"finishing\",\"sewing\",\"sewing\",\"finishing\",\"finishing\",\"sewing\",\"sewing\",\"sewing\",\"sewing\",\"finishing\",\"sewing\",\"sewing\",\"sewing\",\"finishing\",\"sewing\",\"finishing\",\"finishing\",\"finishing\",\"finishing\",\"finishing\",\"finishing\",\"sewing\",\"sewing\",\"sewing\",\"sewing\",\"sewing\",\"sewing\",\"sewing\",\"finishing\",\"sewing\",\"sewing\",\"finishing\",\"sewing\",\"sewing\",\"sewing\",\"finishing\",\"finishing\",\"finishing\",\"finishing\",\"finishing\",\"sewing\",\"sewing\",\"sewing\",\"sewing\",\"sewing\",\"sewing\",\"sewing\",\"sewing\",\"finishing\",\"finishing\",\"sewing\",\"sewing\",\"sewing\",\"finishing\",\"sewing\",\"finishing\",\"finishing\",\"finishing\",\"finishing\",\"sewing\",\"sewing\",\"sewing\",\"sewing\",\"sewing\",\"sewing\",\"finishing\",\"sewing\",\"sewing\",\"sewing\",\"sewing\",\"finishing\",\"sewing\",\"finishing\",\"sewing\",\"finishing\",\"finishing\",\"finishing\",\"finishing\",\"sewing\",\"sewing\",\"sewing\",\"finishing\",\"sewing\",\"sewing\",\"sewing\",\"sewing\",\"sewing\",\"finishing\",\"sewing\",\"sewing\",\"sewing\",\"finishing\",\"finishing\",\"sewing\",\"finishing\",\"sewing\",\"sewing\",\"sewing\",\"sewing\",\"sewing\",\"sewing\",\"sewing\",\"finishing\",\"sewing\",\"sewing\",\"finishing\",\"sewing\",\"sewing\",\"finishing\",\"finishing\",\"finishing\",\"sewing\",\"sewing\",\"finishing\",\"sewing\",\"sewing\",\"sewing\",\"finishing\",\"sewing\",\"sewing\",\"sewing\",\"sewing\",\"sewing\",\"finishing\",\"sewing\",\"finishing\",\"sewing\",\"finishing\",\"finishing\",\"finishing\",\"sewing\",\"sewing\",\"sewing\",\"sewing\",\"sewing\",\"sewing\",\"finishing\",\"sewing\",\"sewing\",\"finishing\",\"finishing\",\"finishing\",\"finishing\",\"sewing\",\"sewing\",\"sewing\",\"sewing\",\"finishing\",\"finishing\",\"finishing\",\"finishing\",\"finishing\",\"finishing\",\"sewing\",\"sewing\",\"finishing\",\"finishing\",\"finishing\",\"finishing\",\"sewing\",\"sewing\",\"sewing\",\"sewing\",\"sewing\",\"sewing\",\"sewing\",\"finishing\",\"sewing\",\"sewing\",\"finishing\",\"finishing\",\"sewing\",\"finishing\",\"finishing\",\"finishing\",\"finishing\",\"finishing\",\"finishing\",\"finishing\",\"sewing\",\"sewing\",\"sewing\",\"sewing\",\"sewing\",\"sewing\",\"finishing\",\"sewing\",\"sewing\",\"sewing\",\"sewing\",\"finishing\",\"sewing\",\"sewing\",\"finishing\",\"finishing\",\"finishing\",\"finishing\",\"finishing\",\"finishing\",\"finishing\",\"sewing\",\"sewing\",\"sewing\",\"sewing\",\"sewing\",\"sewing\",\"finishing\",\"sewing\",\"sewing\",\"sewing\",\"finishing\",\"sewing\",\"sewing\",\"sewing\",\"sewing\",\"finishing\",\"finishing\",\"finishing\",\"sewing\",\"finishing\",\"sewing\",\"finishing\",\"finishing\",\"finishing\",\"sewing\",\"finishing\",\"finishing\",\"sewing\",\"sewing\",\"sewing\",\"sewing\",\"finishing\",\"sewing\",\"sewing\",\"sewing\",\"sewing\",\"finishing\",\"finishing\",\"finishing\",\"sewing\",\"sewing\",\"finishing\",\"sewing\",\"sewing\",\"finishing\",\"sewing\",\"sewing\",\"finishing\",\"finishing\",\"sewing\",\"sewing\",\"sewing\",\"finishing\",\"sewing\",\"finishing\",\"sewing\",\"finishing\",\"sewing\",\"sewing\",\"sewing\",\"finishing\",\"finishing\",\"finishing\",\"finishing\",\"finishing\",\"sewing\",\"sewing\",\"sewing\",\"finishing\",\"sewing\",\"finishing\",\"sewing\",\"sewing\",\"finishing\",\"sewing\",\"sewing\",\"sewing\",\"finishing\",\"finishing\",\"finishing\",\"finishing\",\"finishing\",\"finishing\",\"finishing\",\"finishing\",\"finishing\",\"finishing\",\"finishing\",\"finishing\",\"sewing\",\"sewing\",\"sewing\",\"sewing\",\"sewing\",\"sewing\",\"sewing\",\"sewing\",\"sewing\",\"sewing\",\"finishing\",\"sewing\",\"sewing\",\"finishing\",\"sewing\",\"finishing\",\"finishing\",\"finishing\",\"sewing\",\"sewing\",\"finishing\",\"sewing\",\"sewing\",\"finishing\",\"sewing\",\"sewing\",\"sewing\",\"sewing\",\"finishing\",\"sewing\",\"finishing\",\"sewing\",\"sewing\",\"sewing\",\"finishing\",\"finishing\",\"sewing\",\"sewing\",\"sewing\",\"finishing\",\"sewing\",\"sewing\",\"finishing\",\"finishing\",\"sewing\",\"sewing\",\"finishing\",\"sewing\",\"finishing\",\"sewing\",\"sewing\",\"finishing\",\"finishing\",\"sewing\",\"sewing\",\"finishing\",\"sewing\",\"sewing\",\"finishing\",\"sewing\",\"sewing\",\"sewing\",\"sewing\",\"sewing\",\"finishing\",\"finishing\",\"sewing\",\"sewing\",\"sewing\",\"sewing\",\"finishing\",\"finishing\",\"finishing\",\"sewing\",\"sewing\",\"sewing\",\"finishing\",\"finishing\",\"sewing\",\"sewing\",\"sewing\",\"sewing\",\"finishing\",\"sewing\",\"finishing\",\"sewing\",\"sewing\",\"sewing\",\"sewing\",\"finishing\",\"sewing\",\"finishing\",\"finishing\",\"finishing\",\"finishing\",\"sewing\",\"sewing\",\"finishing\",\"sewing\",\"sewing\",\"sewing\",\"sewing\",\"sewing\",\"sewing\",\"finishing\",\"sewing\",\"sewing\",\"sewing\",\"sewing\",\"finishing\",\"finishing\",\"finishing\",\"sewing\",\"sewing\",\"finishing\",\"sewing\",\"sewing\",\"finishing\",\"sewing\",\"sewing\",\"sewing\",\"finishing\",\"sewing\",\"sewing\",\"finishing\",\"sewing\",\"sewing\",\"sewing\",\"finishing\",\"finishing\",\"finishing\",\"finishing\",\"sewing\",\"sewing\",\"sewing\",\"sewing\",\"sewing\",\"finishing\",\"finishing\",\"sewing\",\"sewing\",\"sewing\",\"finishing\",\"finishing\",\"sewing\",\"sewing\",\"sewing\",\"finishing\",\"sewing\",\"sewing\",\"sewing\",\"sewing\",\"sewing\",\"finishing\",\"sewing\",\"finishing\",\"sewing\",\"sewing\",\"sewing\",\"finishing\",\"finishing\",\"finishing\",\"sewing\",\"sewing\",\"sewing\",\"sewing\",\"finishing\",\"sewing\",\"sewing\",\"finishing\",\"sewing\",\"sewing\",\"sewing\",\"finishing\",\"sewing\",\"finishing\",\"finishing\",\"sewing\",\"sewing\",\"finishing\",\"finishing\",\"sewing\",\"sewing\",\"finishing\",\"finishing\",\"finishing\",\"sewing\",\"sewing\",\"sewing\",\"sewing\",\"sewing\",\"sewing\",\"sewing\",\"finishing\",\"sewing\",\"finishing\",\"sewing\",\"sewing\",\"sewing\",\"finishing\",\"sewing\",\"finishing\",\"sewing\",\"finishing\",\"sewing\",\"sewing\",\"finishing\",\"finishing\",\"sewing\",\"finishing\",\"finishing\",\"sewing\",\"sewing\",\"sewing\",\"sewing\",\"sewing\",\"sewing\",\"sewing\",\"finishing\",\"finishing\",\"finishing\",\"sewing\",\"sewing\",\"finishing\",\"sewing\",\"sewing\",\"finishing\",\"sewing\",\"sewing\",\"sewing\",\"sewing\",\"sewing\",\"finishing\",\"finishing\",\"finishing\",\"finishing\",\"sewing\",\"finishing\",\"sewing\",\"finishing\",\"sewing\",\"finishing\",\"sewing\",\"sewing\",\"sewing\",\"sewing\",\"finishing\",\"finishing\",\"sewing\",\"sewing\",\"sewing\",\"finishing\",\"sewing\",\"sewing\",\"finishing\",\"finishing\",\"finishing\",\"sewing\",\"sewing\",\"sewing\",\"finishing\",\"sewing\",\"sewing\",\"finishing\",\"sewing\",\"finishing\",\"sewing\",\"sewing\",\"sewing\",\"sewing\",\"finishing\",\"sewing\",\"finishing\",\"finishing\",\"finishing\",\"sewing\",\"finishing\",\"sewing\",\"sewing\",\"finishing\",\"sewing\",\"sewing\",\"sewing\",\"finishing\",\"sewing\",\"sewing\",\"sewing\",\"finishing\",\"finishing\",\"sewing\",\"sewing\",\"finishing\",\"finishing\",\"finishing\",\"sewing\",\"sewing\",\"sewing\",\"sewing\",\"sewing\",\"sewing\",\"sewing\",\"finishing\",\"sewing\",\"sewing\",\"finishing\",\"finishing\",\"finishing\",\"finishing\",\"sewing\",\"sewing\",\"finishing\",\"sewing\",\"finishing\",\"sewing\",\"sewing\",\"sewing\",\"sewing\",\"finishing\",\"sewing\",\"finishing\",\"finishing\",\"sewing\",\"sewing\",\"sewing\",\"finishing\",\"finishing\",\"sewing\",\"finishing\",\"sewing\",\"finishing\",\"sewing\",\"sewing\",\"finishing\",\"finishing\",\"finishing\",\"finishing\",\"sewing\",\"sewing\",\"finishing\",\"finishing\",\"sewing\",\"finishing\",\"sewing\",\"sewing\",\"sewing\",\"sewing\",\"sewing\",\"sewing\",\"sewing\",\"finishing\",\"sewing\",\"finishing\",\"finishing\",\"finishing\",\"finishing\",\"finishing\",\"sewing\",\"sewing\",\"sewing\",\"sewing\",\"sewing\",\"sewing\",\"sewing\",\"sewing\",\"sewing\",\"sewing\",\"sewing\",\"finishing\",\"finishing\",\"finishing\",\"finishing\",\"finishing\",\"finishing\",\"sewing\",\"sewing\",\"sewing\",\"finishing\",\"sewing\",\"sewing\",\"sewing\",\"sewing\",\"finishing\",\"finishing\",\"sewing\",\"sewing\",\"sewing\",\"finishing\",\"sewing\",\"finishing\",\"sewing\",\"sewing\",\"finishing\",\"finishing\",\"finishing\",\"finishing\",\"sewing\",\"sewing\",\"sewing\",\"sewing\",\"sewing\",\"sewing\",\"sewing\",\"sewing\",\"sewing\",\"finishing\",\"finishing\",\"sewing\",\"sewing\",\"finishing\",\"finishing\",\"finishing\",\"finishing\",\"finishing\",\"sewing\",\"sewing\",\"sewing\",\"finishing\",\"sewing\",\"sewing\",\"sewing\",\"sewing\",\"sewing\",\"sewing\",\"finishing\",\"finishing\",\"sewing\",\"sewing\",\"finishing\",\"finishing\",\"sewing\",\"finishing\",\"finishing\",\"finishing\",\"finishing\",\"sewing\",\"sewing\",\"sewing\",\"finishing\",\"sewing\",\"sewing\",\"sewing\",\"sewing\",\"sewing\",\"sewing\",\"finishing\",\"finishing\",\"sewing\",\"sewing\",\"sewing\",\"finishing\",\"finishing\",\"finishing\",\"finishing\",\"finishing\",\"finishing\",\"sewing\",\"sewing\",\"sewing\",\"sewing\",\"sewing\",\"sewing\",\"sewing\",\"sewing\",\"sewing\",\"sewing\",\"finishing\",\"finishing\",\"sewing\",\"finishing\",\"sewing\",\"finishing\",\"finishing\",\"finishing\",\"finishing\",\"finishing\",\"finishing\",\"sewing\",\"sewing\",\"finishing\",\"sewing\",\"sewing\",\"sewing\",\"finishing\",\"sewing\",\"sewing\",\"sewing\",\"sewing\",\"sewing\",\"sewing\",\"finishing\",\"finishing\",\"finishing\",\"finishing\",\"finishing\",\"finishing\",\"sewing\",\"sewing\",\"sewing\",\"sewing\",\"sewing\",\"sewing\",\"sewing\",\"sewing\",\"sewing\",\"finishing\",\"sewing\",\"sewing\",\"finishing\",\"finishing\",\"finishing\",\"finishing\",\"finishing\",\"finishing\",\"finishing\",\"sewing\",\"finishing\",\"finishing\",\"finishing\",\"finishing\",\"finishing\",\"finishing\",\"sewing\",\"sewing\",\"sewing\",\"sewing\",\"sewing\",\"sewing\",\"sewing\",\"sewing\",\"sewing\",\"finishing\",\"finishing\",\"finishing\",\"sewing\",\"sewing\",\"sewing\",\"finishing\",\"finishing\",\"finishing\",\"finishing\",\"finishing\",\"finishing\",\"finishing\",\"sewing\",\"sewing\",\"sewing\",\"sewing\",\"sewing\",\"sewing\",\"sewing\",\"sewing\",\"sewing\",\"finishing\",\"sewing\",\"sewing\",\"finishing\",\"sewing\",\"sewing\",\"finishing\",\"finishing\",\"sewing\",\"sewing\",\"sewing\",\"finishing\",\"sewing\",\"sewing\",\"finishing\",\"finishing\",\"finishing\",\"sewing\",\"finishing\",\"finishing\",\"sewing\",\"sewing\",\"finishing\",\"finishing\",\"finishing\",\"finishing\",\"finishing\",\"finishing\",\"finishing\",\"sewing\",\"sewing\",\"sewing\",\"sewing\",\"sewing\",\"finishing\",\"sewing\",\"sewing\",\"sewing\",\"sewing\",\"sewing\",\"sewing\",\"finishing\",\"finishing\",\"finishing\",\"finishing\",\"finishing\",\"finishing\",\"sewing\",\"sewing\",\"finishing\",\"sewing\",\"sewing\",\"sewing\",\"finishing\",\"finishing\",\"finishing\",\"sewing\",\"sewing\",\"sewing\",\"finishing\",\"sewing\",\"sewing\",\"sewing\",\"sewing\",\"finishing\",\"finishing\",\"finishing\",\"finishing\",\"sewing\",\"finishing\",\"finishing\",\"finishing\",\"sewing\",\"finishing\",\"sewing\",\"sewing\",\"sewing\",\"finishing\",\"sewing\",\"sewing\",\"finishing\",\"sewing\",\"sewing\",\"sewing\",\"sewing\",\"sewing\",\"finishing\",\"finishing\",\"finishing\",\"finishing\",\"finishing\",\"finishing\",\"finishing\",\"finishing\",\"sewing\",\"sewing\",\"sewing\",\"finishing\",\"finishing\",\"sewing\",\"sewing\",\"sewing\",\"sewing\",\"sewing\",\"sewing\",\"sewing\",\"sewing\",\"sewing\",\"finishing\",\"finishing\",\"finishing\",\"finishing\",\"finishing\"],\"x0\":\" \",\"xaxis\":\"x\",\"y\":[0.940725424,0.8865,0.800570492,0.800570492,0.800381944,0.800125,0.755166667,0.753683478,0.753097531,0.750427826,0.721126957,0.712205247,0.707045902,0.705916667,0.676666667,0.593055556,0.540729167,0.52118,0.436326389,0.988024691,0.987880435,0.956270833,0.945277778,0.902916667,0.800725314,0.800322936,0.800318644,0.800318644,0.800237288,0.800148649,0.800125,0.800125,0.787299691,0.782447917,0.75024303,0.7018125,0.700134038,0.699965217,0.628333333,0.6253125,0.991388889,0.931645833,0.915229167,0.879714482,0.861679012,0.850569492,0.850436438,0.850345133,0.800598058,0.800318644,0.800237838,0.800030199,0.792104167,0.759228395,0.750348457,0.75024303,0.699965217,0.682708333,0.667604167,0.603432184,0.345833333,0.961059028,0.939513889,0.893663194,0.875390625,0.850569492,0.820833333,0.804416667,0.800684366,0.800684366,0.800318644,0.800250962,0.800246011,0.800246011,0.800076522,0.800076522,0.763375,0.759270833,0.7504,0.75024303,0.676666667,0.664583333,0.600028736,0.966781346,0.936496212,0.899166667,0.888686869,0.858143939,0.850502311,0.850502311,0.809640152,0.805909091,0.800594466,0.800594466,0.800273829,0.800140969,0.800128721,0.800128721,0.80007657,0.750545455,0.750057851,0.681060606,0.649983281,0.61625,0.951420455,0.880530303,0.850502311,0.850502311,0.850136766,0.83,0.827186544,0.813371212,0.805909091,0.804640152,0.800594466,0.800594466,0.800343766,0.800273829,0.800246753,0.800128721,0.8,0.700480831,0.681060606,0.666515152,0.412119835,0.330113636,0.947689394,0.919905405,0.900215716,0.891723485,0.850502311,0.850181818,0.850136766,0.850136766,0.835757576,0.821354167,0.800497246,0.800273829,0.800107143,0.800024932,0.8,0.779791667,0.735984848,0.712626263,0.681060606,0.515606061,0.349951389,0.233705476,0.985,0.930340376,0.911589744,0.858143939,0.851174114,0.850136766,0.850136766,0.846950758,0.817424242,0.817102273,0.801028213,0.800594466,0.800346445,0.800343766,0.800117103,0.8,0.750098351,0.673245283,0.670075758,0.628882576,0.388007813,0.337973485,0.93532197,0.925643939,0.900215716,0.873068182,0.858143939,0.850502311,0.850136766,0.850136766,0.828295455,0.820833333,0.800343766,0.800246753,0.8,0.8,0.690182815,0.668087121,0.653598485,0.609138258,0.600229846,0.597348485,0.590435606,0.473134796,0.452979626,0.955151515,0.942213805,0.905454545,0.880530303,0.858143939,0.850522167,0.850502311,0.850136766,0.850136766,0.817424242,0.809564394,0.800273829,0.800181818,0.80007657,0.8,0.725,0.688557555,0.650040783,0.64998056,0.648106061,0.640577652,0.35063299,0.24625,0.952020202,0.951420455,0.912766667,0.901262626,0.858143939,0.850502311,0.850502311,0.850252525,0.850136766,0.821354167,0.805909091,0.800246753,0.800246753,0.8,0.705576584,0.681060606,0.670075758,0.601278409,0.582301029,0.526810345,0.500380799,0.35020649,0.934607438,0.908080808,0.900144811,0.891723485,0.864583333,0.858143939,0.850502311,0.850136766,0.837594697,0.820833333,0.800313433,0.800246753,0.800117103,0.700095563,0.667329545,0.600369686,0.499980334,0.35003125,0.332359307,0.311207464,0.247316017,0.988636364,0.953110048,0.884261364,0.860653409,0.858143939,0.850502311,0.850415628,0.850136766,0.800117103,0.80003139,0.80003139,0.700060345,0.689299242,0.660683293,0.650130952,0.606912879,0.600291767,0.500025069,0.499998888,0.98719697,0.980909091,0.974621212,0.884261364,0.82680303,0.800343766,0.800246753,0.800128721,0.800128721,0.800117103,0.800117103,0.77011398,0.7005417,0.675568182,0.661837121,0.650198653,0.600291767,0.600273268,0.465757576,0.452012539,0.313852814,0.852793561,0.838383838,0.804848485,0.800343766,0.800128721,0.800128721,0.800015009,0.7005417,0.700094156,0.692045455,0.662255892,0.650416734,0.650299575,0.650243497,0.639867424,0.600062696,0.582045455,0.403242161,0.235795455,0.977272727,0.964106061,0.958901515,0.800358775,0.800162602,0.800117103,0.793844697,0.750517565,0.750068049,0.750062751,0.750057359,0.700170388,0.683806818,0.650066445,0.576460393,0.549969429,0.538399621,0.409545455,0.35021836,1.033570076,0.800261486,0.800128721,0.800117103,0.750068049,0.750057359,0.750037968,0.750031898,0.72830303,0.700170388,0.700063796,0.639867424,0.500290419,0.400332792,0.362666667,0.978525641,0.912202112,0.900556277,0.850410511,0.827147436,0.800436542,0.800415742,0.800020563,0.758173077,0.750344828,0.750068049,0.700170388,0.700029771,0.60017284,0.594871795,0.520237649,0.505128205,0.500241342,0.470769231,0.957638889,0.940701058,0.849983766,0.800302791,0.800191989,0.800020563,0.750162367,0.750068049,0.742901235,0.700250784,0.700170388,0.670216049,0.649662222,0.649662222,0.626822917,0.600436426,0.60041361,0.555500132,0.500547544,0.460578704,0.397743056,0.327407407,0.966666667,0.937242424,0.910521886,0.90064806,0.900321106,0.896022727,0.895454545,0.870580808,0.858585859,0.800643806,0.80062987,0.800537143,0.80035194,0.750079323,0.750041201,0.700250784,0.651515152,0.650416734,0.600125217,0.578314394,0.578314394,0.34998951,0.261174242,0.973796791,0.970075758,0.970075758,0.961784512,0.955151515,0.952020202,0.900321106,0.850223776,0.800909609,0.800513307,0.800386364,0.800020563,0.749188312,0.7005417,0.70043672,0.700250784,0.650407524,0.618181818,0.59114168,0.500061916,0.329545455,1.059621212,0.997792208,0.963699495,0.959191919,0.910378788,0.910378788,0.850312684,0.800386364,0.80035194,0.800034024,0.800023511,0.800020563,0.769292929,0.750031447,0.70061442,0.70043672,0.646306818,0.600143365,0.350066986,1.000230409,1.000230409,0.979527778,0.940625,0.926388889,0.900129762,0.861875,0.850312684,0.845458333,0.823555556,0.803541667,0.800263218,0.788,0.77815,0.700386207,0.700164706,0.650307143,0.622828125,0.6225,0.500035345,0.37046657,1.000230409,1.000230409,0.977555556,0.9456,0.902222222,0.850532143,0.850362069,0.840533333,0.800534483,0.800489676,0.755555556,0.750593103,0.750283333,0.722638889,0.553333333,0.500567308,0.467693269,0.437995338,0.406354167,0.285333333,0.259375,1.000230409,0.989,0.950185965,0.9008,0.900129762,0.899,0.877552083,0.864583333,0.85695,0.853666667,0.850362069,0.850170115,0.800473729,0.773333333,0.750646667,0.634666667,0.60059761,0.500117677,0.4925,0.48792,1.000457471,1.000230409,0.971866667,0.971866667,0.971866667,0.971866667,0.971866667,0.971866667,0.971866667,0.971866667,0.971866667,0.971866667,0.971866667,0.971866667,0.920236905,0.900537069,0.850610526,0.850362069,0.750646667,0.656763743,0.650148148,0.600710606,0.388830357,0.286984568,1.0115625,1.000671304,1.000402055,0.950438596,0.950185965,0.912766667,0.892194444,0.8865,0.850532143,0.85011396,0.845069444,0.750593103,0.750450658,0.702666667,0.700508929,0.651007071,0.466821212,0.411553571,0.314166667,1.000602279,0.994270833,0.900158405,0.90014152,0.900129762,0.85695,0.809236111,0.800401961,0.800393224,0.799963218,0.740444444,0.700398148,0.700354545,0.561979167,0.504596491,0.500801724,0.295307738,0.280333333,0.260978788,1.001416667,1.000018551,0.999995238,0.99485,0.976979167,0.950185965,0.949981609,0.919954545,0.800434622,0.800259023,0.778222222,0.750593103,0.700513566,0.700184577,0.586465465,0.541517857,0.5375,0.495416667,0.415172414,1.05028058,1.000230409,0.999995238,0.966759259,0.929183333,0.915766667,0.900147246,0.800401961,0.799963218,0.779791667,0.755166667,0.700710417,0.700612069,0.700278846,0.700135088,0.687555556,0.650834808,0.531666667,0.350706422,1.000446018,1.000018551,0.999995238,0.999924242,0.950185965,0.9425,0.906666667,0.8471,0.845458333,0.800612676,0.799963218,0.771583333,0.7504,0.700079032,0.562212644,0.522844828,0.500720126,0.496549708,1.050666667,1.000018551,0.950185965,0.900135693,0.900129762,0.899111111,0.870083333,0.845833333,0.800401961,0.799963218,0.771583333,0.750520115,0.750027778,0.715766667,0.662270115,0.600224189,0.545657673,0.447916667,0.365318713,1.000018551,0.928680556,0.9008,0.900135693,0.900129762,0.893066667,0.891555556,0.875555556,0.840888889,0.800355208,0.799963218,0.75065101,0.750027778,0.700618234,0.610208333,0.607416667,0.568259587,0.355534483,0.353259649,1.057962963,0.962016667,0.9008,0.900509044,0.900477825,0.888125,0.800401961,0.800161172,0.799963218,0.790003236,0.750648148,0.707111111,0.700618234,0.697708333,0.612517157,0.350301724,0.350301724,0.272,1.004888889,0.966759259,0.90063244,0.90047076,0.90047076,0.899984058,0.853666667,0.8008,0.800401961,0.796755556,0.750797009,0.750648148,0.750356125,0.703770833,0.700618234,0.6895,0.628333333,0.500801724,0.393548851,1.033155556,1.02,1.000344928,1.000065789,0.994375,0.912037037,0.87,0.850364583,0.800947475,0.800401961,0.800144144,0.750406233,0.714410494,0.700588406,0.618361111,0.600070513,0.54175,0.536901754,0.507903226,1.100483918,1.096633333,1.000344928,0.838666667,0.800401961,0.755486111,0.750799435,0.688017677,0.664875,0.656666667,0.637711864,0.601944444,0.58,0.535677966,0.50012336,0.497885057,0.463403955,0.441392,0.350301724,1.000230409,0.929277778,0.902916667,0.800888889,0.800401961,0.80037492,0.796208333,0.750392157,0.750392157,0.725625,0.700206125,0.602,0.600447507,0.557252451,0.500801724,0.483333333,0.238041667,1.1204375,1.108125,1.000230409,0.876444444,0.800806306,0.760833333,0.722568627,0.715333333,0.700632768,0.700573099,0.681598039,0.650223718,0.605208333,0.604166667,0.598627451,0.475718391,0.432122899,0.287041667,0.283054487,1.000230409,0.960433333,0.891555556,0.864583333,0.802243319,0.800980392,0.800312375,0.773333333,0.75065101,0.750356125,0.722333333,0.700459889,0.629416667,0.621971751,0.565972222,0.35542803,0.329964879,0.258,1.000230409,0.927541667,0.91375,0.9025,0.800401961,0.7866,0.750621354,0.750356125,0.749166667,0.700888203,0.700614035,0.700603448,0.656666667,0.653431373,0.650134,0.600982906,0.586041667,0.5814,0.361071429,0.302117347,0.9918,0.936861111,0.919125,0.8211125,0.800980392,0.800980392,0.800401961,0.800279693,0.75065101,0.75053268,0.734645833,0.700603448,0.70009573,0.671875,0.64025,0.58,0.549791667,0.328131579,0.303574468,0.2565,0.251399254,0.81640625,0.800711494,0.800470513,0.800094017,0.799982853,0.785864198,0.75065101,0.733277778,0.710125,0.700603448,0.700540441,0.7,0.684027778,0.672135417,0.638614379,0.631354167,0.611140537,0.609583333,0.585315789,0.249416667,0.8721,0.8319375,0.8300625,0.805555556,0.800401961,0.80000295,0.78375,0.753525,0.75065101,0.727349537,0.700614035,0.700605263,0.672140805,0.627011183,0.626577778,0.456875,0.393548851,0.385791667,0.307501459,0.283958333,0.955791667,0.930416667,0.9025,0.87115,0.800401961,0.800137255,0.800137255,0.750770115,0.75065101,0.750293939,0.700623,0.700614035,0.700362069,0.60128,0.417916667,0.3715625,0.3715625,0.36871875,0.356458333,0.902222222,0.811388889,0.800401961,0.800137255,0.800071839,0.791458333,0.750727326,0.75065101,0.750437269,0.750176991,0.726933333,0.726933333,0.700623,0.700518519,0.700256795,0.5046875,0.471108491,0.325,0.268214286,0.970816667,0.902962963,0.900833333,0.899555556,0.845833333,0.800808642,0.800401961,0.800115819,0.75065101,0.750503571,0.750206897,0.700362069,0.700069811,0.700058333,0.676666667,0.658541667,0.598792339,0.581130952,0.440375,0.410833333,0.410833333,0.921703704,0.921604938,0.800808642,0.800516667,0.800401961,0.768847222,0.75065101,0.750473684,0.750371895,0.750206897,0.700251773,0.66237931,0.590617284,0.5565625,0.495617514,0.449964912,0.410833333,0.4078125,0.378895152,0.376597222,0.271875,0.921703704,0.921604938,0.800779018,0.800260821,0.799982853,0.768847222,0.750716981,0.75065101,0.750425926,0.750395513,0.700236601,0.700211111,0.590617284,0.5565625,0.550403509,0.550349708,0.500258046,0.410833333,0.4078125,0.376597222,0.271875,0.936355556,0.813611111,0.800401961,0.75075,0.75065101,0.750473684,0.750395513,0.707446429,0.700236601,0.700019883,0.683550607,0.682433036,0.673083333,0.664583333,0.600239766,0.585,0.579511494,0.448722222,0.447083333,0.350416667,0.92885,0.86037037,0.806879167,0.800579532,0.800401961,0.8004,0.800309211,0.800149813,0.800115819,0.773333333,0.750797009,0.750473684,0.750395513,0.750254867,0.700903571,0.70013604,0.632361111,0.607654321,0.537919444,0.342361111,0.999533333,0.902962963,0.800701754,0.800566092,0.800401961,0.800333333,0.800115819,0.750770115,0.750473684,0.750395513,0.750212553,0.702777778,0.700659649,0.699984417,0.636049383,0.567377778,0.555430556,0.555430556,0.463194444,0.354444444,0.309333333,0.30277037,0.939166667,0.930416667,0.885925926,0.83375,0.806879167,0.806058333,0.800701754,0.800401961,0.800333333,0.800055762,0.799975862,0.750651724,0.750395513,0.700424138,0.700058333,0.684888889,0.592083333,0.5403125,0.433263158,0.404144928,0.332146465,0.980984848,0.950625,0.927291667,0.868888889,0.812625,0.812625,0.810111111,0.800701754,0.800534979,0.800401961,0.750651724,0.750395513,0.750050847,0.700424138,0.700422,0.600099145,0.453125,0.366053523,0.26369382,0.868888889,0.850520588,0.850045,0.825444444,0.80575,0.800746552,0.800578947,0.800034503,0.7975,0.749987124,0.700422,0.664875,0.664875,0.657083333,0.65024031,0.590740741,0.528125,0.500528095,0.408960345,0.951944444,0.945555556,0.929074074,0.890604167,0.890604167,0.884,0.857916667,0.850084211,0.85007069,0.800511068,0.800401961,0.800034503,0.755208333,0.750371895,0.700422,0.700106061,0.601037091,0.600528571,0.500033898,0.4509375,0.441041667,0.271875,0.960625,0.902962963,0.864342593,0.850446154,0.850426891,0.841,0.800842424,0.800401961,0.800034503,0.795416667,0.7953875,0.794566667,0.750395513,0.700516224,0.700422,0.6825,0.650962281,0.650421429,0.600040678,0.500610909,0.477291667,0.2640625,0.92,0.909391667,0.900061017,0.894444444,0.881575,0.880754167,0.850084211,0.821666667,0.800401961,0.800071839,0.800034503,0.758229167,0.750608,0.750395513,0.741,0.700505263,0.700246491,0.700051852,0.650044068,0.630402924,0.560625,0.560625,0.39875,0.922839506,0.874027778,0.819270833,0.813309028,0.812625,0.800401961,0.800071839,0.800034503,0.786631944,0.75885,0.750608,0.750347333,0.750140741,0.750050847,0.750050847,0.700556897,0.700505263,0.700246491,0.650596491,0.628333333,0.625625,0.625625,0.505888889,0.394722222],\"y0\":\" \",\"yaxis\":\"y\",\"type\":\"box\"}],                        {\"template\":{\"data\":{\"histogram2dcontour\":[{\"type\":\"histogram2dcontour\",\"colorbar\":{\"outlinewidth\":0,\"ticks\":\"\"},\"colorscale\":[[0.0,\"#0d0887\"],[0.1111111111111111,\"#46039f\"],[0.2222222222222222,\"#7201a8\"],[0.3333333333333333,\"#9c179e\"],[0.4444444444444444,\"#bd3786\"],[0.5555555555555556,\"#d8576b\"],[0.6666666666666666,\"#ed7953\"],[0.7777777777777778,\"#fb9f3a\"],[0.8888888888888888,\"#fdca26\"],[1.0,\"#f0f921\"]]}],\"choropleth\":[{\"type\":\"choropleth\",\"colorbar\":{\"outlinewidth\":0,\"ticks\":\"\"}}],\"histogram2d\":[{\"type\":\"histogram2d\",\"colorbar\":{\"outlinewidth\":0,\"ticks\":\"\"},\"colorscale\":[[0.0,\"#0d0887\"],[0.1111111111111111,\"#46039f\"],[0.2222222222222222,\"#7201a8\"],[0.3333333333333333,\"#9c179e\"],[0.4444444444444444,\"#bd3786\"],[0.5555555555555556,\"#d8576b\"],[0.6666666666666666,\"#ed7953\"],[0.7777777777777778,\"#fb9f3a\"],[0.8888888888888888,\"#fdca26\"],[1.0,\"#f0f921\"]]}],\"heatmap\":[{\"type\":\"heatmap\",\"colorbar\":{\"outlinewidth\":0,\"ticks\":\"\"},\"colorscale\":[[0.0,\"#0d0887\"],[0.1111111111111111,\"#46039f\"],[0.2222222222222222,\"#7201a8\"],[0.3333333333333333,\"#9c179e\"],[0.4444444444444444,\"#bd3786\"],[0.5555555555555556,\"#d8576b\"],[0.6666666666666666,\"#ed7953\"],[0.7777777777777778,\"#fb9f3a\"],[0.8888888888888888,\"#fdca26\"],[1.0,\"#f0f921\"]]}],\"heatmapgl\":[{\"type\":\"heatmapgl\",\"colorbar\":{\"outlinewidth\":0,\"ticks\":\"\"},\"colorscale\":[[0.0,\"#0d0887\"],[0.1111111111111111,\"#46039f\"],[0.2222222222222222,\"#7201a8\"],[0.3333333333333333,\"#9c179e\"],[0.4444444444444444,\"#bd3786\"],[0.5555555555555556,\"#d8576b\"],[0.6666666666666666,\"#ed7953\"],[0.7777777777777778,\"#fb9f3a\"],[0.8888888888888888,\"#fdca26\"],[1.0,\"#f0f921\"]]}],\"contourcarpet\":[{\"type\":\"contourcarpet\",\"colorbar\":{\"outlinewidth\":0,\"ticks\":\"\"}}],\"contour\":[{\"type\":\"contour\",\"colorbar\":{\"outlinewidth\":0,\"ticks\":\"\"},\"colorscale\":[[0.0,\"#0d0887\"],[0.1111111111111111,\"#46039f\"],[0.2222222222222222,\"#7201a8\"],[0.3333333333333333,\"#9c179e\"],[0.4444444444444444,\"#bd3786\"],[0.5555555555555556,\"#d8576b\"],[0.6666666666666666,\"#ed7953\"],[0.7777777777777778,\"#fb9f3a\"],[0.8888888888888888,\"#fdca26\"],[1.0,\"#f0f921\"]]}],\"surface\":[{\"type\":\"surface\",\"colorbar\":{\"outlinewidth\":0,\"ticks\":\"\"},\"colorscale\":[[0.0,\"#0d0887\"],[0.1111111111111111,\"#46039f\"],[0.2222222222222222,\"#7201a8\"],[0.3333333333333333,\"#9c179e\"],[0.4444444444444444,\"#bd3786\"],[0.5555555555555556,\"#d8576b\"],[0.6666666666666666,\"#ed7953\"],[0.7777777777777778,\"#fb9f3a\"],[0.8888888888888888,\"#fdca26\"],[1.0,\"#f0f921\"]]}],\"mesh3d\":[{\"type\":\"mesh3d\",\"colorbar\":{\"outlinewidth\":0,\"ticks\":\"\"}}],\"scatter\":[{\"fillpattern\":{\"fillmode\":\"overlay\",\"size\":10,\"solidity\":0.2},\"type\":\"scatter\"}],\"parcoords\":[{\"type\":\"parcoords\",\"line\":{\"colorbar\":{\"outlinewidth\":0,\"ticks\":\"\"}}}],\"scatterpolargl\":[{\"type\":\"scatterpolargl\",\"marker\":{\"colorbar\":{\"outlinewidth\":0,\"ticks\":\"\"}}}],\"bar\":[{\"error_x\":{\"color\":\"#2a3f5f\"},\"error_y\":{\"color\":\"#2a3f5f\"},\"marker\":{\"line\":{\"color\":\"#E5ECF6\",\"width\":0.5},\"pattern\":{\"fillmode\":\"overlay\",\"size\":10,\"solidity\":0.2}},\"type\":\"bar\"}],\"scattergeo\":[{\"type\":\"scattergeo\",\"marker\":{\"colorbar\":{\"outlinewidth\":0,\"ticks\":\"\"}}}],\"scatterpolar\":[{\"type\":\"scatterpolar\",\"marker\":{\"colorbar\":{\"outlinewidth\":0,\"ticks\":\"\"}}}],\"histogram\":[{\"marker\":{\"pattern\":{\"fillmode\":\"overlay\",\"size\":10,\"solidity\":0.2}},\"type\":\"histogram\"}],\"scattergl\":[{\"type\":\"scattergl\",\"marker\":{\"colorbar\":{\"outlinewidth\":0,\"ticks\":\"\"}}}],\"scatter3d\":[{\"type\":\"scatter3d\",\"line\":{\"colorbar\":{\"outlinewidth\":0,\"ticks\":\"\"}},\"marker\":{\"colorbar\":{\"outlinewidth\":0,\"ticks\":\"\"}}}],\"scattermapbox\":[{\"type\":\"scattermapbox\",\"marker\":{\"colorbar\":{\"outlinewidth\":0,\"ticks\":\"\"}}}],\"scatterternary\":[{\"type\":\"scatterternary\",\"marker\":{\"colorbar\":{\"outlinewidth\":0,\"ticks\":\"\"}}}],\"scattercarpet\":[{\"type\":\"scattercarpet\",\"marker\":{\"colorbar\":{\"outlinewidth\":0,\"ticks\":\"\"}}}],\"carpet\":[{\"aaxis\":{\"endlinecolor\":\"#2a3f5f\",\"gridcolor\":\"white\",\"linecolor\":\"white\",\"minorgridcolor\":\"white\",\"startlinecolor\":\"#2a3f5f\"},\"baxis\":{\"endlinecolor\":\"#2a3f5f\",\"gridcolor\":\"white\",\"linecolor\":\"white\",\"minorgridcolor\":\"white\",\"startlinecolor\":\"#2a3f5f\"},\"type\":\"carpet\"}],\"table\":[{\"cells\":{\"fill\":{\"color\":\"#EBF0F8\"},\"line\":{\"color\":\"white\"}},\"header\":{\"fill\":{\"color\":\"#C8D4E3\"},\"line\":{\"color\":\"white\"}},\"type\":\"table\"}],\"barpolar\":[{\"marker\":{\"line\":{\"color\":\"#E5ECF6\",\"width\":0.5},\"pattern\":{\"fillmode\":\"overlay\",\"size\":10,\"solidity\":0.2}},\"type\":\"barpolar\"}],\"pie\":[{\"automargin\":true,\"type\":\"pie\"}]},\"layout\":{\"autotypenumbers\":\"strict\",\"colorway\":[\"#636efa\",\"#EF553B\",\"#00cc96\",\"#ab63fa\",\"#FFA15A\",\"#19d3f3\",\"#FF6692\",\"#B6E880\",\"#FF97FF\",\"#FECB52\"],\"font\":{\"color\":\"#2a3f5f\"},\"hovermode\":\"closest\",\"hoverlabel\":{\"align\":\"left\"},\"paper_bgcolor\":\"white\",\"plot_bgcolor\":\"#E5ECF6\",\"polar\":{\"bgcolor\":\"#E5ECF6\",\"angularaxis\":{\"gridcolor\":\"white\",\"linecolor\":\"white\",\"ticks\":\"\"},\"radialaxis\":{\"gridcolor\":\"white\",\"linecolor\":\"white\",\"ticks\":\"\"}},\"ternary\":{\"bgcolor\":\"#E5ECF6\",\"aaxis\":{\"gridcolor\":\"white\",\"linecolor\":\"white\",\"ticks\":\"\"},\"baxis\":{\"gridcolor\":\"white\",\"linecolor\":\"white\",\"ticks\":\"\"},\"caxis\":{\"gridcolor\":\"white\",\"linecolor\":\"white\",\"ticks\":\"\"}},\"coloraxis\":{\"colorbar\":{\"outlinewidth\":0,\"ticks\":\"\"}},\"colorscale\":{\"sequential\":[[0.0,\"#0d0887\"],[0.1111111111111111,\"#46039f\"],[0.2222222222222222,\"#7201a8\"],[0.3333333333333333,\"#9c179e\"],[0.4444444444444444,\"#bd3786\"],[0.5555555555555556,\"#d8576b\"],[0.6666666666666666,\"#ed7953\"],[0.7777777777777778,\"#fb9f3a\"],[0.8888888888888888,\"#fdca26\"],[1.0,\"#f0f921\"]],\"sequentialminus\":[[0.0,\"#0d0887\"],[0.1111111111111111,\"#46039f\"],[0.2222222222222222,\"#7201a8\"],[0.3333333333333333,\"#9c179e\"],[0.4444444444444444,\"#bd3786\"],[0.5555555555555556,\"#d8576b\"],[0.6666666666666666,\"#ed7953\"],[0.7777777777777778,\"#fb9f3a\"],[0.8888888888888888,\"#fdca26\"],[1.0,\"#f0f921\"]],\"diverging\":[[0,\"#8e0152\"],[0.1,\"#c51b7d\"],[0.2,\"#de77ae\"],[0.3,\"#f1b6da\"],[0.4,\"#fde0ef\"],[0.5,\"#f7f7f7\"],[0.6,\"#e6f5d0\"],[0.7,\"#b8e186\"],[0.8,\"#7fbc41\"],[0.9,\"#4d9221\"],[1,\"#276419\"]]},\"xaxis\":{\"gridcolor\":\"white\",\"linecolor\":\"white\",\"ticks\":\"\",\"title\":{\"standoff\":15},\"zerolinecolor\":\"white\",\"automargin\":true,\"zerolinewidth\":2},\"yaxis\":{\"gridcolor\":\"white\",\"linecolor\":\"white\",\"ticks\":\"\",\"title\":{\"standoff\":15},\"zerolinecolor\":\"white\",\"automargin\":true,\"zerolinewidth\":2},\"scene\":{\"xaxis\":{\"backgroundcolor\":\"#E5ECF6\",\"gridcolor\":\"white\",\"linecolor\":\"white\",\"showbackground\":true,\"ticks\":\"\",\"zerolinecolor\":\"white\",\"gridwidth\":2},\"yaxis\":{\"backgroundcolor\":\"#E5ECF6\",\"gridcolor\":\"white\",\"linecolor\":\"white\",\"showbackground\":true,\"ticks\":\"\",\"zerolinecolor\":\"white\",\"gridwidth\":2},\"zaxis\":{\"backgroundcolor\":\"#E5ECF6\",\"gridcolor\":\"white\",\"linecolor\":\"white\",\"showbackground\":true,\"ticks\":\"\",\"zerolinecolor\":\"white\",\"gridwidth\":2}},\"shapedefaults\":{\"line\":{\"color\":\"#2a3f5f\"}},\"annotationdefaults\":{\"arrowcolor\":\"#2a3f5f\",\"arrowhead\":0,\"arrowwidth\":1},\"geo\":{\"bgcolor\":\"white\",\"landcolor\":\"#E5ECF6\",\"subunitcolor\":\"white\",\"showland\":true,\"showlakes\":true,\"lakecolor\":\"white\"},\"title\":{\"x\":0.05},\"mapbox\":{\"style\":\"light\"}}},\"xaxis\":{\"anchor\":\"y\",\"domain\":[0.0,1.0],\"title\":{\"text\":\"department\"}},\"yaxis\":{\"anchor\":\"x\",\"domain\":[0.0,1.0],\"title\":{\"text\":\"actual_productivity\"}},\"legend\":{\"tracegroupgap\":0},\"margin\":{\"t\":60},\"boxmode\":\"group\"},                        {\"responsive\": true}                    ).then(function(){\n",
              "                            \n",
              "var gd = document.getElementById('6435bc20-97e9-4962-abbf-fdccdf959486');\n",
              "var x = new MutationObserver(function (mutations, observer) {{\n",
              "        var display = window.getComputedStyle(gd).display;\n",
              "        if (!display || display === 'none') {{\n",
              "            console.log([gd, 'removed!']);\n",
              "            Plotly.purge(gd);\n",
              "            observer.disconnect();\n",
              "        }}\n",
              "}});\n",
              "\n",
              "// Listen for the removal of the full notebook cells\n",
              "var notebookContainer = gd.closest('#notebook-container');\n",
              "if (notebookContainer) {{\n",
              "    x.observe(notebookContainer, {childList: true});\n",
              "}}\n",
              "\n",
              "// Listen for the clearing of the current output cell\n",
              "var outputEl = gd.closest('.output');\n",
              "if (outputEl) {{\n",
              "    x.observe(outputEl, {childList: true});\n",
              "}}\n",
              "\n",
              "                        })                };                            </script>        </div>\n",
              "</body>\n",
              "</html>"
            ]
          },
          "metadata": {}
        }
      ]
    },
    {
      "cell_type": "code",
      "source": [
        "sb.boxplot(y = \"actual_productivity\" , data = df);"
      ],
      "metadata": {
        "colab": {
          "base_uri": "https://localhost:8080/",
          "height": 411
        },
        "id": "hxIGScMqxEay",
        "outputId": "07c729ea-fbfc-4df9-8138-bf73a880bc0c"
      },
      "execution_count": null,
      "outputs": [
        {
          "output_type": "display_data",
          "data": {
            "text/plain": [
              "<Figure size 640x480 with 1 Axes>"
            ],
            "image/png": "[encoded data removed]"
          },
          "metadata": {}
        }
      ]
    },
    {
      "cell_type": "code",
      "source": [],
      "metadata": {
        "id": "8byHf0urLa6U"
      },
      "execution_count": null,
      "outputs": []
    },
    {
      "cell_type": "code",
      "source": [
        "# df.columns"
      ],
      "metadata": {
        "id": "YIWIpxYcxSpa"
      },
      "execution_count": null,
      "outputs": []
    },
    {
      "cell_type": "code",
      "source": [
        "\n",
        "# Define a mapping from departments to numeric values\n",
        "department_mapping = {\n",
        "    'sewing': 1,\n",
        "    'finishing': 2,\n",
        "}\n",
        "\n",
        "df['department'] = df['department'].map(department_mapping)"
      ],
      "metadata": {
        "id": "cKTyIlkUxaBZ"
      },
      "execution_count": null,
      "outputs": []
    },
    {
      "cell_type": "code",
      "source": [
        "Quarter = pd.get_dummies(df[\"quarter\"] )\n",
        "df = pd.concat([df , Quarter], axis =1)"
      ],
      "metadata": {
        "id": "8T3Aiqsr22rv"
      },
      "execution_count": null,
      "outputs": []
    },
    {
      "cell_type": "code",
      "source": [
        "df[\"quarter\"].unique()"
      ],
      "metadata": {
        "colab": {
          "base_uri": "https://localhost:8080/"
        },
        "id": "DOUkxtdDFsRC",
        "outputId": "8f5d7d97-b6cd-4842-d377-9b8e791da1ff"
      },
      "execution_count": null,
      "outputs": [
        {
          "output_type": "execute_result",
          "data": {
            "text/plain": [
              "array(['Quarter1', 'Quarter2', 'Quarter3', 'Quarter4', 'Quarter5'],\n",
              "      dtype=object)"
            ]
          },
          "metadata": {},
          "execution_count": 31
        }
      ]
    },
    {
      "cell_type": "code",
      "source": [
        "Quarter"
      ],
      "metadata": {
        "id": "_HzO8V7cPSNr",
        "colab": {
          "base_uri": "https://localhost:8080/",
          "height": 424
        },
        "outputId": "a9d10876-7b9f-4dc8-82a2-41595ae7c298"
      },
      "execution_count": null,
      "outputs": [
        {
          "output_type": "execute_result",
          "data": {
            "text/plain": [
              "      Quarter1  Quarter2  Quarter3  Quarter4  Quarter5\n",
              "0            1         0         0         0         0\n",
              "1            1         0         0         0         0\n",
              "2            1         0         0         0         0\n",
              "3            1         0         0         0         0\n",
              "4            1         0         0         0         0\n",
              "...        ...       ...       ...       ...       ...\n",
              "1192         0         1         0         0         0\n",
              "1193         0         1         0         0         0\n",
              "1194         0         1         0         0         0\n",
              "1195         0         1         0         0         0\n",
              "1196         0         1         0         0         0\n",
              "\n",
              "[1197 rows x 5 columns]"
            ],
            "text/html": [
              "\n",
              "  <div id=\"df-7a9cb6c2-a8d1-428e-9365-35da11bf9ea7\" class=\"colab-df-container\">\n",
              "    <div>\n",
              "<style scoped>\n",
              "    .dataframe tbody tr th:only-of-type {\n",
              "        vertical-align: middle;\n",
              "    }\n",
              "\n",
              "    .dataframe tbody tr th {\n",
              "        vertical-align: top;\n",
              "    }\n",
              "\n",
              "    .dataframe thead th {\n",
              "        text-align: right;\n",
              "    }\n",
              "</style>\n",
              "<table border=\"1\" class=\"dataframe\">\n",
              "  <thead>\n",
              "    <tr style=\"text-align: right;\">\n",
              "      <th></th>\n",
              "      <th>Quarter1</th>\n",
              "      <th>Quarter2</th>\n",
              "      <th>Quarter3</th>\n",
              "      <th>Quarter4</th>\n",
              "      <th>Quarter5</th>\n",
              "    </tr>\n",
              "  </thead>\n",
              "  <tbody>\n",
              "    <tr>\n",
              "      <th>0</th>\n",
              "      <td>1</td>\n",
              "      <td>0</td>\n",
              "      <td>0</td>\n",
              "      <td>0</td>\n",
              "      <td>0</td>\n",
              "    </tr>\n",
              "    <tr>\n",
              "      <th>1</th>\n",
              "      <td>1</td>\n",
              "      <td>0</td>\n",
              "      <td>0</td>\n",
              "      <td>0</td>\n",
              "      <td>0</td>\n",
              "    </tr>\n",
              "    <tr>\n",
              "      <th>2</th>\n",
              "      <td>1</td>\n",
              "      <td>0</td>\n",
              "      <td>0</td>\n",
              "      <td>0</td>\n",
              "      <td>0</td>\n",
              "    </tr>\n",
              "    <tr>\n",
              "      <th>3</th>\n",
              "      <td>1</td>\n",
              "      <td>0</td>\n",
              "      <td>0</td>\n",
              "      <td>0</td>\n",
              "      <td>0</td>\n",
              "    </tr>\n",
              "    <tr>\n",
              "      <th>4</th>\n",
              "      <td>1</td>\n",
              "      <td>0</td>\n",
              "      <td>0</td>\n",
              "      <td>0</td>\n",
              "      <td>0</td>\n",
              "    </tr>\n",
              "    <tr>\n",
              "      <th>...</th>\n",
              "      <td>...</td>\n",
              "      <td>...</td>\n",
              "      <td>...</td>\n",
              "      <td>...</td>\n",
              "      <td>...</td>\n",
              "    </tr>\n",
              "    <tr>\n",
              "      <th>1192</th>\n",
              "      <td>0</td>\n",
              "      <td>1</td>\n",
              "      <td>0</td>\n",
              "      <td>0</td>\n",
              "      <td>0</td>\n",
              "    </tr>\n",
              "    <tr>\n",
              "      <th>1193</th>\n",
              "      <td>0</td>\n",
              "      <td>1</td>\n",
              "      <td>0</td>\n",
              "      <td>0</td>\n",
              "      <td>0</td>\n",
              "    </tr>\n",
              "    <tr>\n",
              "      <th>1194</th>\n",
              "      <td>0</td>\n",
              "      <td>1</td>\n",
              "      <td>0</td>\n",
              "      <td>0</td>\n",
              "      <td>0</td>\n",
              "    </tr>\n",
              "    <tr>\n",
              "      <th>1195</th>\n",
              "      <td>0</td>\n",
              "      <td>1</td>\n",
              "      <td>0</td>\n",
              "      <td>0</td>\n",
              "      <td>0</td>\n",
              "    </tr>\n",
              "    <tr>\n",
              "      <th>1196</th>\n",
              "      <td>0</td>\n",
              "      <td>1</td>\n",
              "      <td>0</td>\n",
              "      <td>0</td>\n",
              "      <td>0</td>\n",
              "    </tr>\n",
              "  </tbody>\n",
              "</table>\n",
              "<p>1197 rows × 5 columns</p>\n",
              "</div>\n",
              "    <div class=\"colab-df-buttons\">\n",
              "\n",
              "  <div class=\"colab-df-container\">\n",
              "    <button class=\"colab-df-convert\" onclick=\"convertToInteractive('df-7a9cb6c2-a8d1-428e-9365-35da11bf9ea7')\"\n",
              "            title=\"Convert this dataframe to an interactive table.\"\n",
              "            style=\"display:none;\">\n",
              "\n",
              "  <svg xmlns=\"http://www.w3.org/2000/svg\" height=\"24px\" viewBox=\"0 -960 960 960\">\n",
              "    <path d=\"M120-120v-720h720v720H120Zm60-500h600v-160H180v160Zm220 220h160v-160H400v160Zm0 220h160v-160H400v160ZM180-400h160v-160H180v160Zm440 0h160v-160H620v160ZM180-180h160v-160H180v160Zm440 0h160v-160H620v160Z\"/>\n",
              "  </svg>\n",
              "    </button>\n",
              "\n",
              "  <style>\n",
              "    .colab-df-container {\n",
              "      display:flex;\n",
              "      gap: 12px;\n",
              "    }\n",
              "\n",
              "    .colab-df-convert {\n",
              "      background-color: #E8F0FE;\n",
              "      border: none;\n",
              "      border-radius: 50%;\n",
              "      cursor: pointer;\n",
              "      display: none;\n",
              "      fill: #1967D2;\n",
              "      height: 32px;\n",
              "      padding: 0 0 0 0;\n",
              "      width: 32px;\n",
              "    }\n",
              "\n",
              "    .colab-df-convert:hover {\n",
              "      background-color: #E2EBFA;\n",
              "      box-shadow: 0px 1px 2px rgba(60, 64, 67, 0.3), 0px 1px 3px 1px rgba(60, 64, 67, 0.15);\n",
              "      fill: #174EA6;\n",
              "    }\n",
              "\n",
              "    .colab-df-buttons div {\n",
              "      margin-bottom: 4px;\n",
              "    }\n",
              "\n",
              "    [theme=dark] .colab-df-convert {\n",
              "      background-color: #3B4455;\n",
              "      fill: #D2E3FC;\n",
              "    }\n",
              "\n",
              "    [theme=dark] .colab-df-convert:hover {\n",
              "      background-color: #434B5C;\n",
              "      box-shadow: 0px 1px 3px 1px rgba(0, 0, 0, 0.15);\n",
              "      filter: drop-shadow(0px 1px 2px rgba(0, 0, 0, 0.3));\n",
              "      fill: #FFFFFF;\n",
              "    }\n",
              "  </style>\n",
              "\n",
              "    <script>\n",
              "      const buttonEl =\n",
              "        document.querySelector('#df-7a9cb6c2-a8d1-428e-9365-35da11bf9ea7 button.colab-df-convert');\n",
              "      buttonEl.style.display =\n",
              "        google.colab.kernel.accessAllowed ? 'block' : 'none';\n",
              "\n",
              "      async function convertToInteractive(key) {\n",
              "        const element = document.querySelector('#df-7a9cb6c2-a8d1-428e-9365-35da11bf9ea7');\n",
              "        const dataTable =\n",
              "          await google.colab.kernel.invokeFunction('convertToInteractive',\n",
              "                                                    [key], {});\n",
              "        if (!dataTable) return;\n",
              "\n",
              "        const docLinkHtml = 'Like what you see? Visit the ' +\n",
              "          '<a target=\"_blank\" href=https://colab.research.google.com/notebooks/data_table.ipynb>data table notebook</a>'\n",
              "          + ' to learn more about interactive tables.';\n",
              "        element.innerHTML = '';\n",
              "        dataTable['output_type'] = 'display_data';\n",
              "        await google.colab.output.renderOutput(dataTable, element);\n",
              "        const docLink = document.createElement('div');\n",
              "        docLink.innerHTML = docLinkHtml;\n",
              "        element.appendChild(docLink);\n",
              "      }\n",
              "    </script>\n",
              "  </div>\n",
              "\n",
              "\n",
              "<div id=\"df-990df017-5728-4c4f-8e93-dfdaea78c52b\">\n",
              "  <button class=\"colab-df-quickchart\" onclick=\"quickchart('df-990df017-5728-4c4f-8e93-dfdaea78c52b')\"\n",
              "            title=\"Suggest charts.\"\n",
              "            style=\"display:none;\">\n",
              "\n",
              "<svg xmlns=\"http://www.w3.org/2000/svg\" height=\"24px\"viewBox=\"0 0 24 24\"\n",
              "     width=\"24px\">\n",
              "    <g>\n",
              "        <path d=\"M19 3H5c-1.1 0-2 .9-2 2v14c0 1.1.9 2 2 2h14c1.1 0 2-.9 2-2V5c0-1.1-.9-2-2-2zM9 17H7v-7h2v7zm4 0h-2V7h2v10zm4 0h-2v-4h2v4z\"/>\n",
              "    </g>\n",
              "</svg>\n",
              "  </button>\n",
              "\n",
              "<style>\n",
              "  .colab-df-quickchart {\n",
              "      --bg-color: #E8F0FE;\n",
              "      --fill-color: #1967D2;\n",
              "      --hover-bg-color: #E2EBFA;\n",
              "      --hover-fill-color: #174EA6;\n",
              "      --disabled-fill-color: #AAA;\n",
              "      --disabled-bg-color: #DDD;\n",
              "  }\n",
              "\n",
              "  [theme=dark] .colab-df-quickchart {\n",
              "      --bg-color: #3B4455;\n",
              "      --fill-color: #D2E3FC;\n",
              "      --hover-bg-color: #434B5C;\n",
              "      --hover-fill-color: #FFFFFF;\n",
              "      --disabled-bg-color: #3B4455;\n",
              "      --disabled-fill-color: #666;\n",
              "  }\n",
              "\n",
              "  .colab-df-quickchart {\n",
              "    background-color: var(--bg-color);\n",
              "    border: none;\n",
              "    border-radius: 50%;\n",
              "    cursor: pointer;\n",
              "    display: none;\n",
              "    fill: var(--fill-color);\n",
              "    height: 32px;\n",
              "    padding: 0;\n",
              "    width: 32px;\n",
              "  }\n",
              "\n",
              "  .colab-df-quickchart:hover {\n",
              "    background-color: var(--hover-bg-color);\n",
              "    box-shadow: 0 1px 2px rgba(60, 64, 67, 0.3), 0 1px 3px 1px rgba(60, 64, 67, 0.15);\n",
              "    fill: var(--button-hover-fill-color);\n",
              "  }\n",
              "\n",
              "  .colab-df-quickchart-complete:disabled,\n",
              "  .colab-df-quickchart-complete:disabled:hover {\n",
              "    background-color: var(--disabled-bg-color);\n",
              "    fill: var(--disabled-fill-color);\n",
              "    box-shadow: none;\n",
              "  }\n",
              "\n",
              "  .colab-df-spinner {\n",
              "    border: 2px solid var(--fill-color);\n",
              "    border-color: transparent;\n",
              "    border-bottom-color: var(--fill-color);\n",
              "    animation:\n",
              "      spin 1s steps(1) infinite;\n",
              "  }\n",
              "\n",
              "  @keyframes spin {\n",
              "    0% {\n",
              "      border-color: transparent;\n",
              "      border-bottom-color: var(--fill-color);\n",
              "      border-left-color: var(--fill-color);\n",
              "    }\n",
              "    20% {\n",
              "      border-color: transparent;\n",
              "      border-left-color: var(--fill-color);\n",
              "      border-top-color: var(--fill-color);\n",
              "    }\n",
              "    30% {\n",
              "      border-color: transparent;\n",
              "      border-left-color: var(--fill-color);\n",
              "      border-top-color: var(--fill-color);\n",
              "      border-right-color: var(--fill-color);\n",
              "    }\n",
              "    40% {\n",
              "      border-color: transparent;\n",
              "      border-right-color: var(--fill-color);\n",
              "      border-top-color: var(--fill-color);\n",
              "    }\n",
              "    60% {\n",
              "      border-color: transparent;\n",
              "      border-right-color: var(--fill-color);\n",
              "    }\n",
              "    80% {\n",
              "      border-color: transparent;\n",
              "      border-right-color: var(--fill-color);\n",
              "      border-bottom-color: var(--fill-color);\n",
              "    }\n",
              "    90% {\n",
              "      border-color: transparent;\n",
              "      border-bottom-color: var(--fill-color);\n",
              "    }\n",
              "  }\n",
              "</style>\n",
              "\n",
              "  <script>\n",
              "    async function quickchart(key) {\n",
              "      const quickchartButtonEl =\n",
              "        document.querySelector('#' + key + ' button');\n",
              "      quickchartButtonEl.disabled = true;  // To prevent multiple clicks.\n",
              "      quickchartButtonEl.classList.add('colab-df-spinner');\n",
              "      try {\n",
              "        const charts = await google.colab.kernel.invokeFunction(\n",
              "            'suggestCharts', [key], {});\n",
              "      } catch (error) {\n",
              "        console.error('Error during call to suggestCharts:', error);\n",
              "      }\n",
              "      quickchartButtonEl.classList.remove('colab-df-spinner');\n",
              "      quickchartButtonEl.classList.add('colab-df-quickchart-complete');\n",
              "    }\n",
              "    (() => {\n",
              "      let quickchartButtonEl =\n",
              "        document.querySelector('#df-990df017-5728-4c4f-8e93-dfdaea78c52b button');\n",
              "      quickchartButtonEl.style.display =\n",
              "        google.colab.kernel.accessAllowed ? 'block' : 'none';\n",
              "    })();\n",
              "  </script>\n",
              "</div>\n",
              "    </div>\n",
              "  </div>\n"
            ]
          },
          "metadata": {},
          "execution_count": 32
        }
      ]
    },
    {
      "cell_type": "code",
      "source": [
        "df.shape"
      ],
      "metadata": {
        "colab": {
          "base_uri": "https://localhost:8080/"
        },
        "id": "PAgdlRghylX6",
        "outputId": "d0c44bb5-e31c-4e02-c39d-0aa0ddfd3e7a"
      },
      "execution_count": null,
      "outputs": [
        {
          "output_type": "execute_result",
          "data": {
            "text/plain": [
              "(1197, 20)"
            ]
          },
          "metadata": {},
          "execution_count": 33
        }
      ]
    },
    {
      "cell_type": "code",
      "source": [
        "df.head(4)"
      ],
      "metadata": {
        "colab": {
          "base_uri": "https://localhost:8080/",
          "height": 264
        },
        "id": "NOQ8OW9NOlOY",
        "outputId": "ed05f032-341e-4c58-8dba-946332799084"
      },
      "execution_count": null,
      "outputs": [
        {
          "output_type": "execute_result",
          "data": {
            "text/plain": [
              "        date   quarter  department  day  team  targeted_productivity  \\\n",
              "0 2015-01-01  Quarter1           1    1     8                   0.80   \n",
              "1 2015-01-01  Quarter1           2    1     1                   0.75   \n",
              "2 2015-01-01  Quarter1           1    1    11                   0.80   \n",
              "3 2015-01-01  Quarter1           1    1    12                   0.80   \n",
              "\n",
              "   standard_minute_value  work_in_progress  over_time  incentive  idle_time  \\\n",
              "0                  26.16            1108.0       7080         98        0.0   \n",
              "1                   3.94            1039.0        960          0        0.0   \n",
              "2                  11.41             968.0       3660         50        0.0   \n",
              "3                  11.41             968.0       3660         50        0.0   \n",
              "\n",
              "   idle_men  no_of_style_change  no_of_workers  actual_productivity  Quarter1  \\\n",
              "0         0                   0           59.0             0.940725         1   \n",
              "1         0                   0            8.0             0.886500         1   \n",
              "2         0                   0           30.5             0.800570         1   \n",
              "3         0                   0           30.5             0.800570         1   \n",
              "\n",
              "   Quarter2  Quarter3  Quarter4  Quarter5  \n",
              "0         0         0         0         0  \n",
              "1         0         0         0         0  \n",
              "2         0         0         0         0  \n",
              "3         0         0         0         0  "
            ],
            "text/html": [
              "\n",
              "  <div id=\"df-8306a9de-7136-4d80-9406-8df027f8358d\" class=\"colab-df-container\">\n",
              "    <div>\n",
              "<style scoped>\n",
              "    .dataframe tbody tr th:only-of-type {\n",
              "        vertical-align: middle;\n",
              "    }\n",
              "\n",
              "    .dataframe tbody tr th {\n",
              "        vertical-align: top;\n",
              "    }\n",
              "\n",
              "    .dataframe thead th {\n",
              "        text-align: right;\n",
              "    }\n",
              "</style>\n",
              "<table border=\"1\" class=\"dataframe\">\n",
              "  <thead>\n",
              "    <tr style=\"text-align: right;\">\n",
              "      <th></th>\n",
              "      <th>date</th>\n",
              "      <th>quarter</th>\n",
              "      <th>department</th>\n",
              "      <th>day</th>\n",
              "      <th>team</th>\n",
              "      <th>targeted_productivity</th>\n",
              "      <th>standard_minute_value</th>\n",
              "      <th>work_in_progress</th>\n",
              "      <th>over_time</th>\n",
              "      <th>incentive</th>\n",
              "      <th>idle_time</th>\n",
              "      <th>idle_men</th>\n",
              "      <th>no_of_style_change</th>\n",
              "      <th>no_of_workers</th>\n",
              "      <th>actual_productivity</th>\n",
              "      <th>Quarter1</th>\n",
              "      <th>Quarter2</th>\n",
              "      <th>Quarter3</th>\n",
              "      <th>Quarter4</th>\n",
              "      <th>Quarter5</th>\n",
              "    </tr>\n",
              "  </thead>\n",
              "  <tbody>\n",
              "    <tr>\n",
              "      <th>0</th>\n",
              "      <td>2015-01-01</td>\n",
              "      <td>Quarter1</td>\n",
              "      <td>1</td>\n",
              "      <td>1</td>\n",
              "      <td>8</td>\n",
              "      <td>0.80</td>\n",
              "      <td>26.16</td>\n",
              "      <td>1108.0</td>\n",
              "      <td>7080</td>\n",
              "      <td>98</td>\n",
              "      <td>0.0</td>\n",
              "      <td>0</td>\n",
              "      <td>0</td>\n",
              "      <td>59.0</td>\n",
              "      <td>0.940725</td>\n",
              "      <td>1</td>\n",
              "      <td>0</td>\n",
              "      <td>0</td>\n",
              "      <td>0</td>\n",
              "      <td>0</td>\n",
              "    </tr>\n",
              "    <tr>\n",
              "      <th>1</th>\n",
              "      <td>2015-01-01</td>\n",
              "      <td>Quarter1</td>\n",
              "      <td>2</td>\n",
              "      <td>1</td>\n",
              "      <td>1</td>\n",
              "      <td>0.75</td>\n",
              "      <td>3.94</td>\n",
              "      <td>1039.0</td>\n",
              "      <td>960</td>\n",
              "      <td>0</td>\n",
              "      <td>0.0</td>\n",
              "      <td>0</td>\n",
              "      <td>0</td>\n",
              "      <td>8.0</td>\n",
              "      <td>0.886500</td>\n",
              "      <td>1</td>\n",
              "      <td>0</td>\n",
              "      <td>0</td>\n",
              "      <td>0</td>\n",
              "      <td>0</td>\n",
              "    </tr>\n",
              "    <tr>\n",
              "      <th>2</th>\n",
              "      <td>2015-01-01</td>\n",
              "      <td>Quarter1</td>\n",
              "      <td>1</td>\n",
              "      <td>1</td>\n",
              "      <td>11</td>\n",
              "      <td>0.80</td>\n",
              "      <td>11.41</td>\n",
              "      <td>968.0</td>\n",
              "      <td>3660</td>\n",
              "      <td>50</td>\n",
              "      <td>0.0</td>\n",
              "      <td>0</td>\n",
              "      <td>0</td>\n",
              "      <td>30.5</td>\n",
              "      <td>0.800570</td>\n",
              "      <td>1</td>\n",
              "      <td>0</td>\n",
              "      <td>0</td>\n",
              "      <td>0</td>\n",
              "      <td>0</td>\n",
              "    </tr>\n",
              "    <tr>\n",
              "      <th>3</th>\n",
              "      <td>2015-01-01</td>\n",
              "      <td>Quarter1</td>\n",
              "      <td>1</td>\n",
              "      <td>1</td>\n",
              "      <td>12</td>\n",
              "      <td>0.80</td>\n",
              "      <td>11.41</td>\n",
              "      <td>968.0</td>\n",
              "      <td>3660</td>\n",
              "      <td>50</td>\n",
              "      <td>0.0</td>\n",
              "      <td>0</td>\n",
              "      <td>0</td>\n",
              "      <td>30.5</td>\n",
              "      <td>0.800570</td>\n",
              "      <td>1</td>\n",
              "      <td>0</td>\n",
              "      <td>0</td>\n",
              "      <td>0</td>\n",
              "      <td>0</td>\n",
              "    </tr>\n",
              "  </tbody>\n",
              "</table>\n",
              "</div>\n",
              "    <div class=\"colab-df-buttons\">\n",
              "\n",
              "  <div class=\"colab-df-container\">\n",
              "    <button class=\"colab-df-convert\" onclick=\"convertToInteractive('df-8306a9de-7136-4d80-9406-8df027f8358d')\"\n",
              "            title=\"Convert this dataframe to an interactive table.\"\n",
              "            style=\"display:none;\">\n",
              "\n",
              "  <svg xmlns=\"http://www.w3.org/2000/svg\" height=\"24px\" viewBox=\"0 -960 960 960\">\n",
              "    <path d=\"M120-120v-720h720v720H120Zm60-500h600v-160H180v160Zm220 220h160v-160H400v160Zm0 220h160v-160H400v160ZM180-400h160v-160H180v160Zm440 0h160v-160H620v160ZM180-180h160v-160H180v160Zm440 0h160v-160H620v160Z\"/>\n",
              "  </svg>\n",
              "    </button>\n",
              "\n",
              "  <style>\n",
              "    .colab-df-container {\n",
              "      display:flex;\n",
              "      gap: 12px;\n",
              "    }\n",
              "\n",
              "    .colab-df-convert {\n",
              "      background-color: #E8F0FE;\n",
              "      border: none;\n",
              "      border-radius: 50%;\n",
              "      cursor: pointer;\n",
              "      display: none;\n",
              "      fill: #1967D2;\n",
              "      height: 32px;\n",
              "      padding: 0 0 0 0;\n",
              "      width: 32px;\n",
              "    }\n",
              "\n",
              "    .colab-df-convert:hover {\n",
              "      background-color: #E2EBFA;\n",
              "      box-shadow: 0px 1px 2px rgba(60, 64, 67, 0.3), 0px 1px 3px 1px rgba(60, 64, 67, 0.15);\n",
              "      fill: #174EA6;\n",
              "    }\n",
              "\n",
              "    .colab-df-buttons div {\n",
              "      margin-bottom: 4px;\n",
              "    }\n",
              "\n",
              "    [theme=dark] .colab-df-convert {\n",
              "      background-color: #3B4455;\n",
              "      fill: #D2E3FC;\n",
              "    }\n",
              "\n",
              "    [theme=dark] .colab-df-convert:hover {\n",
              "      background-color: #434B5C;\n",
              "      box-shadow: 0px 1px 3px 1px rgba(0, 0, 0, 0.15);\n",
              "      filter: drop-shadow(0px 1px 2px rgba(0, 0, 0, 0.3));\n",
              "      fill: #FFFFFF;\n",
              "    }\n",
              "  </style>\n",
              "\n",
              "    <script>\n",
              "      const buttonEl =\n",
              "        document.querySelector('#df-8306a9de-7136-4d80-9406-8df027f8358d button.colab-df-convert');\n",
              "      buttonEl.style.display =\n",
              "        google.colab.kernel.accessAllowed ? 'block' : 'none';\n",
              "\n",
              "      async function convertToInteractive(key) {\n",
              "        const element = document.querySelector('#df-8306a9de-7136-4d80-9406-8df027f8358d');\n",
              "        const dataTable =\n",
              "          await google.colab.kernel.invokeFunction('convertToInteractive',\n",
              "                                                    [key], {});\n",
              "        if (!dataTable) return;\n",
              "\n",
              "        const docLinkHtml = 'Like what you see? Visit the ' +\n",
              "          '<a target=\"_blank\" href=https://colab.research.google.com/notebooks/data_table.ipynb>data table notebook</a>'\n",
              "          + ' to learn more about interactive tables.';\n",
              "        element.innerHTML = '';\n",
              "        dataTable['output_type'] = 'display_data';\n",
              "        await google.colab.output.renderOutput(dataTable, element);\n",
              "        const docLink = document.createElement('div');\n",
              "        docLink.innerHTML = docLinkHtml;\n",
              "        element.appendChild(docLink);\n",
              "      }\n",
              "    </script>\n",
              "  </div>\n",
              "\n",
              "\n",
              "<div id=\"df-dc7edb93-228e-419c-99fe-a8051e4bc34f\">\n",
              "  <button class=\"colab-df-quickchart\" onclick=\"quickchart('df-dc7edb93-228e-419c-99fe-a8051e4bc34f')\"\n",
              "            title=\"Suggest charts.\"\n",
              "            style=\"display:none;\">\n",
              "\n",
              "<svg xmlns=\"http://www.w3.org/2000/svg\" height=\"24px\"viewBox=\"0 0 24 24\"\n",
              "     width=\"24px\">\n",
              "    <g>\n",
              "        <path d=\"M19 3H5c-1.1 0-2 .9-2 2v14c0 1.1.9 2 2 2h14c1.1 0 2-.9 2-2V5c0-1.1-.9-2-2-2zM9 17H7v-7h2v7zm4 0h-2V7h2v10zm4 0h-2v-4h2v4z\"/>\n",
              "    </g>\n",
              "</svg>\n",
              "  </button>\n",
              "\n",
              "<style>\n",
              "  .colab-df-quickchart {\n",
              "      --bg-color: #E8F0FE;\n",
              "      --fill-color: #1967D2;\n",
              "      --hover-bg-color: #E2EBFA;\n",
              "      --hover-fill-color: #174EA6;\n",
              "      --disabled-fill-color: #AAA;\n",
              "      --disabled-bg-color: #DDD;\n",
              "  }\n",
              "\n",
              "  [theme=dark] .colab-df-quickchart {\n",
              "      --bg-color: #3B4455;\n",
              "      --fill-color: #D2E3FC;\n",
              "      --hover-bg-color: #434B5C;\n",
              "      --hover-fill-color: #FFFFFF;\n",
              "      --disabled-bg-color: #3B4455;\n",
              "      --disabled-fill-color: #666;\n",
              "  }\n",
              "\n",
              "  .colab-df-quickchart {\n",
              "    background-color: var(--bg-color);\n",
              "    border: none;\n",
              "    border-radius: 50%;\n",
              "    cursor: pointer;\n",
              "    display: none;\n",
              "    fill: var(--fill-color);\n",
              "    height: 32px;\n",
              "    padding: 0;\n",
              "    width: 32px;\n",
              "  }\n",
              "\n",
              "  .colab-df-quickchart:hover {\n",
              "    background-color: var(--hover-bg-color);\n",
              "    box-shadow: 0 1px 2px rgba(60, 64, 67, 0.3), 0 1px 3px 1px rgba(60, 64, 67, 0.15);\n",
              "    fill: var(--button-hover-fill-color);\n",
              "  }\n",
              "\n",
              "  .colab-df-quickchart-complete:disabled,\n",
              "  .colab-df-quickchart-complete:disabled:hover {\n",
              "    background-color: var(--disabled-bg-color);\n",
              "    fill: var(--disabled-fill-color);\n",
              "    box-shadow: none;\n",
              "  }\n",
              "\n",
              "  .colab-df-spinner {\n",
              "    border: 2px solid var(--fill-color);\n",
              "    border-color: transparent;\n",
              "    border-bottom-color: var(--fill-color);\n",
              "    animation:\n",
              "      spin 1s steps(1) infinite;\n",
              "  }\n",
              "\n",
              "  @keyframes spin {\n",
              "    0% {\n",
              "      border-color: transparent;\n",
              "      border-bottom-color: var(--fill-color);\n",
              "      border-left-color: var(--fill-color);\n",
              "    }\n",
              "    20% {\n",
              "      border-color: transparent;\n",
              "      border-left-color: var(--fill-color);\n",
              "      border-top-color: var(--fill-color);\n",
              "    }\n",
              "    30% {\n",
              "      border-color: transparent;\n",
              "      border-left-color: var(--fill-color);\n",
              "      border-top-color: var(--fill-color);\n",
              "      border-right-color: var(--fill-color);\n",
              "    }\n",
              "    40% {\n",
              "      border-color: transparent;\n",
              "      border-right-color: var(--fill-color);\n",
              "      border-top-color: var(--fill-color);\n",
              "    }\n",
              "    60% {\n",
              "      border-color: transparent;\n",
              "      border-right-color: var(--fill-color);\n",
              "    }\n",
              "    80% {\n",
              "      border-color: transparent;\n",
              "      border-right-color: var(--fill-color);\n",
              "      border-bottom-color: var(--fill-color);\n",
              "    }\n",
              "    90% {\n",
              "      border-color: transparent;\n",
              "      border-bottom-color: var(--fill-color);\n",
              "    }\n",
              "  }\n",
              "</style>\n",
              "\n",
              "  <script>\n",
              "    async function quickchart(key) {\n",
              "      const quickchartButtonEl =\n",
              "        document.querySelector('#' + key + ' button');\n",
              "      quickchartButtonEl.disabled = true;  // To prevent multiple clicks.\n",
              "      quickchartButtonEl.classList.add('colab-df-spinner');\n",
              "      try {\n",
              "        const charts = await google.colab.kernel.invokeFunction(\n",
              "            'suggestCharts', [key], {});\n",
              "      } catch (error) {\n",
              "        console.error('Error during call to suggestCharts:', error);\n",
              "      }\n",
              "      quickchartButtonEl.classList.remove('colab-df-spinner');\n",
              "      quickchartButtonEl.classList.add('colab-df-quickchart-complete');\n",
              "    }\n",
              "    (() => {\n",
              "      let quickchartButtonEl =\n",
              "        document.querySelector('#df-dc7edb93-228e-419c-99fe-a8051e4bc34f button');\n",
              "      quickchartButtonEl.style.display =\n",
              "        google.colab.kernel.accessAllowed ? 'block' : 'none';\n",
              "    })();\n",
              "  </script>\n",
              "</div>\n",
              "    </div>\n",
              "  </div>\n"
            ]
          },
          "metadata": {},
          "execution_count": 34
        }
      ]
    },
    {
      "cell_type": "code",
      "source": [
        "df = df.drop([\"quarter\" , \"date\"] ,axis =1)"
      ],
      "metadata": {
        "id": "GfZFgq-222oY"
      },
      "execution_count": null,
      "outputs": []
    },
    {
      "cell_type": "code",
      "source": [
        "df"
      ],
      "metadata": {
        "id": "POiiZJ_zMHJ4",
        "colab": {
          "base_uri": "https://localhost:8080/",
          "height": 444
        },
        "outputId": "82585210-7126-4273-dde3-ee66c16c7a16"
      },
      "execution_count": null,
      "outputs": [
        {
          "output_type": "execute_result",
          "data": {
            "text/plain": [
              "      department  day  team  targeted_productivity  standard_minute_value  \\\n",
              "0              1    1     8                   0.80                  26.16   \n",
              "1              2    1     1                   0.75                   3.94   \n",
              "2              1    1    11                   0.80                  11.41   \n",
              "3              1    1    12                   0.80                  11.41   \n",
              "4              1    1     6                   0.80                  25.90   \n",
              "...          ...  ...   ...                    ...                    ...   \n",
              "1192           2    1    10                   0.75                   2.90   \n",
              "1193           2    1     8                   0.70                   3.90   \n",
              "1194           2    1     7                   0.65                   3.90   \n",
              "1195           2    1     9                   0.75                   2.90   \n",
              "1196           2    1     6                   0.70                   2.90   \n",
              "\n",
              "      work_in_progress  over_time  incentive  idle_time  idle_men  \\\n",
              "0               1108.0       7080         98        0.0         0   \n",
              "1               1039.0        960          0        0.0         0   \n",
              "2                968.0       3660         50        0.0         0   \n",
              "3                968.0       3660         50        0.0         0   \n",
              "4               1170.0       1920         50        0.0         0   \n",
              "...                ...        ...        ...        ...       ...   \n",
              "1192            1039.0        960          0        0.0         0   \n",
              "1193            1039.0        960          0        0.0         0   \n",
              "1194            1039.0        960          0        0.0         0   \n",
              "1195            1039.0       1800          0        0.0         0   \n",
              "1196            1039.0        720          0        0.0         0   \n",
              "\n",
              "      no_of_style_change  no_of_workers  actual_productivity  Quarter1  \\\n",
              "0                      0           59.0             0.940725         1   \n",
              "1                      0            8.0             0.886500         1   \n",
              "2                      0           30.5             0.800570         1   \n",
              "3                      0           30.5             0.800570         1   \n",
              "4                      0           56.0             0.800382         1   \n",
              "...                  ...            ...                  ...       ...   \n",
              "1192                   0            8.0             0.628333         0   \n",
              "1193                   0            8.0             0.625625         0   \n",
              "1194                   0            8.0             0.625625         0   \n",
              "1195                   0           15.0             0.505889         0   \n",
              "1196                   0            6.0             0.394722         0   \n",
              "\n",
              "      Quarter2  Quarter3  Quarter4  Quarter5  \n",
              "0            0         0         0         0  \n",
              "1            0         0         0         0  \n",
              "2            0         0         0         0  \n",
              "3            0         0         0         0  \n",
              "4            0         0         0         0  \n",
              "...        ...       ...       ...       ...  \n",
              "1192         1         0         0         0  \n",
              "1193         1         0         0         0  \n",
              "1194         1         0         0         0  \n",
              "1195         1         0         0         0  \n",
              "1196         1         0         0         0  \n",
              "\n",
              "[1197 rows x 18 columns]"
            ],
            "text/html": [
              "\n",
              "  <div id=\"df-13d69344-3d49-439e-8ae7-50ae99dc6bc9\" class=\"colab-df-container\">\n",
              "    <div>\n",
              "<style scoped>\n",
              "    .dataframe tbody tr th:only-of-type {\n",
              "        vertical-align: middle;\n",
              "    }\n",
              "\n",
              "    .dataframe tbody tr th {\n",
              "        vertical-align: top;\n",
              "    }\n",
              "\n",
              "    .dataframe thead th {\n",
              "        text-align: right;\n",
              "    }\n",
              "</style>\n",
              "<table border=\"1\" class=\"dataframe\">\n",
              "  <thead>\n",
              "    <tr style=\"text-align: right;\">\n",
              "      <th></th>\n",
              "      <th>department</th>\n",
              "      <th>day</th>\n",
              "      <th>team</th>\n",
              "      <th>targeted_productivity</th>\n",
              "      <th>standard_minute_value</th>\n",
              "      <th>work_in_progress</th>\n",
              "      <th>over_time</th>\n",
              "      <th>incentive</th>\n",
              "      <th>idle_time</th>\n",
              "      <th>idle_men</th>\n",
              "      <th>no_of_style_change</th>\n",
              "      <th>no_of_workers</th>\n",
              "      <th>actual_productivity</th>\n",
              "      <th>Quarter1</th>\n",
              "      <th>Quarter2</th>\n",
              "      <th>Quarter3</th>\n",
              "      <th>Quarter4</th>\n",
              "      <th>Quarter5</th>\n",
              "    </tr>\n",
              "  </thead>\n",
              "  <tbody>\n",
              "    <tr>\n",
              "      <th>0</th>\n",
              "      <td>1</td>\n",
              "      <td>1</td>\n",
              "      <td>8</td>\n",
              "      <td>0.80</td>\n",
              "      <td>26.16</td>\n",
              "      <td>1108.0</td>\n",
              "      <td>7080</td>\n",
              "      <td>98</td>\n",
              "      <td>0.0</td>\n",
              "      <td>0</td>\n",
              "      <td>0</td>\n",
              "      <td>59.0</td>\n",
              "      <td>0.940725</td>\n",
              "      <td>1</td>\n",
              "      <td>0</td>\n",
              "      <td>0</td>\n",
              "      <td>0</td>\n",
              "      <td>0</td>\n",
              "    </tr>\n",
              "    <tr>\n",
              "      <th>1</th>\n",
              "      <td>2</td>\n",
              "      <td>1</td>\n",
              "      <td>1</td>\n",
              "      <td>0.75</td>\n",
              "      <td>3.94</td>\n",
              "      <td>1039.0</td>\n",
              "      <td>960</td>\n",
              "      <td>0</td>\n",
              "      <td>0.0</td>\n",
              "      <td>0</td>\n",
              "      <td>0</td>\n",
              "      <td>8.0</td>\n",
              "      <td>0.886500</td>\n",
              "      <td>1</td>\n",
              "      <td>0</td>\n",
              "      <td>0</td>\n",
              "      <td>0</td>\n",
              "      <td>0</td>\n",
              "    </tr>\n",
              "    <tr>\n",
              "      <th>2</th>\n",
              "      <td>1</td>\n",
              "      <td>1</td>\n",
              "      <td>11</td>\n",
              "      <td>0.80</td>\n",
              "      <td>11.41</td>\n",
              "      <td>968.0</td>\n",
              "      <td>3660</td>\n",
              "      <td>50</td>\n",
              "      <td>0.0</td>\n",
              "      <td>0</td>\n",
              "      <td>0</td>\n",
              "      <td>30.5</td>\n",
              "      <td>0.800570</td>\n",
              "      <td>1</td>\n",
              "      <td>0</td>\n",
              "      <td>0</td>\n",
              "      <td>0</td>\n",
              "      <td>0</td>\n",
              "    </tr>\n",
              "    <tr>\n",
              "      <th>3</th>\n",
              "      <td>1</td>\n",
              "      <td>1</td>\n",
              "      <td>12</td>\n",
              "      <td>0.80</td>\n",
              "      <td>11.41</td>\n",
              "      <td>968.0</td>\n",
              "      <td>3660</td>\n",
              "      <td>50</td>\n",
              "      <td>0.0</td>\n",
              "      <td>0</td>\n",
              "      <td>0</td>\n",
              "      <td>30.5</td>\n",
              "      <td>0.800570</td>\n",
              "      <td>1</td>\n",
              "      <td>0</td>\n",
              "      <td>0</td>\n",
              "      <td>0</td>\n",
              "      <td>0</td>\n",
              "    </tr>\n",
              "    <tr>\n",
              "      <th>4</th>\n",
              "      <td>1</td>\n",
              "      <td>1</td>\n",
              "      <td>6</td>\n",
              "      <td>0.80</td>\n",
              "      <td>25.90</td>\n",
              "      <td>1170.0</td>\n",
              "      <td>1920</td>\n",
              "      <td>50</td>\n",
              "      <td>0.0</td>\n",
              "      <td>0</td>\n",
              "      <td>0</td>\n",
              "      <td>56.0</td>\n",
              "      <td>0.800382</td>\n",
              "      <td>1</td>\n",
              "      <td>0</td>\n",
              "      <td>0</td>\n",
              "      <td>0</td>\n",
              "      <td>0</td>\n",
              "    </tr>\n",
              "    <tr>\n",
              "      <th>...</th>\n",
              "      <td>...</td>\n",
              "      <td>...</td>\n",
              "      <td>...</td>\n",
              "      <td>...</td>\n",
              "      <td>...</td>\n",
              "      <td>...</td>\n",
              "      <td>...</td>\n",
              "      <td>...</td>\n",
              "      <td>...</td>\n",
              "      <td>...</td>\n",
              "      <td>...</td>\n",
              "      <td>...</td>\n",
              "      <td>...</td>\n",
              "      <td>...</td>\n",
              "      <td>...</td>\n",
              "      <td>...</td>\n",
              "      <td>...</td>\n",
              "      <td>...</td>\n",
              "    </tr>\n",
              "    <tr>\n",
              "      <th>1192</th>\n",
              "      <td>2</td>\n",
              "      <td>1</td>\n",
              "      <td>10</td>\n",
              "      <td>0.75</td>\n",
              "      <td>2.90</td>\n",
              "      <td>1039.0</td>\n",
              "      <td>960</td>\n",
              "      <td>0</td>\n",
              "      <td>0.0</td>\n",
              "      <td>0</td>\n",
              "      <td>0</td>\n",
              "      <td>8.0</td>\n",
              "      <td>0.628333</td>\n",
              "      <td>0</td>\n",
              "      <td>1</td>\n",
              "      <td>0</td>\n",
              "      <td>0</td>\n",
              "      <td>0</td>\n",
              "    </tr>\n",
              "    <tr>\n",
              "      <th>1193</th>\n",
              "      <td>2</td>\n",
              "      <td>1</td>\n",
              "      <td>8</td>\n",
              "      <td>0.70</td>\n",
              "      <td>3.90</td>\n",
              "      <td>1039.0</td>\n",
              "      <td>960</td>\n",
              "      <td>0</td>\n",
              "      <td>0.0</td>\n",
              "      <td>0</td>\n",
              "      <td>0</td>\n",
              "      <td>8.0</td>\n",
              "      <td>0.625625</td>\n",
              "      <td>0</td>\n",
              "      <td>1</td>\n",
              "      <td>0</td>\n",
              "      <td>0</td>\n",
              "      <td>0</td>\n",
              "    </tr>\n",
              "    <tr>\n",
              "      <th>1194</th>\n",
              "      <td>2</td>\n",
              "      <td>1</td>\n",
              "      <td>7</td>\n",
              "      <td>0.65</td>\n",
              "      <td>3.90</td>\n",
              "      <td>1039.0</td>\n",
              "      <td>960</td>\n",
              "      <td>0</td>\n",
              "      <td>0.0</td>\n",
              "      <td>0</td>\n",
              "      <td>0</td>\n",
              "      <td>8.0</td>\n",
              "      <td>0.625625</td>\n",
              "      <td>0</td>\n",
              "      <td>1</td>\n",
              "      <td>0</td>\n",
              "      <td>0</td>\n",
              "      <td>0</td>\n",
              "    </tr>\n",
              "    <tr>\n",
              "      <th>1195</th>\n",
              "      <td>2</td>\n",
              "      <td>1</td>\n",
              "      <td>9</td>\n",
              "      <td>0.75</td>\n",
              "      <td>2.90</td>\n",
              "      <td>1039.0</td>\n",
              "      <td>1800</td>\n",
              "      <td>0</td>\n",
              "      <td>0.0</td>\n",
              "      <td>0</td>\n",
              "      <td>0</td>\n",
              "      <td>15.0</td>\n",
              "      <td>0.505889</td>\n",
              "      <td>0</td>\n",
              "      <td>1</td>\n",
              "      <td>0</td>\n",
              "      <td>0</td>\n",
              "      <td>0</td>\n",
              "    </tr>\n",
              "    <tr>\n",
              "      <th>1196</th>\n",
              "      <td>2</td>\n",
              "      <td>1</td>\n",
              "      <td>6</td>\n",
              "      <td>0.70</td>\n",
              "      <td>2.90</td>\n",
              "      <td>1039.0</td>\n",
              "      <td>720</td>\n",
              "      <td>0</td>\n",
              "      <td>0.0</td>\n",
              "      <td>0</td>\n",
              "      <td>0</td>\n",
              "      <td>6.0</td>\n",
              "      <td>0.394722</td>\n",
              "      <td>0</td>\n",
              "      <td>1</td>\n",
              "      <td>0</td>\n",
              "      <td>0</td>\n",
              "      <td>0</td>\n",
              "    </tr>\n",
              "  </tbody>\n",
              "</table>\n",
              "<p>1197 rows × 18 columns</p>\n",
              "</div>\n",
              "    <div class=\"colab-df-buttons\">\n",
              "\n",
              "  <div class=\"colab-df-container\">\n",
              "    <button class=\"colab-df-convert\" onclick=\"convertToInteractive('df-13d69344-3d49-439e-8ae7-50ae99dc6bc9')\"\n",
              "            title=\"Convert this dataframe to an interactive table.\"\n",
              "            style=\"display:none;\">\n",
              "\n",
              "  <svg xmlns=\"http://www.w3.org/2000/svg\" height=\"24px\" viewBox=\"0 -960 960 960\">\n",
              "    <path d=\"M120-120v-720h720v720H120Zm60-500h600v-160H180v160Zm220 220h160v-160H400v160Zm0 220h160v-160H400v160ZM180-400h160v-160H180v160Zm440 0h160v-160H620v160ZM180-180h160v-160H180v160Zm440 0h160v-160H620v160Z\"/>\n",
              "  </svg>\n",
              "    </button>\n",
              "\n",
              "  <style>\n",
              "    .colab-df-container {\n",
              "      display:flex;\n",
              "      gap: 12px;\n",
              "    }\n",
              "\n",
              "    .colab-df-convert {\n",
              "      background-color: #E8F0FE;\n",
              "      border: none;\n",
              "      border-radius: 50%;\n",
              "      cursor: pointer;\n",
              "      display: none;\n",
              "      fill: #1967D2;\n",
              "      height: 32px;\n",
              "      padding: 0 0 0 0;\n",
              "      width: 32px;\n",
              "    }\n",
              "\n",
              "    .colab-df-convert:hover {\n",
              "      background-color: #E2EBFA;\n",
              "      box-shadow: 0px 1px 2px rgba(60, 64, 67, 0.3), 0px 1px 3px 1px rgba(60, 64, 67, 0.15);\n",
              "      fill: #174EA6;\n",
              "    }\n",
              "\n",
              "    .colab-df-buttons div {\n",
              "      margin-bottom: 4px;\n",
              "    }\n",
              "\n",
              "    [theme=dark] .colab-df-convert {\n",
              "      background-color: #3B4455;\n",
              "      fill: #D2E3FC;\n",
              "    }\n",
              "\n",
              "    [theme=dark] .colab-df-convert:hover {\n",
              "      background-color: #434B5C;\n",
              "      box-shadow: 0px 1px 3px 1px rgba(0, 0, 0, 0.15);\n",
              "      filter: drop-shadow(0px 1px 2px rgba(0, 0, 0, 0.3));\n",
              "      fill: #FFFFFF;\n",
              "    }\n",
              "  </style>\n",
              "\n",
              "    <script>\n",
              "      const buttonEl =\n",
              "        document.querySelector('#df-13d69344-3d49-439e-8ae7-50ae99dc6bc9 button.colab-df-convert');\n",
              "      buttonEl.style.display =\n",
              "        google.colab.kernel.accessAllowed ? 'block' : 'none';\n",
              "\n",
              "      async function convertToInteractive(key) {\n",
              "        const element = document.querySelector('#df-13d69344-3d49-439e-8ae7-50ae99dc6bc9');\n",
              "        const dataTable =\n",
              "          await google.colab.kernel.invokeFunction('convertToInteractive',\n",
              "                                                    [key], {});\n",
              "        if (!dataTable) return;\n",
              "\n",
              "        const docLinkHtml = 'Like what you see? Visit the ' +\n",
              "          '<a target=\"_blank\" href=https://colab.research.google.com/notebooks/data_table.ipynb>data table notebook</a>'\n",
              "          + ' to learn more about interactive tables.';\n",
              "        element.innerHTML = '';\n",
              "        dataTable['output_type'] = 'display_data';\n",
              "        await google.colab.output.renderOutput(dataTable, element);\n",
              "        const docLink = document.createElement('div');\n",
              "        docLink.innerHTML = docLinkHtml;\n",
              "        element.appendChild(docLink);\n",
              "      }\n",
              "    </script>\n",
              "  </div>\n",
              "\n",
              "\n",
              "<div id=\"df-ae3b2e8f-33c0-4965-a212-a351dcafdfa5\">\n",
              "  <button class=\"colab-df-quickchart\" onclick=\"quickchart('df-ae3b2e8f-33c0-4965-a212-a351dcafdfa5')\"\n",
              "            title=\"Suggest charts.\"\n",
              "            style=\"display:none;\">\n",
              "\n",
              "<svg xmlns=\"http://www.w3.org/2000/svg\" height=\"24px\"viewBox=\"0 0 24 24\"\n",
              "     width=\"24px\">\n",
              "    <g>\n",
              "        <path d=\"M19 3H5c-1.1 0-2 .9-2 2v14c0 1.1.9 2 2 2h14c1.1 0 2-.9 2-2V5c0-1.1-.9-2-2-2zM9 17H7v-7h2v7zm4 0h-2V7h2v10zm4 0h-2v-4h2v4z\"/>\n",
              "    </g>\n",
              "</svg>\n",
              "  </button>\n",
              "\n",
              "<style>\n",
              "  .colab-df-quickchart {\n",
              "      --bg-color: #E8F0FE;\n",
              "      --fill-color: #1967D2;\n",
              "      --hover-bg-color: #E2EBFA;\n",
              "      --hover-fill-color: #174EA6;\n",
              "      --disabled-fill-color: #AAA;\n",
              "      --disabled-bg-color: #DDD;\n",
              "  }\n",
              "\n",
              "  [theme=dark] .colab-df-quickchart {\n",
              "      --bg-color: #3B4455;\n",
              "      --fill-color: #D2E3FC;\n",
              "      --hover-bg-color: #434B5C;\n",
              "      --hover-fill-color: #FFFFFF;\n",
              "      --disabled-bg-color: #3B4455;\n",
              "      --disabled-fill-color: #666;\n",
              "  }\n",
              "\n",
              "  .colab-df-quickchart {\n",
              "    background-color: var(--bg-color);\n",
              "    border: none;\n",
              "    border-radius: 50%;\n",
              "    cursor: pointer;\n",
              "    display: none;\n",
              "    fill: var(--fill-color);\n",
              "    height: 32px;\n",
              "    padding: 0;\n",
              "    width: 32px;\n",
              "  }\n",
              "\n",
              "  .colab-df-quickchart:hover {\n",
              "    background-color: var(--hover-bg-color);\n",
              "    box-shadow: 0 1px 2px rgba(60, 64, 67, 0.3), 0 1px 3px 1px rgba(60, 64, 67, 0.15);\n",
              "    fill: var(--button-hover-fill-color);\n",
              "  }\n",
              "\n",
              "  .colab-df-quickchart-complete:disabled,\n",
              "  .colab-df-quickchart-complete:disabled:hover {\n",
              "    background-color: var(--disabled-bg-color);\n",
              "    fill: var(--disabled-fill-color);\n",
              "    box-shadow: none;\n",
              "  }\n",
              "\n",
              "  .colab-df-spinner {\n",
              "    border: 2px solid var(--fill-color);\n",
              "    border-color: transparent;\n",
              "    border-bottom-color: var(--fill-color);\n",
              "    animation:\n",
              "      spin 1s steps(1) infinite;\n",
              "  }\n",
              "\n",
              "  @keyframes spin {\n",
              "    0% {\n",
              "      border-color: transparent;\n",
              "      border-bottom-color: var(--fill-color);\n",
              "      border-left-color: var(--fill-color);\n",
              "    }\n",
              "    20% {\n",
              "      border-color: transparent;\n",
              "      border-left-color: var(--fill-color);\n",
              "      border-top-color: var(--fill-color);\n",
              "    }\n",
              "    30% {\n",
              "      border-color: transparent;\n",
              "      border-left-color: var(--fill-color);\n",
              "      border-top-color: var(--fill-color);\n",
              "      border-right-color: var(--fill-color);\n",
              "    }\n",
              "    40% {\n",
              "      border-color: transparent;\n",
              "      border-right-color: var(--fill-color);\n",
              "      border-top-color: var(--fill-color);\n",
              "    }\n",
              "    60% {\n",
              "      border-color: transparent;\n",
              "      border-right-color: var(--fill-color);\n",
              "    }\n",
              "    80% {\n",
              "      border-color: transparent;\n",
              "      border-right-color: var(--fill-color);\n",
              "      border-bottom-color: var(--fill-color);\n",
              "    }\n",
              "    90% {\n",
              "      border-color: transparent;\n",
              "      border-bottom-color: var(--fill-color);\n",
              "    }\n",
              "  }\n",
              "</style>\n",
              "\n",
              "  <script>\n",
              "    async function quickchart(key) {\n",
              "      const quickchartButtonEl =\n",
              "        document.querySelector('#' + key + ' button');\n",
              "      quickchartButtonEl.disabled = true;  // To prevent multiple clicks.\n",
              "      quickchartButtonEl.classList.add('colab-df-spinner');\n",
              "      try {\n",
              "        const charts = await google.colab.kernel.invokeFunction(\n",
              "            'suggestCharts', [key], {});\n",
              "      } catch (error) {\n",
              "        console.error('Error during call to suggestCharts:', error);\n",
              "      }\n",
              "      quickchartButtonEl.classList.remove('colab-df-spinner');\n",
              "      quickchartButtonEl.classList.add('colab-df-quickchart-complete');\n",
              "    }\n",
              "    (() => {\n",
              "      let quickchartButtonEl =\n",
              "        document.querySelector('#df-ae3b2e8f-33c0-4965-a212-a351dcafdfa5 button');\n",
              "      quickchartButtonEl.style.display =\n",
              "        google.colab.kernel.accessAllowed ? 'block' : 'none';\n",
              "    })();\n",
              "  </script>\n",
              "</div>\n",
              "    </div>\n",
              "  </div>\n"
            ]
          },
          "metadata": {},
          "execution_count": 36
        }
      ]
    },
    {
      "cell_type": "code",
      "source": [],
      "metadata": {
        "id": "ENS8fA2W22mJ"
      },
      "execution_count": null,
      "outputs": []
    },
    {
      "cell_type": "code",
      "source": [
        "df.dtypes"
      ],
      "metadata": {
        "colab": {
          "base_uri": "https://localhost:8080/"
        },
        "id": "14WrwM4nZSXC",
        "outputId": "0b69d5de-ec55-4c2e-f3bc-ef77e81d680b"
      },
      "execution_count": null,
      "outputs": [
        {
          "output_type": "execute_result",
          "data": {
            "text/plain": [
              "department                 int64\n",
              "day                        int64\n",
              "team                       int64\n",
              "targeted_productivity    float64\n",
              "standard_minute_value    float64\n",
              "work_in_progress         float64\n",
              "over_time                  int64\n",
              "incentive                  int64\n",
              "idle_time                float64\n",
              "idle_men                   int64\n",
              "no_of_style_change         int64\n",
              "no_of_workers            float64\n",
              "actual_productivity      float64\n",
              "Quarter1                   uint8\n",
              "Quarter2                   uint8\n",
              "Quarter3                   uint8\n",
              "Quarter4                   uint8\n",
              "Quarter5                   uint8\n",
              "dtype: object"
            ]
          },
          "metadata": {},
          "execution_count": 37
        }
      ]
    },
    {
      "cell_type": "code",
      "source": [
        "df.isnull().sum()"
      ],
      "metadata": {
        "colab": {
          "base_uri": "https://localhost:8080/"
        },
        "id": "xNqVZtkK22hB",
        "outputId": "a73d7e58-8fbc-4a74-8331-1cf5000bd64e"
      },
      "execution_count": null,
      "outputs": [
        {
          "output_type": "execute_result",
          "data": {
            "text/plain": [
              "department               0\n",
              "day                      0\n",
              "team                     0\n",
              "targeted_productivity    0\n",
              "standard_minute_value    0\n",
              "work_in_progress         0\n",
              "over_time                0\n",
              "incentive                0\n",
              "idle_time                0\n",
              "idle_men                 0\n",
              "no_of_style_change       0\n",
              "no_of_workers            0\n",
              "actual_productivity      0\n",
              "Quarter1                 0\n",
              "Quarter2                 0\n",
              "Quarter3                 0\n",
              "Quarter4                 0\n",
              "Quarter5                 0\n",
              "dtype: int64"
            ]
          },
          "metadata": {},
          "execution_count": 38
        }
      ]
    },
    {
      "cell_type": "code",
      "source": [
        "X = df.drop([\"actual_productivity\"] , axis =1)\n",
        "Y = df[\"actual_productivity\"]"
      ],
      "metadata": {
        "id": "W4cUhcKm22jj"
      },
      "execution_count": null,
      "outputs": []
    },
    {
      "cell_type": "code",
      "source": [
        "df.columns"
      ],
      "metadata": {
        "id": "3st7hQ2IXjao",
        "colab": {
          "base_uri": "https://localhost:8080/"
        },
        "outputId": "1ed04a14-a0ff-4c35-c5ea-93fa23a19fd2"
      },
      "execution_count": null,
      "outputs": [
        {
          "output_type": "execute_result",
          "data": {
            "text/plain": [
              "Index(['department', 'day', 'team', 'targeted_productivity',\n",
              "       'standard_minute_value', 'work_in_progress', 'over_time', 'incentive',\n",
              "       'idle_time', 'idle_men', 'no_of_style_change', 'no_of_workers',\n",
              "       'actual_productivity', 'Quarter1', 'Quarter2', 'Quarter3', 'Quarter4',\n",
              "       'Quarter5'],\n",
              "      dtype='object')"
            ]
          },
          "metadata": {},
          "execution_count": 40
        }
      ]
    },
    {
      "cell_type": "code",
      "source": [
        "# from sklearn.decomposition import PCA\n",
        "\n",
        "# pca = PCA(0.98)   # retain 98% of useful features\n",
        "# X_pca = pca.fit_transform(X)\n",
        "# X_pca.shape"
      ],
      "metadata": {
        "id": "WS0gJVFBXjX0"
      },
      "execution_count": null,
      "outputs": []
    },
    {
      "cell_type": "code",
      "source": [
        "df.columns"
      ],
      "metadata": {
        "colab": {
          "base_uri": "https://localhost:8080/"
        },
        "id": "yOzj_BVrLep-",
        "outputId": "dadc9a06-70f6-41c2-e792-f9c65488bf0f"
      },
      "execution_count": null,
      "outputs": [
        {
          "output_type": "execute_result",
          "data": {
            "text/plain": [
              "Index(['department', 'day', 'team', 'targeted_productivity',\n",
              "       'standard_minute_value', 'work_in_progress', 'over_time', 'incentive',\n",
              "       'idle_time', 'idle_men', 'no_of_style_change', 'no_of_workers',\n",
              "       'actual_productivity', 'Quarter1', 'Quarter2', 'Quarter3', 'Quarter4',\n",
              "       'Quarter5'],\n",
              "      dtype='object')"
            ]
          },
          "metadata": {},
          "execution_count": 42
        }
      ]
    },
    {
      "cell_type": "markdown",
      "source": [],
      "metadata": {
        "id": "lsTT4SbdL80X"
      }
    },
    {
      "cell_type": "code",
      "source": [
        "X_train , X_test , Y_train , Y_test = train_test_split(X , Y, test_size = 0.20)"
      ],
      "metadata": {
        "id": "pP4jNDnvXjVR"
      },
      "execution_count": null,
      "outputs": []
    },
    {
      "cell_type": "code",
      "source": [
        "X_train\n"
      ],
      "metadata": {
        "colab": {
          "base_uri": "https://localhost:8080/",
          "height": 444
        },
        "id": "rym2YmdmXjRt",
        "outputId": "3cb3e430-dab6-44f7-dc3f-290f814b3d56"
      },
      "execution_count": null,
      "outputs": [
        {
          "output_type": "execute_result",
          "data": {
            "text/plain": [
              "      department  day  team  targeted_productivity  standard_minute_value  \\\n",
              "48             1    0     4                   0.80                  28.08   \n",
              "19             2    0     4                   0.80                   4.15   \n",
              "316            1    0     1                   0.80                  49.10   \n",
              "991            1    0     9                   0.75                  18.79   \n",
              "39             2    0     7                   0.80                   3.94   \n",
              "...          ...  ...   ...                    ...                    ...   \n",
              "993            1    0    10                   0.70                  21.82   \n",
              "1156           1    1     4                   0.75                  26.82   \n",
              "1015           1    1     6                   0.75                  18.79   \n",
              "414            1    0     8                   0.35                  15.09   \n",
              "1194           2    1     7                   0.65                   3.90   \n",
              "\n",
              "      work_in_progress  over_time  incentive  idle_time  idle_men  \\\n",
              "48               878.0       4260         50        0.0         0   \n",
              "19              1039.0       6600          0        0.0         0   \n",
              "316             1381.0      10350         24        0.0         0   \n",
              "991              895.0       6240         34        0.0         0   \n",
              "39              1039.0        960          0        0.0         0   \n",
              "...                ...        ...        ...        ...       ...   \n",
              "993             1393.0       5640         30        0.0         0   \n",
              "1156            1104.0       5880         65        0.0         0   \n",
              "1015             947.0       2880         34        0.0         0   \n",
              "414             1448.0       9360         23        0.0         0   \n",
              "1194            1039.0        960          0        0.0         0   \n",
              "\n",
              "      no_of_style_change  no_of_workers  Quarter1  Quarter2  Quarter3  \\\n",
              "48                     0           55.5         1         0         0   \n",
              "19                     0           20.0         1         0         0   \n",
              "316                    0           57.5         0         0         1   \n",
              "991                    0           52.0         1         0         0   \n",
              "39                     0            8.0         1         0         0   \n",
              "...                  ...            ...       ...       ...       ...   \n",
              "993                    0           52.0         1         0         0   \n",
              "1156                   0           59.0         0         1         0   \n",
              "1015                   0           33.0         1         0         0   \n",
              "414                    0           52.0         0         0         0   \n",
              "1194                   0            8.0         0         1         0   \n",
              "\n",
              "      Quarter4  Quarter5  \n",
              "48           0         0  \n",
              "19           0         0  \n",
              "316          0         0  \n",
              "991          0         0  \n",
              "39           0         0  \n",
              "...        ...       ...  \n",
              "993          0         0  \n",
              "1156         0         0  \n",
              "1015         0         0  \n",
              "414          1         0  \n",
              "1194         0         0  \n",
              "\n",
              "[957 rows x 17 columns]"
            ],
            "text/html": [
              "\n",
              "  <div id=\"df-63340dc7-19dc-4e8f-b40a-b462892cbb93\" class=\"colab-df-container\">\n",
              "    <div>\n",
              "<style scoped>\n",
              "    .dataframe tbody tr th:only-of-type {\n",
              "        vertical-align: middle;\n",
              "    }\n",
              "\n",
              "    .dataframe tbody tr th {\n",
              "        vertical-align: top;\n",
              "    }\n",
              "\n",
              "    .dataframe thead th {\n",
              "        text-align: right;\n",
              "    }\n",
              "</style>\n",
              "<table border=\"1\" class=\"dataframe\">\n",
              "  <thead>\n",
              "    <tr style=\"text-align: right;\">\n",
              "      <th></th>\n",
              "      <th>department</th>\n",
              "      <th>day</th>\n",
              "      <th>team</th>\n",
              "      <th>targeted_productivity</th>\n",
              "      <th>standard_minute_value</th>\n",
              "      <th>work_in_progress</th>\n",
              "      <th>over_time</th>\n",
              "      <th>incentive</th>\n",
              "      <th>idle_time</th>\n",
              "      <th>idle_men</th>\n",
              "      <th>no_of_style_change</th>\n",
              "      <th>no_of_workers</th>\n",
              "      <th>Quarter1</th>\n",
              "      <th>Quarter2</th>\n",
              "      <th>Quarter3</th>\n",
              "      <th>Quarter4</th>\n",
              "      <th>Quarter5</th>\n",
              "    </tr>\n",
              "  </thead>\n",
              "  <tbody>\n",
              "    <tr>\n",
              "      <th>48</th>\n",
              "      <td>1</td>\n",
              "      <td>0</td>\n",
              "      <td>4</td>\n",
              "      <td>0.80</td>\n",
              "      <td>28.08</td>\n",
              "      <td>878.0</td>\n",
              "      <td>4260</td>\n",
              "      <td>50</td>\n",
              "      <td>0.0</td>\n",
              "      <td>0</td>\n",
              "      <td>0</td>\n",
              "      <td>55.5</td>\n",
              "      <td>1</td>\n",
              "      <td>0</td>\n",
              "      <td>0</td>\n",
              "      <td>0</td>\n",
              "      <td>0</td>\n",
              "    </tr>\n",
              "    <tr>\n",
              "      <th>19</th>\n",
              "      <td>2</td>\n",
              "      <td>0</td>\n",
              "      <td>4</td>\n",
              "      <td>0.80</td>\n",
              "      <td>4.15</td>\n",
              "      <td>1039.0</td>\n",
              "      <td>6600</td>\n",
              "      <td>0</td>\n",
              "      <td>0.0</td>\n",
              "      <td>0</td>\n",
              "      <td>0</td>\n",
              "      <td>20.0</td>\n",
              "      <td>1</td>\n",
              "      <td>0</td>\n",
              "      <td>0</td>\n",
              "      <td>0</td>\n",
              "      <td>0</td>\n",
              "    </tr>\n",
              "    <tr>\n",
              "      <th>316</th>\n",
              "      <td>1</td>\n",
              "      <td>0</td>\n",
              "      <td>1</td>\n",
              "      <td>0.80</td>\n",
              "      <td>49.10</td>\n",
              "      <td>1381.0</td>\n",
              "      <td>10350</td>\n",
              "      <td>24</td>\n",
              "      <td>0.0</td>\n",
              "      <td>0</td>\n",
              "      <td>0</td>\n",
              "      <td>57.5</td>\n",
              "      <td>0</td>\n",
              "      <td>0</td>\n",
              "      <td>1</td>\n",
              "      <td>0</td>\n",
              "      <td>0</td>\n",
              "    </tr>\n",
              "    <tr>\n",
              "      <th>991</th>\n",
              "      <td>1</td>\n",
              "      <td>0</td>\n",
              "      <td>9</td>\n",
              "      <td>0.75</td>\n",
              "      <td>18.79</td>\n",
              "      <td>895.0</td>\n",
              "      <td>6240</td>\n",
              "      <td>34</td>\n",
              "      <td>0.0</td>\n",
              "      <td>0</td>\n",
              "      <td>0</td>\n",
              "      <td>52.0</td>\n",
              "      <td>1</td>\n",
              "      <td>0</td>\n",
              "      <td>0</td>\n",
              "      <td>0</td>\n",
              "      <td>0</td>\n",
              "    </tr>\n",
              "    <tr>\n",
              "      <th>39</th>\n",
              "      <td>2</td>\n",
              "      <td>0</td>\n",
              "      <td>7</td>\n",
              "      <td>0.80</td>\n",
              "      <td>3.94</td>\n",
              "      <td>1039.0</td>\n",
              "      <td>960</td>\n",
              "      <td>0</td>\n",
              "      <td>0.0</td>\n",
              "      <td>0</td>\n",
              "      <td>0</td>\n",
              "      <td>8.0</td>\n",
              "      <td>1</td>\n",
              "      <td>0</td>\n",
              "      <td>0</td>\n",
              "      <td>0</td>\n",
              "      <td>0</td>\n",
              "    </tr>\n",
              "    <tr>\n",
              "      <th>...</th>\n",
              "      <td>...</td>\n",
              "      <td>...</td>\n",
              "      <td>...</td>\n",
              "      <td>...</td>\n",
              "      <td>...</td>\n",
              "      <td>...</td>\n",
              "      <td>...</td>\n",
              "      <td>...</td>\n",
              "      <td>...</td>\n",
              "      <td>...</td>\n",
              "      <td>...</td>\n",
              "      <td>...</td>\n",
              "      <td>...</td>\n",
              "      <td>...</td>\n",
              "      <td>...</td>\n",
              "      <td>...</td>\n",
              "      <td>...</td>\n",
              "    </tr>\n",
              "    <tr>\n",
              "      <th>993</th>\n",
              "      <td>1</td>\n",
              "      <td>0</td>\n",
              "      <td>10</td>\n",
              "      <td>0.70</td>\n",
              "      <td>21.82</td>\n",
              "      <td>1393.0</td>\n",
              "      <td>5640</td>\n",
              "      <td>30</td>\n",
              "      <td>0.0</td>\n",
              "      <td>0</td>\n",
              "      <td>0</td>\n",
              "      <td>52.0</td>\n",
              "      <td>1</td>\n",
              "      <td>0</td>\n",
              "      <td>0</td>\n",
              "      <td>0</td>\n",
              "      <td>0</td>\n",
              "    </tr>\n",
              "    <tr>\n",
              "      <th>1156</th>\n",
              "      <td>1</td>\n",
              "      <td>1</td>\n",
              "      <td>4</td>\n",
              "      <td>0.75</td>\n",
              "      <td>26.82</td>\n",
              "      <td>1104.0</td>\n",
              "      <td>5880</td>\n",
              "      <td>65</td>\n",
              "      <td>0.0</td>\n",
              "      <td>0</td>\n",
              "      <td>0</td>\n",
              "      <td>59.0</td>\n",
              "      <td>0</td>\n",
              "      <td>1</td>\n",
              "      <td>0</td>\n",
              "      <td>0</td>\n",
              "      <td>0</td>\n",
              "    </tr>\n",
              "    <tr>\n",
              "      <th>1015</th>\n",
              "      <td>1</td>\n",
              "      <td>1</td>\n",
              "      <td>6</td>\n",
              "      <td>0.75</td>\n",
              "      <td>18.79</td>\n",
              "      <td>947.0</td>\n",
              "      <td>2880</td>\n",
              "      <td>34</td>\n",
              "      <td>0.0</td>\n",
              "      <td>0</td>\n",
              "      <td>0</td>\n",
              "      <td>33.0</td>\n",
              "      <td>1</td>\n",
              "      <td>0</td>\n",
              "      <td>0</td>\n",
              "      <td>0</td>\n",
              "      <td>0</td>\n",
              "    </tr>\n",
              "    <tr>\n",
              "      <th>414</th>\n",
              "      <td>1</td>\n",
              "      <td>0</td>\n",
              "      <td>8</td>\n",
              "      <td>0.35</td>\n",
              "      <td>15.09</td>\n",
              "      <td>1448.0</td>\n",
              "      <td>9360</td>\n",
              "      <td>23</td>\n",
              "      <td>0.0</td>\n",
              "      <td>0</td>\n",
              "      <td>0</td>\n",
              "      <td>52.0</td>\n",
              "      <td>0</td>\n",
              "      <td>0</td>\n",
              "      <td>0</td>\n",
              "      <td>1</td>\n",
              "      <td>0</td>\n",
              "    </tr>\n",
              "    <tr>\n",
              "      <th>1194</th>\n",
              "      <td>2</td>\n",
              "      <td>1</td>\n",
              "      <td>7</td>\n",
              "      <td>0.65</td>\n",
              "      <td>3.90</td>\n",
              "      <td>1039.0</td>\n",
              "      <td>960</td>\n",
              "      <td>0</td>\n",
              "      <td>0.0</td>\n",
              "      <td>0</td>\n",
              "      <td>0</td>\n",
              "      <td>8.0</td>\n",
              "      <td>0</td>\n",
              "      <td>1</td>\n",
              "      <td>0</td>\n",
              "      <td>0</td>\n",
              "      <td>0</td>\n",
              "    </tr>\n",
              "  </tbody>\n",
              "</table>\n",
              "<p>957 rows × 17 columns</p>\n",
              "</div>\n",
              "    <div class=\"colab-df-buttons\">\n",
              "\n",
              "  <div class=\"colab-df-container\">\n",
              "    <button class=\"colab-df-convert\" onclick=\"convertToInteractive('df-63340dc7-19dc-4e8f-b40a-b462892cbb93')\"\n",
              "            title=\"Convert this dataframe to an interactive table.\"\n",
              "            style=\"display:none;\">\n",
              "\n",
              "  <svg xmlns=\"http://www.w3.org/2000/svg\" height=\"24px\" viewBox=\"0 -960 960 960\">\n",
              "    <path d=\"M120-120v-720h720v720H120Zm60-500h600v-160H180v160Zm220 220h160v-160H400v160Zm0 220h160v-160H400v160ZM180-400h160v-160H180v160Zm440 0h160v-160H620v160ZM180-180h160v-160H180v160Zm440 0h160v-160H620v160Z\"/>\n",
              "  </svg>\n",
              "    </button>\n",
              "\n",
              "  <style>\n",
              "    .colab-df-container {\n",
              "      display:flex;\n",
              "      gap: 12px;\n",
              "    }\n",
              "\n",
              "    .colab-df-convert {\n",
              "      background-color: #E8F0FE;\n",
              "      border: none;\n",
              "      border-radius: 50%;\n",
              "      cursor: pointer;\n",
              "      display: none;\n",
              "      fill: #1967D2;\n",
              "      height: 32px;\n",
              "      padding: 0 0 0 0;\n",
              "      width: 32px;\n",
              "    }\n",
              "\n",
              "    .colab-df-convert:hover {\n",
              "      background-color: #E2EBFA;\n",
              "      box-shadow: 0px 1px 2px rgba(60, 64, 67, 0.3), 0px 1px 3px 1px rgba(60, 64, 67, 0.15);\n",
              "      fill: #174EA6;\n",
              "    }\n",
              "\n",
              "    .colab-df-buttons div {\n",
              "      margin-bottom: 4px;\n",
              "    }\n",
              "\n",
              "    [theme=dark] .colab-df-convert {\n",
              "      background-color: #3B4455;\n",
              "      fill: #D2E3FC;\n",
              "    }\n",
              "\n",
              "    [theme=dark] .colab-df-convert:hover {\n",
              "      background-color: #434B5C;\n",
              "      box-shadow: 0px 1px 3px 1px rgba(0, 0, 0, 0.15);\n",
              "      filter: drop-shadow(0px 1px 2px rgba(0, 0, 0, 0.3));\n",
              "      fill: #FFFFFF;\n",
              "    }\n",
              "  </style>\n",
              "\n",
              "    <script>\n",
              "      const buttonEl =\n",
              "        document.querySelector('#df-63340dc7-19dc-4e8f-b40a-b462892cbb93 button.colab-df-convert');\n",
              "      buttonEl.style.display =\n",
              "        google.colab.kernel.accessAllowed ? 'block' : 'none';\n",
              "\n",
              "      async function convertToInteractive(key) {\n",
              "        const element = document.querySelector('#df-63340dc7-19dc-4e8f-b40a-b462892cbb93');\n",
              "        const dataTable =\n",
              "          await google.colab.kernel.invokeFunction('convertToInteractive',\n",
              "                                                    [key], {});\n",
              "        if (!dataTable) return;\n",
              "\n",
              "        const docLinkHtml = 'Like what you see? Visit the ' +\n",
              "          '<a target=\"_blank\" href=https://colab.research.google.com/notebooks/data_table.ipynb>data table notebook</a>'\n",
              "          + ' to learn more about interactive tables.';\n",
              "        element.innerHTML = '';\n",
              "        dataTable['output_type'] = 'display_data';\n",
              "        await google.colab.output.renderOutput(dataTable, element);\n",
              "        const docLink = document.createElement('div');\n",
              "        docLink.innerHTML = docLinkHtml;\n",
              "        element.appendChild(docLink);\n",
              "      }\n",
              "    </script>\n",
              "  </div>\n",
              "\n",
              "\n",
              "<div id=\"df-1db5a36b-7413-4071-ac01-5ffa9cc5280c\">\n",
              "  <button class=\"colab-df-quickchart\" onclick=\"quickchart('df-1db5a36b-7413-4071-ac01-5ffa9cc5280c')\"\n",
              "            title=\"Suggest charts.\"\n",
              "            style=\"display:none;\">\n",
              "\n",
              "<svg xmlns=\"http://www.w3.org/2000/svg\" height=\"24px\"viewBox=\"0 0 24 24\"\n",
              "     width=\"24px\">\n",
              "    <g>\n",
              "        <path d=\"M19 3H5c-1.1 0-2 .9-2 2v14c0 1.1.9 2 2 2h14c1.1 0 2-.9 2-2V5c0-1.1-.9-2-2-2zM9 17H7v-7h2v7zm4 0h-2V7h2v10zm4 0h-2v-4h2v4z\"/>\n",
              "    </g>\n",
              "</svg>\n",
              "  </button>\n",
              "\n",
              "<style>\n",
              "  .colab-df-quickchart {\n",
              "      --bg-color: #E8F0FE;\n",
              "      --fill-color: #1967D2;\n",
              "      --hover-bg-color: #E2EBFA;\n",
              "      --hover-fill-color: #174EA6;\n",
              "      --disabled-fill-color: #AAA;\n",
              "      --disabled-bg-color: #DDD;\n",
              "  }\n",
              "\n",
              "  [theme=dark] .colab-df-quickchart {\n",
              "      --bg-color: #3B4455;\n",
              "      --fill-color: #D2E3FC;\n",
              "      --hover-bg-color: #434B5C;\n",
              "      --hover-fill-color: #FFFFFF;\n",
              "      --disabled-bg-color: #3B4455;\n",
              "      --disabled-fill-color: #666;\n",
              "  }\n",
              "\n",
              "  .colab-df-quickchart {\n",
              "    background-color: var(--bg-color);\n",
              "    border: none;\n",
              "    border-radius: 50%;\n",
              "    cursor: pointer;\n",
              "    display: none;\n",
              "    fill: var(--fill-color);\n",
              "    height: 32px;\n",
              "    padding: 0;\n",
              "    width: 32px;\n",
              "  }\n",
              "\n",
              "  .colab-df-quickchart:hover {\n",
              "    background-color: var(--hover-bg-color);\n",
              "    box-shadow: 0 1px 2px rgba(60, 64, 67, 0.3), 0 1px 3px 1px rgba(60, 64, 67, 0.15);\n",
              "    fill: var(--button-hover-fill-color);\n",
              "  }\n",
              "\n",
              "  .colab-df-quickchart-complete:disabled,\n",
              "  .colab-df-quickchart-complete:disabled:hover {\n",
              "    background-color: var(--disabled-bg-color);\n",
              "    fill: var(--disabled-fill-color);\n",
              "    box-shadow: none;\n",
              "  }\n",
              "\n",
              "  .colab-df-spinner {\n",
              "    border: 2px solid var(--fill-color);\n",
              "    border-color: transparent;\n",
              "    border-bottom-color: var(--fill-color);\n",
              "    animation:\n",
              "      spin 1s steps(1) infinite;\n",
              "  }\n",
              "\n",
              "  @keyframes spin {\n",
              "    0% {\n",
              "      border-color: transparent;\n",
              "      border-bottom-color: var(--fill-color);\n",
              "      border-left-color: var(--fill-color);\n",
              "    }\n",
              "    20% {\n",
              "      border-color: transparent;\n",
              "      border-left-color: var(--fill-color);\n",
              "      border-top-color: var(--fill-color);\n",
              "    }\n",
              "    30% {\n",
              "      border-color: transparent;\n",
              "      border-left-color: var(--fill-color);\n",
              "      border-top-color: var(--fill-color);\n",
              "      border-right-color: var(--fill-color);\n",
              "    }\n",
              "    40% {\n",
              "      border-color: transparent;\n",
              "      border-right-color: var(--fill-color);\n",
              "      border-top-color: var(--fill-color);\n",
              "    }\n",
              "    60% {\n",
              "      border-color: transparent;\n",
              "      border-right-color: var(--fill-color);\n",
              "    }\n",
              "    80% {\n",
              "      border-color: transparent;\n",
              "      border-right-color: var(--fill-color);\n",
              "      border-bottom-color: var(--fill-color);\n",
              "    }\n",
              "    90% {\n",
              "      border-color: transparent;\n",
              "      border-bottom-color: var(--fill-color);\n",
              "    }\n",
              "  }\n",
              "</style>\n",
              "\n",
              "  <script>\n",
              "    async function quickchart(key) {\n",
              "      const quickchartButtonEl =\n",
              "        document.querySelector('#' + key + ' button');\n",
              "      quickchartButtonEl.disabled = true;  // To prevent multiple clicks.\n",
              "      quickchartButtonEl.classList.add('colab-df-spinner');\n",
              "      try {\n",
              "        const charts = await google.colab.kernel.invokeFunction(\n",
              "            'suggestCharts', [key], {});\n",
              "      } catch (error) {\n",
              "        console.error('Error during call to suggestCharts:', error);\n",
              "      }\n",
              "      quickchartButtonEl.classList.remove('colab-df-spinner');\n",
              "      quickchartButtonEl.classList.add('colab-df-quickchart-complete');\n",
              "    }\n",
              "    (() => {\n",
              "      let quickchartButtonEl =\n",
              "        document.querySelector('#df-1db5a36b-7413-4071-ac01-5ffa9cc5280c button');\n",
              "      quickchartButtonEl.style.display =\n",
              "        google.colab.kernel.accessAllowed ? 'block' : 'none';\n",
              "    })();\n",
              "  </script>\n",
              "</div>\n",
              "    </div>\n",
              "  </div>\n"
            ]
          },
          "metadata": {},
          "execution_count": 44
        }
      ]
    },
    {
      "cell_type": "code",
      "source": [
        "Y_train"
      ],
      "metadata": {
        "colab": {
          "base_uri": "https://localhost:8080/"
        },
        "id": "2o02MXclgj74",
        "outputId": "390c4317-3aa3-4f2d-be29-cb4a19af58ed"
      },
      "execution_count": null,
      "outputs": [
        {
          "output_type": "execute_result",
          "data": {
            "text/plain": [
              "48      0.800598\n",
              "19      0.988025\n",
              "316     0.403242\n",
              "991     0.750396\n",
              "39      0.625313\n",
              "          ...   \n",
              "993     0.700237\n",
              "1156    0.850084\n",
              "1015    0.750797\n",
              "414     0.349990\n",
              "1194    0.625625\n",
              "Name: actual_productivity, Length: 957, dtype: float64"
            ]
          },
          "metadata": {},
          "execution_count": 45
        }
      ]
    },
    {
      "cell_type": "markdown",
      "source": [
        "Linear Regressor"
      ],
      "metadata": {
        "id": "qXB54f56IZBt"
      }
    },
    {
      "cell_type": "code",
      "source": [
        "lrmodel = LinearRegression()\n",
        "lrmodel.fit(X_train, Y_train)\n",
        "Y_pred = lrmodel.predict(X_test)\n",
        "mae = mean_absolute_error(Y_pred, Y_test)\n",
        "print(f\"Mae = {mae}\")\n",
        "mse = mean_squared_error(Y_pred, Y_test)\n",
        "print(f\"mse = {mse}\")"
      ],
      "metadata": {
        "colab": {
          "base_uri": "https://localhost:8080/"
        },
        "id": "rxZhcpLdXjMG",
        "outputId": "7b2af585-b443-46cc-be8b-921b8b87b7e5"
      },
      "execution_count": null,
      "outputs": [
        {
          "output_type": "stream",
          "name": "stdout",
          "text": [
            "Mae = 0.11351837941416111\n",
            "mse = 0.025192845640267136\n"
          ]
        }
      ]
    },
    {
      "cell_type": "code",
      "source": [
        "X_train , X_test , Y_train , Y_test = train_test_split(X , Y, test_size = 0.25)\n",
        "lrmodel = LinearRegression()\n",
        "lrmodel.fit(X_train, Y_train)\n",
        "Y_pred = lrmodel.predict(X_test)\n",
        "mae = mean_absolute_error(Y_pred, Y_test)\n",
        "print(f\"Mae = {mae}\")\n",
        "mse = mean_squared_error(Y_pred, Y_test)\n",
        "print(f\"mse = {mse}\")\n"
      ],
      "metadata": {
        "id": "fNOb4s3JHtsH",
        "colab": {
          "base_uri": "https://localhost:8080/"
        },
        "outputId": "f255c579-26e6-450b-bd55-e63991a2a395"
      },
      "execution_count": null,
      "outputs": [
        {
          "output_type": "stream",
          "name": "stdout",
          "text": [
            "Mae = 0.10343933358324321\n",
            "mse = 0.020738936840156444\n"
          ]
        }
      ]
    },
    {
      "cell_type": "code",
      "source": [
        "X_train , X_test , Y_train , Y_test = train_test_split(X , Y, test_size = 0.30)\n",
        "lrmodel = LinearRegression()\n",
        "lrmodel.fit(X_train, Y_train)\n",
        "Y_pred = lrmodel.predict(X_test)\n",
        "mae = mean_absolute_error(Y_pred, Y_test)\n",
        "print(f\"Mae = {mae}\")\n",
        "mse = mean_squared_error(Y_pred, Y_test)\n",
        "print(f\"mse = {mse}\")"
      ],
      "metadata": {
        "id": "Hr1J-JugIOeQ",
        "colab": {
          "base_uri": "https://localhost:8080/"
        },
        "outputId": "d7be902c-dfdf-4cab-c7d7-57561265ecd6"
      },
      "execution_count": null,
      "outputs": [
        {
          "output_type": "stream",
          "name": "stdout",
          "text": [
            "Mae = 0.10189225264636702\n",
            "mse = 0.019985015155800992\n"
          ]
        }
      ]
    },
    {
      "cell_type": "code",
      "source": [
        "X_train , X_test , Y_train , Y_test = train_test_split(X , Y, test_size = 0.35)\n",
        "lrmodel = LinearRegression()\n",
        "lrmodel.fit(X_train, Y_train)\n",
        "Y_pred = lrmodel.predict(X_test)\n",
        "mae = mean_absolute_error(Y_pred, Y_test)\n",
        "print(f\"Mae = {mae}\")\n",
        "mse = mean_squared_error(Y_pred, Y_test)\n",
        "print(f\"mse = {mse}\")\n"
      ],
      "metadata": {
        "id": "AVhEXp4QIP8D",
        "colab": {
          "base_uri": "https://localhost:8080/"
        },
        "outputId": "1788521e-d0cc-49c6-fb0b-e4a46cdd4ac9"
      },
      "execution_count": null,
      "outputs": [
        {
          "output_type": "stream",
          "name": "stdout",
          "text": [
            "Mae = 0.10883258914502238\n",
            "mse = 0.021447670465546412\n"
          ]
        }
      ]
    },
    {
      "cell_type": "code",
      "source": [],
      "metadata": {
        "id": "VkfYE_wFIPg4"
      },
      "execution_count": null,
      "outputs": []
    },
    {
      "cell_type": "markdown",
      "source": [
        "Decision Tree Regressor"
      ],
      "metadata": {
        "id": "gkQ5EUiRIP-M"
      }
    },
    {
      "cell_type": "code",
      "source": [
        "d_reg = DecisionTreeRegressor()\n",
        "d_reg.fit(X_train,Y_train)\n",
        "Y_pred = d_reg.predict(X_test)\n",
        "Y_pred\n",
        "mae = mean_absolute_error(Y_pred , Y_test)\n",
        "print(f\"Mae = {mae}\")\n",
        "mse = mean_squared_error(Y_pred, Y_test)\n",
        "print(f\"mse = {mse}\")\n"
      ],
      "metadata": {
        "id": "lvkqdnivXjIu",
        "colab": {
          "base_uri": "https://localhost:8080/"
        },
        "outputId": "670ae171-1558-4c9c-ca64-84848b7bca01"
      },
      "execution_count": null,
      "outputs": [
        {
          "output_type": "stream",
          "name": "stdout",
          "text": [
            "Mae = 0.09305682181384249\n",
            "mse = 0.02342941303989847\n"
          ]
        }
      ]
    },
    {
      "cell_type": "code",
      "source": [
        "X_train , X_test , Y_train , Y_test = train_test_split(X , Y, test_size = 0.25)\n",
        "d_reg = DecisionTreeRegressor()\n",
        "d_reg.fit(X_train,Y_train)\n",
        "Y_pred = d_reg.predict(X_test)\n",
        "Y_pred\n",
        "mae = mean_absolute_error(Y_pred , Y_test)\n",
        "print(f\"Mae = {mae}\")\n",
        "mse = mean_squared_error(Y_pred, Y_test)\n",
        "print(f\"mse = {mse}\")\n"
      ],
      "metadata": {
        "id": "HOUBIbzaIf6p",
        "colab": {
          "base_uri": "https://localhost:8080/"
        },
        "outputId": "8b46c07e-0ce4-42d8-bb2e-624d47d6e359"
      },
      "execution_count": null,
      "outputs": [
        {
          "output_type": "stream",
          "name": "stdout",
          "text": [
            "Mae = 0.08213200909861113\n",
            "mse = 0.020573664390537785\n"
          ]
        }
      ]
    },
    {
      "cell_type": "code",
      "source": [
        "X_train , X_test , Y_train , Y_test = train_test_split(X , Y, test_size = 0.30)\n",
        "d_reg = DecisionTreeRegressor()\n",
        "d_reg.fit(X_train,Y_train)\n",
        "Y_pred = d_reg.predict(X_test)\n",
        "Y_pred\n",
        "mae = mean_absolute_error(Y_pred , Y_test)\n",
        "print(f\"Mae = {mae}\")\n",
        "mse = mean_squared_error(Y_pred, Y_test)\n",
        "print(f\"mse = {mse}\")"
      ],
      "metadata": {
        "id": "H21OrHQyIhDk",
        "colab": {
          "base_uri": "https://localhost:8080/"
        },
        "outputId": "29b9d65c-0763-4f1a-afbf-e417b7bd1d94"
      },
      "execution_count": null,
      "outputs": [
        {
          "output_type": "stream",
          "name": "stdout",
          "text": [
            "Mae = 0.09409316947268519\n",
            "mse = 0.025991788411543135\n"
          ]
        }
      ]
    },
    {
      "cell_type": "code",
      "source": [
        "X_train , X_test , Y_train , Y_test = train_test_split(X , Y, test_size = 0.35)\n",
        "d_reg = DecisionTreeRegressor()\n",
        "d_reg.fit(X_train,Y_train)\n",
        "Y_pred = d_reg.predict(X_test)\n",
        "Y_pred\n",
        "mae = mean_absolute_error(Y_pred , Y_test)\n",
        "print(f\"Mae = {mae}\")\n",
        "mse = mean_squared_error(Y_pred, Y_test)\n",
        "print(f\"mse = {mse}\")"
      ],
      "metadata": {
        "id": "tYzW0F4QIfmY",
        "colab": {
          "base_uri": "https://localhost:8080/"
        },
        "outputId": "a00a33d6-a850-4855-fd94-94d997b228e0"
      },
      "execution_count": null,
      "outputs": [
        {
          "output_type": "stream",
          "name": "stdout",
          "text": [
            "Mae = 0.09881940373906126\n",
            "mse = 0.028922952148366397\n"
          ]
        }
      ]
    },
    {
      "cell_type": "markdown",
      "source": [
        "Random Forest Regressor"
      ],
      "metadata": {
        "id": "IcoZdkQ2ILcR"
      }
    },
    {
      "cell_type": "code",
      "source": [
        "rfr = RandomForestRegressor()\n",
        "rfr.fit(X_train,Y_train)\n",
        "Y_pred = rfr.predict(X_test)\n",
        "Y_pred\n",
        "mae = mean_absolute_error(Y_pred , Y_test)\n",
        "print(f\"Mae = {mae}\")\n",
        "mse = mean_squared_error(Y_pred, Y_test)\n",
        "print(f\"mse = {mse}\")"
      ],
      "metadata": {
        "id": "lHAU4CaJBAwb",
        "colab": {
          "base_uri": "https://localhost:8080/"
        },
        "outputId": "d5b6acf6-4dcc-4b95-8c1a-a5b8db6b81fe"
      },
      "execution_count": null,
      "outputs": [
        {
          "output_type": "stream",
          "name": "stdout",
          "text": [
            "Mae = 0.0776579676340496\n",
            "mse = 0.01570121770338763\n"
          ]
        }
      ]
    },
    {
      "cell_type": "code",
      "source": [
        "X_train , X_test , Y_train , Y_test = train_test_split(X , Y, test_size = 0.25)\n",
        "rfr = RandomForestRegressor()\n",
        "rfr.fit(X_train,Y_train)\n",
        "Y_pred = rfr.predict(X_test)\n",
        "Y_pred\n",
        "mae = mean_absolute_error(Y_pred , Y_test)\n",
        "print(f\"Mae = {mae}\")\n",
        "mse = mean_squared_error(Y_pred, Y_test)\n",
        "print(f\"mse = {mse}\")"
      ],
      "metadata": {
        "id": "3yycKiUVJIAG",
        "colab": {
          "base_uri": "https://localhost:8080/"
        },
        "outputId": "db7645e1-76ff-49e9-e7d7-6684d2f74bd4"
      },
      "execution_count": null,
      "outputs": [
        {
          "output_type": "stream",
          "name": "stdout",
          "text": [
            "Mae = 0.07842874889803038\n",
            "mse = 0.015371831078088623\n"
          ]
        }
      ]
    },
    {
      "cell_type": "code",
      "source": [
        "X_train , X_test , Y_train , Y_test = train_test_split(X , Y, test_size = 0.30)\n",
        "rfr = RandomForestRegressor()\n",
        "rfr.fit(X_train,Y_train)\n",
        "Y_pred = rfr.predict(X_test)\n",
        "Y_pred\n",
        "mae = mean_absolute_error(Y_pred , Y_test)\n",
        "print(f\"Mae = {mae}\")\n",
        "mse = mean_squared_error(Y_pred, Y_test)\n",
        "print(f\"mse = {mse}\")"
      ],
      "metadata": {
        "id": "1m1Ln8h6JH0j",
        "colab": {
          "base_uri": "https://localhost:8080/"
        },
        "outputId": "a1579e28-8dc6-479d-9066-39f7d987f40f"
      },
      "execution_count": null,
      "outputs": [
        {
          "output_type": "stream",
          "name": "stdout",
          "text": [
            "Mae = 0.07269489695811261\n",
            "mse = 0.014896423140963603\n"
          ]
        }
      ]
    },
    {
      "cell_type": "code",
      "source": [
        "X_train , X_test , Y_train , Y_test = train_test_split(X , Y, test_size = 0.35)\n",
        "rfr = RandomForestRegressor()\n",
        "rfr.fit(X_train,Y_train)\n",
        "Y_pred = rfr.predict(X_test)\n",
        "Y_pred\n",
        "mae = mean_absolute_error(Y_pred , Y_test)\n",
        "print(f\"Mae = {mae}\")\n",
        "mse = mean_squared_error(Y_pred, Y_test)\n",
        "print(f\"mse = {mse}\")"
      ],
      "metadata": {
        "id": "dhUmdiIkJHnu",
        "colab": {
          "base_uri": "https://localhost:8080/"
        },
        "outputId": "97c7fd6f-3da0-42b8-973c-0be8e9b88515"
      },
      "execution_count": null,
      "outputs": [
        {
          "output_type": "stream",
          "name": "stdout",
          "text": [
            "Mae = 0.07462120909869058\n",
            "mse = 0.015596585712152665\n"
          ]
        }
      ]
    },
    {
      "cell_type": "code",
      "source": [],
      "metadata": {
        "id": "H7rGQWzEdb83"
      },
      "execution_count": null,
      "outputs": []
    },
    {
      "cell_type": "markdown",
      "source": [
        "Support vector Regressor"
      ],
      "metadata": {
        "id": "Gz3deQy0HytQ"
      }
    },
    {
      "cell_type": "code",
      "source": [
        "from sklearn.svm import SVR\n",
        "s_reg = SVR()\n",
        "s_reg.fit(X_train,Y_train)\n",
        "Y_pred = s_reg.predict(X_test)\n",
        "Y_pred\n",
        "mae = mean_absolute_error(Y_pred , Y_test)\n",
        "print(f\"Mae = {mae}\")\n",
        "mse = mean_squared_error(Y_pred, Y_test)\n",
        "print(f\"mse = {mse}\")\n"
      ],
      "metadata": {
        "id": "0_FpJe7NFegf",
        "colab": {
          "base_uri": "https://localhost:8080/"
        },
        "outputId": "9bd6c296-5d1c-4a84-80ca-1fc04ca31eac"
      },
      "execution_count": null,
      "outputs": [
        {
          "output_type": "stream",
          "name": "stdout",
          "text": [
            "Mae = 0.13424446904220322\n",
            "mse = 0.031222923038842755\n"
          ]
        }
      ]
    },
    {
      "cell_type": "code",
      "source": [
        "X_train , X_test , Y_train , Y_test = train_test_split(X , Y, test_size = 0.25)\n",
        "s_reg = SVR()\n",
        "s_reg.fit(X_train,Y_train)\n",
        "Y_pred = s_reg.predict(X_test)\n",
        "Y_pred\n",
        "mae = mean_absolute_error(Y_pred , Y_test)\n",
        "print(f\"Mae = {mae}\")\n",
        "mse = mean_squared_error(Y_pred, Y_test)\n",
        "print(f\"mse = {mse}\")"
      ],
      "metadata": {
        "id": "d3Q6RONEKioY",
        "colab": {
          "base_uri": "https://localhost:8080/"
        },
        "outputId": "03c9a811-d044-42d4-8154-ad7b01585e08"
      },
      "execution_count": null,
      "outputs": [
        {
          "output_type": "stream",
          "name": "stdout",
          "text": [
            "Mae = 0.1254614750583554\n",
            "mse = 0.026525675072420374\n"
          ]
        }
      ]
    },
    {
      "cell_type": "code",
      "source": [
        "X_train , X_test , Y_train , Y_test = train_test_split(X , Y, test_size = 0.30)\n",
        "s_reg = SVR()\n",
        "s_reg.fit(X_train,Y_train)\n",
        "Y_pred = s_reg.predict(X_test)\n",
        "Y_pred\n",
        "mae = mean_absolute_error(Y_pred , Y_test)\n",
        "print(f\"Mae = {mae}\")\n",
        "mse = mean_squared_error(Y_pred, Y_test)\n",
        "print(f\"mse = {mse}\")\n"
      ],
      "metadata": {
        "id": "PAJex-uEKicS",
        "colab": {
          "base_uri": "https://localhost:8080/"
        },
        "outputId": "6b00fba6-4652-4eb1-a3f8-03dfe2fbe8a0"
      },
      "execution_count": null,
      "outputs": [
        {
          "output_type": "stream",
          "name": "stdout",
          "text": [
            "Mae = 0.12907064340648083\n",
            "mse = 0.027738919157042515\n"
          ]
        }
      ]
    },
    {
      "cell_type": "code",
      "source": [
        "X_train , X_test , Y_train , Y_test = train_test_split(X , Y, test_size = 0.35)\n",
        "s_reg = SVR()\n",
        "s_reg.fit(X_train,Y_train)\n",
        "Y_pred = s_reg.predict(X_test)\n",
        "Y_pred\n",
        "mae = mean_absolute_error(Y_pred , Y_test)\n",
        "print(f\"Mae = {mae}\")\n",
        "mse = mean_squared_error(Y_pred, Y_test)\n",
        "print(f\"mse = {mse}\")\n"
      ],
      "metadata": {
        "id": "RO8V827AKiOx",
        "colab": {
          "base_uri": "https://localhost:8080/"
        },
        "outputId": "8ea45b18-f57f-4149-e6f3-624f37ea172f"
      },
      "execution_count": null,
      "outputs": [
        {
          "output_type": "stream",
          "name": "stdout",
          "text": [
            "Mae = 0.12197191637703299\n",
            "mse = 0.026454490894191555\n"
          ]
        }
      ]
    },
    {
      "cell_type": "markdown",
      "source": [
        "KNeighborsRegressor"
      ],
      "metadata": {
        "id": "3M8BB59OHjrw"
      }
    },
    {
      "cell_type": "code",
      "source": [
        "k_reg = KNeighborsRegressor(n_neighbors=2)\n",
        "k_reg.fit(X_train,Y_train)\n",
        "Y_pred = k_reg.predict(X_test)\n",
        "Y_pred\n",
        "mae = mean_absolute_error(Y_pred , Y_test)\n",
        "print(f\"Mae = {mae}\")\n",
        "mse = mean_squared_error(Y_pred, Y_test)\n",
        "print(f\"mse = {mse}\")"
      ],
      "metadata": {
        "id": "3MlgJGKl22cD",
        "colab": {
          "base_uri": "https://localhost:8080/"
        },
        "outputId": "273f4f6a-a2e0-4d93-aa2e-46d56fef31a2"
      },
      "execution_count": null,
      "outputs": [
        {
          "output_type": "stream",
          "name": "stdout",
          "text": [
            "Mae = 0.1217425861718377\n",
            "mse = 0.028986627989830274\n"
          ]
        }
      ]
    },
    {
      "cell_type": "code",
      "source": [
        "X_train , X_test , Y_train , Y_test = train_test_split(X , Y, test_size = 0.25)\n",
        "k_reg = KNeighborsRegressor(n_neighbors=2)\n",
        "k_reg.fit(X_train,Y_train)\n",
        "Y_pred = k_reg.predict(X_test)\n",
        "Y_pred\n",
        "mae = mean_absolute_error(Y_pred , Y_test)\n",
        "print(f\"Mae = {mae}\")\n",
        "mse = mean_squared_error(Y_pred, Y_test)\n",
        "print(f\"mse = {mse}\")\n"
      ],
      "metadata": {
        "id": "l5oqMyka36OJ",
        "colab": {
          "base_uri": "https://localhost:8080/"
        },
        "outputId": "6272b702-7be4-44a5-a2fb-8841a541b7f4"
      },
      "execution_count": null,
      "outputs": [
        {
          "output_type": "stream",
          "name": "stdout",
          "text": [
            "Mae = 0.12788762550333332\n",
            "mse = 0.03357478124926371\n"
          ]
        }
      ]
    },
    {
      "cell_type": "code",
      "source": [
        "X_train , X_test , Y_train , Y_test = train_test_split(X , Y, test_size = 0.30)\n",
        "k_reg = KNeighborsRegressor(n_neighbors=2)\n",
        "k_reg.fit(X_train,Y_train)\n",
        "Y_pred = k_reg.predict(X_test)\n",
        "Y_pred\n",
        "mae = mean_absolute_error(Y_pred , Y_test)\n",
        "print(f\"Mae = {mae}\")\n",
        "mse = mean_squared_error(Y_pred, Y_test)\n",
        "print(f\"mse = {mse}\")"
      ],
      "metadata": {
        "id": "i_tOQaz136Fk",
        "colab": {
          "base_uri": "https://localhost:8080/"
        },
        "outputId": "dff7f249-81a0-4bcc-9e83-def15a5a14aa"
      },
      "execution_count": null,
      "outputs": [
        {
          "output_type": "stream",
          "name": "stdout",
          "text": [
            "Mae = 0.12802731342361112\n",
            "mse = 0.03244120954500071\n"
          ]
        }
      ]
    },
    {
      "cell_type": "code",
      "source": [
        "X_train , X_test , Y_train , Y_test = train_test_split(X , Y, test_size = 0.35)\n",
        "k_reg = KNeighborsRegressor(n_neighbors=2)\n",
        "k_reg.fit(X_train,Y_train)\n",
        "Y_pred = k_reg.predict(X_test)\n",
        "Y_pred\n",
        "mae = mean_absolute_error(Y_pred , Y_test)\n",
        "print(f\"Mae = {mae}\")\n",
        "mse = mean_squared_error(Y_pred, Y_test)\n",
        "print(f\"mse = {mse}\")\n"
      ],
      "metadata": {
        "id": "CU41TwJU36CK",
        "colab": {
          "base_uri": "https://localhost:8080/"
        },
        "outputId": "dfaf95c1-9dcc-4501-e2c7-c623270ce2ff"
      },
      "execution_count": null,
      "outputs": [
        {
          "output_type": "stream",
          "name": "stdout",
          "text": [
            "Mae = 0.12934799198329355\n",
            "mse = 0.03365569627068388\n"
          ]
        }
      ]
    },
    {
      "cell_type": "code",
      "source": [],
      "metadata": {
        "id": "0IistjEozmdL"
      },
      "execution_count": null,
      "outputs": []
    },
    {
      "cell_type": "code",
      "source": [],
      "metadata": {
        "id": "5ySX3N0azLQS"
      },
      "execution_count": null,
      "outputs": []
    }
  ]
}